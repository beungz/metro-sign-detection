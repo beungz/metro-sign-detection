{
 "cells": [
  {
   "cell_type": "code",
   "execution_count": 1,
   "id": "b1190088",
   "metadata": {},
   "outputs": [],
   "source": [
    "from scripts.make_dataset import remove_corrupted_duplicates_and_rename_images, split_dataset, crop_augment_images_for_svc, split_dataset_for_svc\n",
    "from scripts.build_features import build_features_svc\n",
    "from scripts.model import train_yolo, train_svc, predict_naive_evaluate_test_set\n",
    "\n",
    "from scripts.model import predict_yolo_single_image, predict_svc_single_image\n",
    "from ultralytics import YOLO\n",
    "import cv2\n",
    "import joblib\n",
    "import os\n",
    "from PIL import Image\n",
    "import matplotlib.pyplot as plt"
   ]
  },
  {
   "cell_type": "code",
   "execution_count": 2,
   "id": "b51e87c1",
   "metadata": {},
   "outputs": [
    {
     "name": "stdout",
     "output_type": "stream",
     "text": [
      "Duplicate: data\\raw\\National_Stadium\\National-Stadium-Google-Maps(13).png\n",
      "Duplicate: data\\raw\\National_Stadium\\National-Stadium-Google-Maps(18).png\n",
      "Duplicate: data\\raw\\National_Stadium\\National-Stadium-Google-Maps(37).png\n",
      "Duplicate: data\\raw\\National_Stadium\\National-Stadium-Google-Maps(38).png\n",
      "Duplicate: data\\raw\\National_Stadium\\National-Stadium-Google-Maps(39).png\n",
      "Duplicate: data\\raw\\National_Stadium\\National-Stadium-Google-Maps(44).png\n",
      "Duplicate: data\\raw\\National_Stadium\\National-Stadium-Google-Maps(45).png\n",
      "Duplicate: data\\raw\\National_Stadium\\National-Stadium-Google-Maps(53).png\n",
      "Duplicate: data\\raw\\National_Stadium\\National-Stadium-Google-Maps(55).png\n",
      "Duplicate: data\\raw\\National_Stadium\\National-Stadium-Google-Maps(59).png\n",
      "Duplicate: data\\raw\\National_Stadium\\National-Stadium-Google-Maps(62).png\n",
      "Duplicate: data\\raw\\National_Stadium\\National-Stadium-Google-Maps(63).png\n",
      "Duplicate: data\\raw\\National_Stadium\\National-Stadium-Google-Maps(65).png\n",
      "Duplicate: data\\raw\\National_Stadium\\National-Stadium-Google-Maps(66).png\n",
      "Duplicate: data\\raw\\National_Stadium\\National-Stadium-Google-Maps(67).png\n",
      "Duplicate: data\\raw\\National_Stadium\\National-Stadium-Google-Maps(70).png\n",
      "Duplicate: data\\raw\\National_Stadium\\National-Stadium-Google-Maps(71).png\n",
      "Duplicate: data\\raw\\National_Stadium\\National-Stadium-Google-Maps(74).png\n",
      "Duplicate: data\\raw\\National_Stadium\\National-Stadium-Google-Maps(75).png\n",
      "Duplicate: data\\raw\\National_Stadium\\National-Stadium-Google-Maps(76).png\n",
      "Duplicate: data\\raw\\National_Stadium\\National-Stadium-Google-Maps(77).png\n",
      "Duplicate: data\\raw\\National_Stadium\\National-Stadium-Google-Maps(78).png\n",
      "Duplicate: data\\raw\\National_Stadium\\National-Stadium-Google-Maps(8).png\n",
      "Duplicate: data\\raw\\National_Stadium\\National-Stadium-Google-Maps(80).png\n",
      "Duplicate: data\\raw\\National_Stadium\\National-Stadium-Google-Maps(81).png\n",
      "Duplicate: data\\raw\\National_Stadium\\National-Stadium-Google-Maps(82).png\n",
      "Duplicate: data\\raw\\National_Stadium\\National-Stadium-Google-Maps(83).png\n",
      "Duplicate: data\\raw\\National_Stadium\\National-Stadium-Google-Maps(84).png\n",
      "Duplicate: data\\raw\\National_Stadium\\National-Stadium-Google-Maps(87).png\n",
      "Duplicate: data\\raw\\National_Stadium\\National-Stadium-Google-Maps(9).png\n",
      "Duplicate: data\\raw\\National_Stadium\\National-Stadium-Google-Maps(94).png\n",
      "Duplicate: data\\raw\\National_Stadium\\National-Stadium-Google-Maps(95).png\n",
      "Duplicate: data\\raw\\National_Stadium\\National-Stadium-Google-Maps(96).png\n",
      "Duplicate: data\\raw\\National_Stadium\\National-Stadium-Google-Maps.png\n",
      "Duplicate: data\\raw\\Ratchadamri\\Ratchadamri-Google-Maps(20).png\n",
      "Duplicate: data\\raw\\Ratchadamri\\Ratchadamri-Google-Maps(21).png\n",
      "Duplicate: data\\raw\\Ratchadamri\\Ratchadamri-Google-Maps(25).png\n",
      "Duplicate: data\\raw\\Ratchadamri\\Ratchadamri-Google-Maps(26).png\n",
      "Duplicate: data\\raw\\Ratchadamri\\Ratchadamri-Google-Maps(36).png\n",
      "Duplicate: data\\raw\\Ratchadamri\\Ratchadamri-Google-Maps(37).png\n",
      "Duplicate: data\\raw\\Ratchadamri\\Ratchadamri-Google-Maps(62).png\n",
      "Duplicate: data\\raw\\Ratchadamri\\Ratchadamri-Google-Maps(72).png\n",
      "Duplicate: data\\raw\\Ratchadamri\\Ratchadamri-Google-Maps(73).png\n",
      "Duplicate: data\\raw\\Ratchadamri\\Ratchadamri-Google-Maps(75).png\n",
      "Duplicate: data\\raw\\Ratchadamri\\Ratchadamri-Google-Maps(76).png\n",
      "Duplicate: data\\raw\\Ratchadamri\\Ratchadamri-Google-Maps(78).png\n",
      "Duplicate: data\\raw\\Ratchadamri\\Ratchadamri-Google-Maps(79).png\n",
      "Duplicate: data\\raw\\Ratchadamri\\Ratchadamri-Google-Maps(80).png\n",
      "Duplicate: data\\raw\\Ratchadamri\\Ratchadamri-Google-Maps(81).png\n",
      "Duplicate: data\\raw\\Ratchadamri\\Ratchadamri-Google-Maps(82).png\n",
      "Duplicate: data\\raw\\Ratchadamri\\Ratchadamri-Google-Maps(85).png\n",
      "Duplicate: data\\raw\\Ratchadamri\\Ratchadamri-Google-Maps(86).png\n",
      "Duplicate: data\\raw\\Ratchadamri\\Ratchadamri-Google-Maps(87).png\n",
      "Duplicate: data\\raw\\Sala_Daeng\\Sala-Daeng-BTS-Station-Google-Maps(43).png\n",
      "Duplicate: data\\raw\\Sala_Daeng\\Sala-Daeng-BTS-Station-Google-Maps(44).png\n",
      "Duplicate: data\\raw\\Sala_Daeng\\Sala-Daeng-BTS-Station-Google-Maps(45).png\n",
      "Duplicate: data\\raw\\Sala_Daeng\\Sala-Daeng-BTS-Station-Google-Maps(48).png\n",
      "Duplicate: data\\raw\\Sala_Daeng\\Sala-Daeng-BTS-Station-Google-Maps(49).png\n",
      "Duplicate: data\\raw\\Sala_Daeng\\Sala-Daeng-BTS-Station-Google-Maps(50).png\n",
      "Duplicate: data\\raw\\Sala_Daeng\\Sala-Daeng-BTS-Station-Google-Maps(52).png\n",
      "Duplicate: data\\raw\\Sala_Daeng\\Sala-Daeng-BTS-Station-Google-Maps(53).png\n",
      "Duplicate: data\\raw\\Sala_Daeng\\Sala-Daeng-BTS-Station-Google-Maps(54).png\n",
      "Duplicate: data\\raw\\Sala_Daeng\\Sala-Daeng-BTS-Station-Google-Maps(58).png\n",
      "Duplicate: data\\raw\\Sala_Daeng\\Sala-Daeng-BTS-Station-Google-Maps(60).png\n",
      "Duplicate: data\\raw\\Sala_Daeng\\Sala-Daeng-BTS-Station-Google-Maps(61).png\n",
      "Duplicate: data\\raw\\Sala_Daeng\\Sala-Daeng-BTS-Station-Google-Maps(62).png\n",
      "Duplicate: data\\raw\\Sala_Daeng\\Sala-Daeng-BTS-Station-Google-Maps(63).png\n",
      "Duplicate: data\\raw\\Sala_Daeng\\Sala-Daeng-BTS-Station-Google-Maps(64).png\n",
      "Duplicate: data\\raw\\Sala_Daeng\\Sala-Daeng-BTS-Station-Google-Maps(66).png\n",
      "Duplicate: data\\raw\\Sala_Daeng\\Sala-Daeng-BTS-Station-Google-Maps(74).png\n",
      "Duplicate: data\\raw\\Sala_Daeng\\Sala-Daeng-BTS-Station-Google-Maps(75).png\n",
      "Duplicate: data\\raw\\Sala_Daeng\\Sala-Daeng-BTS-Station-Google-Maps(86).png\n",
      "Duplicate: data\\raw\\Sala_Daeng\\Sala-Daeng-BTS-Station-Google-Maps(90).png\n",
      "Duplicate: data\\raw\\Sala_Daeng\\Sala-Daeng-BTS-Station-Google-Maps(91).png\n",
      "Duplicate: data\\raw\\Sala_Daeng\\Sala-Daeng-BTS-Station-Google-Maps(92).png\n",
      "Duplicate: data\\raw\\Sala_Daeng\\Sala-Daeng-BTS-Station-Google-Maps(93).png\n",
      "Duplicate: data\\raw\\Sala_Daeng\\Sala-Daeng-BTS-Station-Google-Maps(95).png\n",
      "Duplicate: data\\raw\\Surasak\\station-Surasak-Google-Maps.png\n",
      "Duplicate: data\\raw\\Surasak\\Surasak-Google-Maps(47).png\n",
      "Duplicate: data\\raw\\Surasak\\Surasak-Google-Maps(48).png\n",
      "Duplicate: data\\raw\\Surasak\\Surasak-Google-Maps(49).png\n",
      "Duplicate: data\\raw\\Surasak\\Surasak-Google-Maps(51).png\n",
      "Duplicate: data\\raw\\Surasak\\Surasak-Google-Maps(52).png\n",
      "Duplicate: data\\raw\\Surasak\\Surasak-Google-Maps(53).png\n",
      "Duplicate: data\\raw\\Surasak\\Surasak-Google-Maps(54).png\n",
      "Duplicate: data\\raw\\Surasak\\Surasak-Google-Maps(55).png\n",
      "Duplicate: data\\raw\\Surasak\\Surasak-Google-Maps(56).png\n",
      "Duplicate: data\\raw\\Surasak\\Surasak-Google-Maps(57).png\n",
      "Duplicate: data\\raw\\Surasak\\Surasak-Google-Maps(59).png\n",
      "Duplicate: data\\raw\\Surasak\\Surasak-Google-Maps(6).png\n",
      "Duplicate: data\\raw\\Surasak\\Surasak-Google-Maps(60).png\n",
      "Duplicate: data\\raw\\Surasak\\Surasak-Google-Maps(61).png\n",
      "Duplicate: data\\raw\\Surasak\\Surasak-Google-Maps(62).png\n",
      "Duplicate: data\\raw\\Surasak\\Surasak-Google-Maps(63).png\n",
      "Duplicate: data\\raw\\Surasak\\Surasak-Google-Maps.png\n",
      "889 unique, valid images are processed and copied to data/processed_before_roboflow folder.\n"
     ]
    }
   ],
   "source": [
    "# A. Get Dataset\n",
    "\n",
    "# Step A1: Gather the raw dataset from Google Maps\n",
    "# Gather images with metro station signages from Google Maps/Photos (approx 100 photos per station) and save them in the data/raw folder.\n",
    "\n",
    "# List of station folder names corresponding to the 8 stations in the BTS Silom Line (Dark Green Line without extension)\n",
    "station_folder_name = [\n",
    "    \"Siam\",\n",
    "    \"National_Stadium\", \n",
    "    \"Ratchadamri\", \n",
    "    \"Sala_Daeng\", \n",
    "    \"Chong_Nonsi\", \n",
    "    \"Saint_Louis\", \n",
    "    \"Surasak\", \n",
    "    \"Saphan_Taksin\"\n",
    "]\n",
    "\n",
    "# Step A2: Remove corrupted images, duplicates, and rename images, then save them in the data/processed_before_roboflow folder\n",
    "# This step was done before uploading to Roboflow, so it should be commented out if the annotated dataset exported from Roboflow is ready for the next step.\n",
    "remove_corrupted_duplicates_and_rename_images(station_folder_name)\n",
    "\n",
    "# Step A3: Upload the dataset to Roboflow, annotate the images, draw bounding boxes manually, and then export the dataset in YOLO format.\n",
    "# Put the exported dataset in the data/processed folder."
   ]
  },
  {
   "cell_type": "code",
   "execution_count": 3,
   "id": "0c58a71b",
   "metadata": {},
   "outputs": [
    {
     "name": "stdout",
     "output_type": "stream",
     "text": [
      "Stratified split complete.\n"
     ]
    }
   ],
   "source": [
    "# Step A4: Split the dataset into training, validation, and test sets, then save them in the data/outputs folder.\n",
    "split_dataset(station_folder_name)"
   ]
  },
  {
   "cell_type": "code",
   "execution_count": 4,
   "id": "40d3f34e",
   "metadata": {},
   "outputs": [
    {
     "name": "stdout",
     "output_type": "stream",
     "text": [
      "[train] Extracted 1059 cropped signage images.\n",
      "[train] Skipped images (too small):\n",
      "  Chong_Nonsi: 3 skipped\n",
      "  National_Stadium: 8 skipped\n",
      "  Ratchadamri: 6 skipped\n",
      "  Saint_Louis: 3 skipped\n",
      "  Sala_Daeng: 8 skipped\n",
      "  Saphan_Taksin: 0 skipped\n",
      "  Siam: 7 skipped\n",
      "  Surasak: 2 skipped\n",
      "[valid] Extracted 129 cropped signage images.\n",
      "[valid] Skipped images (too small):\n",
      "  Chong_Nonsi: 0 skipped\n",
      "  National_Stadium: 2 skipped\n",
      "  Ratchadamri: 2 skipped\n",
      "  Saint_Louis: 0 skipped\n",
      "  Sala_Daeng: 1 skipped\n",
      "  Saphan_Taksin: 0 skipped\n",
      "  Siam: 0 skipped\n",
      "  Surasak: 0 skipped\n",
      "[test] Extracted 139 cropped signage images.\n",
      "[test] Skipped images (too small):\n",
      "  Chong_Nonsi: 0 skipped\n",
      "  National_Stadium: 0 skipped\n",
      "  Ratchadamri: 1 skipped\n",
      "  Saint_Louis: 1 skipped\n",
      "  Sala_Daeng: 0 skipped\n",
      "  Saphan_Taksin: 0 skipped\n",
      "  Siam: 3 skipped\n",
      "  Surasak: 1 skipped\n"
     ]
    }
   ],
   "source": [
    "# List of labels/folders corresponding to YOLO class IDs (folder names have underscores while YOLO class IDs do not)\n",
    "label_map = {\n",
    "    0: 'Chong_Nonsi', \n",
    "    1: 'National_Stadium',\n",
    "    2: 'Ratchadamri', \n",
    "    3: 'Saint_Louis', \n",
    "    4: 'Sala_Daeng', \n",
    "    5: 'Saphan_Taksin', \n",
    "    6: 'Siam', \n",
    "    7: 'Surasak'\n",
    "}\n",
    "\n",
    "# Step A5: Crop the images in the training, validation, and test sets to create a new dataset with only the metro station signage. This is for the SVC model.\n",
    "crop_augment_images_for_svc(label_map)"
   ]
  },
  {
   "cell_type": "code",
   "execution_count": 5,
   "id": "9b472aff",
   "metadata": {},
   "outputs": [
    {
     "name": "stdout",
     "output_type": "stream",
     "text": [
      "[RESULT] train: 6354 samples\n",
      "[RESULT] valid: 774 samples\n",
      "[RESULT] test: 834 samples\n"
     ]
    }
   ],
   "source": [
    "# Step A6: Build features and labels for SVC model\n",
    "features_by_split, labels_by_split = build_features_svc()"
   ]
  },
  {
   "cell_type": "code",
   "execution_count": 10,
   "id": "064890a6",
   "metadata": {},
   "outputs": [],
   "source": [
    "# Step A7: Prepare the training and test data for SVC model\n",
    "X_train_full_scaled, y_train_full, X_test_scaled, y_test = split_dataset_for_svc(features_by_split, labels_by_split)"
   ]
  },
  {
   "cell_type": "code",
   "execution_count": 11,
   "id": "0fe328eb",
   "metadata": {},
   "outputs": [
    {
     "name": "stdout",
     "output_type": "stream",
     "text": [
      "New https://pypi.org/project/ultralytics/8.3.152 available  Update with 'pip install -U ultralytics'\n",
      "Ultralytics 8.3.150  Python-3.10.11 torch-2.2.0+cu118 CUDA:0 (NVIDIA GeForce RTX 4060 Laptop GPU, 8188MiB)\n",
      "\u001b[34m\u001b[1mengine\\trainer: \u001b[0magnostic_nms=False, amp=True, augment=True, auto_augment=randaugment, batch=16, bgr=0.0, box=7.5, cache=False, cfg=None, classes=None, close_mosaic=10, cls=0.5, conf=None, copy_paste=0.0, copy_paste_mode=flip, cos_lr=False, cutmix=0.0, data=data/outputs/data.yaml, degrees=0.0, deterministic=True, device=0, dfl=1.5, dnn=False, dropout=0.0, dynamic=False, embed=None, epochs=200, erasing=0.4, exist_ok=False, fliplr=0.5, flipud=0.0, format=torchscript, fraction=1.0, freeze=None, half=False, hsv_h=0.015, hsv_s=0.7, hsv_v=0.4, imgsz=960, int8=False, iou=0.7, keras=False, kobj=1.0, line_width=None, lr0=0.01, lrf=0.01, mask_ratio=4, max_det=300, mixup=0.0, mode=train, model=yolov8n.pt, momentum=0.937, mosaic=1.0, multi_scale=False, name=training_results, nbs=64, nms=False, opset=None, optimize=False, optimizer=auto, overlap_mask=True, patience=100, perspective=0.0, plots=True, pose=12.0, pretrained=True, profile=False, project=models/deep_learning, rect=False, resume=False, retina_masks=False, save=True, save_conf=False, save_crop=False, save_dir=models\\deep_learning\\training_results, save_frames=False, save_json=False, save_period=-1, save_txt=False, scale=0.5, seed=0, shear=0.0, show=False, show_boxes=True, show_conf=True, show_labels=True, simplify=True, single_cls=False, source=None, split=val, stream_buffer=False, task=detect, time=None, tracker=botsort.yaml, translate=0.1, val=True, verbose=True, vid_stride=1, visualize=False, warmup_bias_lr=0.1, warmup_epochs=3.0, warmup_momentum=0.8, weight_decay=0.0005, workers=8, workspace=None\n",
      "Overriding model.yaml nc=80 with nc=8\n",
      "\n",
      "                   from  n    params  module                                       arguments                     \n",
      "  0                  -1  1       464  ultralytics.nn.modules.conv.Conv             [3, 16, 3, 2]                 \n",
      "  1                  -1  1      4672  ultralytics.nn.modules.conv.Conv             [16, 32, 3, 2]                \n",
      "  2                  -1  1      7360  ultralytics.nn.modules.block.C2f             [32, 32, 1, True]             \n",
      "  3                  -1  1     18560  ultralytics.nn.modules.conv.Conv             [32, 64, 3, 2]                \n",
      "  4                  -1  2     49664  ultralytics.nn.modules.block.C2f             [64, 64, 2, True]             \n",
      "  5                  -1  1     73984  ultralytics.nn.modules.conv.Conv             [64, 128, 3, 2]               \n",
      "  6                  -1  2    197632  ultralytics.nn.modules.block.C2f             [128, 128, 2, True]           \n",
      "  7                  -1  1    295424  ultralytics.nn.modules.conv.Conv             [128, 256, 3, 2]              \n",
      "  8                  -1  1    460288  ultralytics.nn.modules.block.C2f             [256, 256, 1, True]           \n",
      "  9                  -1  1    164608  ultralytics.nn.modules.block.SPPF            [256, 256, 5]                 \n",
      " 10                  -1  1         0  torch.nn.modules.upsampling.Upsample         [None, 2, 'nearest']          \n",
      " 11             [-1, 6]  1         0  ultralytics.nn.modules.conv.Concat           [1]                           \n",
      " 12                  -1  1    148224  ultralytics.nn.modules.block.C2f             [384, 128, 1]                 \n",
      " 13                  -1  1         0  torch.nn.modules.upsampling.Upsample         [None, 2, 'nearest']          \n",
      " 14             [-1, 4]  1         0  ultralytics.nn.modules.conv.Concat           [1]                           \n",
      " 15                  -1  1     37248  ultralytics.nn.modules.block.C2f             [192, 64, 1]                  \n",
      " 16                  -1  1     36992  ultralytics.nn.modules.conv.Conv             [64, 64, 3, 2]                \n",
      " 17            [-1, 12]  1         0  ultralytics.nn.modules.conv.Concat           [1]                           \n",
      " 18                  -1  1    123648  ultralytics.nn.modules.block.C2f             [192, 128, 1]                 \n",
      " 19                  -1  1    147712  ultralytics.nn.modules.conv.Conv             [128, 128, 3, 2]              \n",
      " 20             [-1, 9]  1         0  ultralytics.nn.modules.conv.Concat           [1]                           \n",
      " 21                  -1  1    493056  ultralytics.nn.modules.block.C2f             [384, 256, 1]                 \n",
      " 22        [15, 18, 21]  1    752872  ultralytics.nn.modules.head.Detect           [8, [64, 128, 256]]           \n",
      "Model summary: 129 layers, 3,012,408 parameters, 3,012,392 gradients, 8.2 GFLOPs\n",
      "\n",
      "Transferred 319/355 items from pretrained weights\n",
      "Freezing layer 'model.22.dfl.conv.weight'\n",
      "\u001b[34m\u001b[1mAMP: \u001b[0mrunning Automatic Mixed Precision (AMP) checks...\n",
      "Downloading https://github.com/ultralytics/assets/releases/download/v8.3.0/yolo11n.pt to 'yolo11n.pt'...\n"
     ]
    },
    {
     "name": "stderr",
     "output_type": "stream",
     "text": [
      "100%|██████████| 5.35M/5.35M [00:00<00:00, 8.79MB/s]\n",
      "c:\\Users\\beung-yoga\\Documents\\GitHub4\\.venv\\lib\\site-packages\\tqdm\\auto.py:21: TqdmWarning: IProgress not found. Please update jupyter and ipywidgets. See https://ipywidgets.readthedocs.io/en/stable/user_install.html\n",
      "  from .autonotebook import tqdm as notebook_tqdm\n"
     ]
    },
    {
     "name": "stdout",
     "output_type": "stream",
     "text": [
      "\u001b[34m\u001b[1mAMP: \u001b[0mchecks passed \n",
      "\u001b[34m\u001b[1mtrain: \u001b[0mFast image access  (ping: 0.10.0 ms, read: 1293.1474.1 MB/s, size: 131.8 KB)\n"
     ]
    },
    {
     "name": "stderr",
     "output_type": "stream",
     "text": [
      "\u001b[34m\u001b[1mtrain: \u001b[0mScanning C:\\Users\\beung-yoga\\Documents\\GitHub4\\cv-project-stuctured\\data\\outputs\\train\\labels... 704 images, 0 backgrounds, 0 corrupt: 100%|██████████| 704/704 [00:00<00:00, 2681.44it/s]\n"
     ]
    },
    {
     "name": "stdout",
     "output_type": "stream",
     "text": [
      "\u001b[34m\u001b[1mtrain: \u001b[0mNew cache created: C:\\Users\\beung-yoga\\Documents\\GitHub4\\cv-project-stuctured\\data\\outputs\\train\\labels.cache\n",
      "\u001b[34m\u001b[1mval: \u001b[0mFast image access  (ping: 0.10.0 ms, read: 666.7208.1 MB/s, size: 108.8 KB)\n"
     ]
    },
    {
     "name": "stderr",
     "output_type": "stream",
     "text": [
      "\u001b[34m\u001b[1mval: \u001b[0mScanning C:\\Users\\beung-yoga\\Documents\\GitHub4\\cv-project-stuctured\\data\\outputs\\valid\\labels... 89 images, 0 backgrounds, 0 corrupt: 100%|██████████| 89/89 [00:00<00:00, 1912.36it/s]"
     ]
    },
    {
     "name": "stdout",
     "output_type": "stream",
     "text": [
      "\u001b[34m\u001b[1mval: \u001b[0mNew cache created: C:\\Users\\beung-yoga\\Documents\\GitHub4\\cv-project-stuctured\\data\\outputs\\valid\\labels.cache\n"
     ]
    },
    {
     "name": "stderr",
     "output_type": "stream",
     "text": [
      "\n"
     ]
    },
    {
     "name": "stdout",
     "output_type": "stream",
     "text": [
      "Plotting labels to models\\deep_learning\\training_results\\labels.jpg... \n",
      "\u001b[34m\u001b[1moptimizer:\u001b[0m 'optimizer=auto' found, ignoring 'lr0=0.01' and 'momentum=0.937' and determining best 'optimizer', 'lr0' and 'momentum' automatically... \n",
      "\u001b[34m\u001b[1moptimizer:\u001b[0m AdamW(lr=0.000833, momentum=0.9) with parameter groups 57 weight(decay=0.0), 64 weight(decay=0.0005), 63 bias(decay=0.0)\n",
      "Image sizes 960 train, 960 val\n",
      "Using 8 dataloader workers\n",
      "Logging results to \u001b[1mmodels\\deep_learning\\training_results\u001b[0m\n",
      "Starting training for 200 epochs...\n",
      "\n",
      "      Epoch    GPU_mem   box_loss   cls_loss   dfl_loss  Instances       Size\n"
     ]
    },
    {
     "name": "stderr",
     "output_type": "stream",
     "text": [
      "      1/200      4.51G      1.297      5.556      1.398         52        960: 100%|██████████| 44/44 [00:15<00:00,  2.91it/s]\n",
      "                 Class     Images  Instances      Box(P          R      mAP50  mAP50-95): 100%|██████████| 3/3 [00:01<00:00,  2.73it/s]"
     ]
    },
    {
     "name": "stdout",
     "output_type": "stream",
     "text": [
      "                   all         89        134    0.00358      0.623     0.0529     0.0368\n"
     ]
    },
    {
     "name": "stderr",
     "output_type": "stream",
     "text": [
      "\n"
     ]
    },
    {
     "name": "stdout",
     "output_type": "stream",
     "text": [
      "\n",
      "      Epoch    GPU_mem   box_loss   cls_loss   dfl_loss  Instances       Size\n"
     ]
    },
    {
     "name": "stderr",
     "output_type": "stream",
     "text": [
      "      2/200      4.63G      1.074      4.364      1.196         31        960: 100%|██████████| 44/44 [00:13<00:00,  3.32it/s]\n",
      "                 Class     Images  Instances      Box(P          R      mAP50  mAP50-95): 100%|██████████| 3/3 [00:01<00:00,  2.62it/s]"
     ]
    },
    {
     "name": "stdout",
     "output_type": "stream",
     "text": [
      "                   all         89        134      0.123      0.218     0.0908     0.0692\n"
     ]
    },
    {
     "name": "stderr",
     "output_type": "stream",
     "text": [
      "\n"
     ]
    },
    {
     "name": "stdout",
     "output_type": "stream",
     "text": [
      "\n",
      "      Epoch    GPU_mem   box_loss   cls_loss   dfl_loss  Instances       Size\n"
     ]
    },
    {
     "name": "stderr",
     "output_type": "stream",
     "text": [
      "      3/200      4.63G      1.013      3.856      1.168         45        960: 100%|██████████| 44/44 [00:13<00:00,  3.28it/s]\n",
      "                 Class     Images  Instances      Box(P          R      mAP50  mAP50-95): 100%|██████████| 3/3 [00:01<00:00,  2.75it/s]"
     ]
    },
    {
     "name": "stdout",
     "output_type": "stream",
     "text": [
      "                   all         89        134      0.112      0.271     0.0891     0.0664\n"
     ]
    },
    {
     "name": "stderr",
     "output_type": "stream",
     "text": [
      "\n"
     ]
    },
    {
     "name": "stdout",
     "output_type": "stream",
     "text": [
      "\n",
      "      Epoch    GPU_mem   box_loss   cls_loss   dfl_loss  Instances       Size\n"
     ]
    },
    {
     "name": "stderr",
     "output_type": "stream",
     "text": [
      "      4/200      4.63G      1.038      3.607      1.176         40        960: 100%|██████████| 44/44 [00:13<00:00,  3.23it/s]\n",
      "                 Class     Images  Instances      Box(P          R      mAP50  mAP50-95): 100%|██████████| 3/3 [00:01<00:00,  2.91it/s]"
     ]
    },
    {
     "name": "stdout",
     "output_type": "stream",
     "text": [
      "                   all         89        134      0.155      0.272      0.144      0.112\n"
     ]
    },
    {
     "name": "stderr",
     "output_type": "stream",
     "text": [
      "\n"
     ]
    },
    {
     "name": "stdout",
     "output_type": "stream",
     "text": [
      "\n",
      "      Epoch    GPU_mem   box_loss   cls_loss   dfl_loss  Instances       Size\n"
     ]
    },
    {
     "name": "stderr",
     "output_type": "stream",
     "text": [
      "      5/200      4.63G      1.033      3.414      1.166         46        960: 100%|██████████| 44/44 [00:13<00:00,  3.29it/s]\n",
      "                 Class     Images  Instances      Box(P          R      mAP50  mAP50-95): 100%|██████████| 3/3 [00:00<00:00,  3.09it/s]"
     ]
    },
    {
     "name": "stdout",
     "output_type": "stream",
     "text": [
      "                   all         89        134      0.411      0.231      0.252      0.189\n"
     ]
    },
    {
     "name": "stderr",
     "output_type": "stream",
     "text": [
      "\n"
     ]
    },
    {
     "name": "stdout",
     "output_type": "stream",
     "text": [
      "\n",
      "      Epoch    GPU_mem   box_loss   cls_loss   dfl_loss  Instances       Size\n"
     ]
    },
    {
     "name": "stderr",
     "output_type": "stream",
     "text": [
      "      6/200      4.63G      1.017      3.208      1.161         38        960: 100%|██████████| 44/44 [00:13<00:00,  3.26it/s]\n",
      "                 Class     Images  Instances      Box(P          R      mAP50  mAP50-95): 100%|██████████| 3/3 [00:01<00:00,  2.89it/s]"
     ]
    },
    {
     "name": "stdout",
     "output_type": "stream",
     "text": [
      "                   all         89        134      0.314      0.214      0.243      0.189\n"
     ]
    },
    {
     "name": "stderr",
     "output_type": "stream",
     "text": [
      "\n"
     ]
    },
    {
     "name": "stdout",
     "output_type": "stream",
     "text": [
      "\n",
      "      Epoch    GPU_mem   box_loss   cls_loss   dfl_loss  Instances       Size\n"
     ]
    },
    {
     "name": "stderr",
     "output_type": "stream",
     "text": [
      "      7/200      4.63G     0.9438      2.919      1.111         42        960: 100%|██████████| 44/44 [00:13<00:00,  3.28it/s]\n",
      "                 Class     Images  Instances      Box(P          R      mAP50  mAP50-95): 100%|██████████| 3/3 [00:00<00:00,  3.35it/s]"
     ]
    },
    {
     "name": "stdout",
     "output_type": "stream",
     "text": [
      "                   all         89        134      0.269      0.385      0.274      0.208\n"
     ]
    },
    {
     "name": "stderr",
     "output_type": "stream",
     "text": [
      "\n"
     ]
    },
    {
     "name": "stdout",
     "output_type": "stream",
     "text": [
      "\n",
      "      Epoch    GPU_mem   box_loss   cls_loss   dfl_loss  Instances       Size\n"
     ]
    },
    {
     "name": "stderr",
     "output_type": "stream",
     "text": [
      "      8/200      4.63G      0.947      2.748      1.112         36        960: 100%|██████████| 44/44 [00:15<00:00,  2.90it/s]\n",
      "                 Class     Images  Instances      Box(P          R      mAP50  mAP50-95): 100%|██████████| 3/3 [00:01<00:00,  1.97it/s]"
     ]
    },
    {
     "name": "stdout",
     "output_type": "stream",
     "text": [
      "                   all         89        134      0.408      0.461       0.32      0.253\n"
     ]
    },
    {
     "name": "stderr",
     "output_type": "stream",
     "text": [
      "\n"
     ]
    },
    {
     "name": "stdout",
     "output_type": "stream",
     "text": [
      "\n",
      "      Epoch    GPU_mem   box_loss   cls_loss   dfl_loss  Instances       Size\n"
     ]
    },
    {
     "name": "stderr",
     "output_type": "stream",
     "text": [
      "      9/200      4.63G     0.8837      2.602      1.084         52        960: 100%|██████████| 44/44 [00:14<00:00,  2.94it/s]\n",
      "                 Class     Images  Instances      Box(P          R      mAP50  mAP50-95): 100%|██████████| 3/3 [00:01<00:00,  2.36it/s]"
     ]
    },
    {
     "name": "stdout",
     "output_type": "stream",
     "text": [
      "                   all         89        134       0.31      0.432      0.311      0.252\n"
     ]
    },
    {
     "name": "stderr",
     "output_type": "stream",
     "text": [
      "\n"
     ]
    },
    {
     "name": "stdout",
     "output_type": "stream",
     "text": [
      "\n",
      "      Epoch    GPU_mem   box_loss   cls_loss   dfl_loss  Instances       Size\n"
     ]
    },
    {
     "name": "stderr",
     "output_type": "stream",
     "text": [
      "     10/200      4.63G     0.9061      2.394      1.085         34        960: 100%|██████████| 44/44 [00:14<00:00,  3.14it/s]\n",
      "                 Class     Images  Instances      Box(P          R      mAP50  mAP50-95): 100%|██████████| 3/3 [00:00<00:00,  3.03it/s]"
     ]
    },
    {
     "name": "stdout",
     "output_type": "stream",
     "text": [
      "                   all         89        134      0.343      0.381       0.36       0.29\n"
     ]
    },
    {
     "name": "stderr",
     "output_type": "stream",
     "text": [
      "\n"
     ]
    },
    {
     "name": "stdout",
     "output_type": "stream",
     "text": [
      "\n",
      "      Epoch    GPU_mem   box_loss   cls_loss   dfl_loss  Instances       Size\n"
     ]
    },
    {
     "name": "stderr",
     "output_type": "stream",
     "text": [
      "     11/200      4.63G     0.8688      2.301      1.069         39        960: 100%|██████████| 44/44 [00:13<00:00,  3.22it/s]\n",
      "                 Class     Images  Instances      Box(P          R      mAP50  mAP50-95): 100%|██████████| 3/3 [00:00<00:00,  3.05it/s]"
     ]
    },
    {
     "name": "stdout",
     "output_type": "stream",
     "text": [
      "                   all         89        134      0.224      0.505      0.314      0.246\n"
     ]
    },
    {
     "name": "stderr",
     "output_type": "stream",
     "text": [
      "\n"
     ]
    },
    {
     "name": "stdout",
     "output_type": "stream",
     "text": [
      "\n",
      "      Epoch    GPU_mem   box_loss   cls_loss   dfl_loss  Instances       Size\n"
     ]
    },
    {
     "name": "stderr",
     "output_type": "stream",
     "text": [
      "     12/200      4.63G      0.869      2.188      1.084         33        960: 100%|██████████| 44/44 [00:13<00:00,  3.24it/s]\n",
      "                 Class     Images  Instances      Box(P          R      mAP50  mAP50-95): 100%|██████████| 3/3 [00:00<00:00,  3.04it/s]"
     ]
    },
    {
     "name": "stdout",
     "output_type": "stream",
     "text": [
      "                   all         89        134      0.302      0.525      0.394      0.324\n"
     ]
    },
    {
     "name": "stderr",
     "output_type": "stream",
     "text": [
      "\n"
     ]
    },
    {
     "name": "stdout",
     "output_type": "stream",
     "text": [
      "\n",
      "      Epoch    GPU_mem   box_loss   cls_loss   dfl_loss  Instances       Size\n"
     ]
    },
    {
     "name": "stderr",
     "output_type": "stream",
     "text": [
      "     13/200      4.63G     0.8549       2.06      1.082         35        960: 100%|██████████| 44/44 [00:13<00:00,  3.30it/s]\n",
      "                 Class     Images  Instances      Box(P          R      mAP50  mAP50-95): 100%|██████████| 3/3 [00:00<00:00,  3.29it/s]"
     ]
    },
    {
     "name": "stdout",
     "output_type": "stream",
     "text": [
      "                   all         89        134      0.319      0.548      0.373       0.29\n"
     ]
    },
    {
     "name": "stderr",
     "output_type": "stream",
     "text": [
      "\n"
     ]
    },
    {
     "name": "stdout",
     "output_type": "stream",
     "text": [
      "\n",
      "      Epoch    GPU_mem   box_loss   cls_loss   dfl_loss  Instances       Size\n"
     ]
    },
    {
     "name": "stderr",
     "output_type": "stream",
     "text": [
      "     14/200      4.63G      0.836      1.948      1.061         32        960: 100%|██████████| 44/44 [00:13<00:00,  3.31it/s]\n",
      "                 Class     Images  Instances      Box(P          R      mAP50  mAP50-95): 100%|██████████| 3/3 [00:00<00:00,  3.20it/s]"
     ]
    },
    {
     "name": "stdout",
     "output_type": "stream",
     "text": [
      "                   all         89        134      0.539      0.332      0.459      0.374\n"
     ]
    },
    {
     "name": "stderr",
     "output_type": "stream",
     "text": [
      "\n"
     ]
    },
    {
     "name": "stdout",
     "output_type": "stream",
     "text": [
      "\n",
      "      Epoch    GPU_mem   box_loss   cls_loss   dfl_loss  Instances       Size\n"
     ]
    },
    {
     "name": "stderr",
     "output_type": "stream",
     "text": [
      "     15/200      4.63G     0.8232      1.883      1.039         45        960: 100%|██████████| 44/44 [00:13<00:00,  3.28it/s]\n",
      "                 Class     Images  Instances      Box(P          R      mAP50  mAP50-95): 100%|██████████| 3/3 [00:00<00:00,  3.26it/s]"
     ]
    },
    {
     "name": "stdout",
     "output_type": "stream",
     "text": [
      "                   all         89        134      0.484      0.443      0.463      0.377\n"
     ]
    },
    {
     "name": "stderr",
     "output_type": "stream",
     "text": [
      "\n"
     ]
    },
    {
     "name": "stdout",
     "output_type": "stream",
     "text": [
      "\n",
      "      Epoch    GPU_mem   box_loss   cls_loss   dfl_loss  Instances       Size\n"
     ]
    },
    {
     "name": "stderr",
     "output_type": "stream",
     "text": [
      "     16/200      4.63G     0.8023      1.781      1.036         40        960: 100%|██████████| 44/44 [00:13<00:00,  3.30it/s]\n",
      "                 Class     Images  Instances      Box(P          R      mAP50  mAP50-95): 100%|██████████| 3/3 [00:00<00:00,  3.29it/s]"
     ]
    },
    {
     "name": "stdout",
     "output_type": "stream",
     "text": [
      "                   all         89        134      0.375      0.556       0.42       0.34\n"
     ]
    },
    {
     "name": "stderr",
     "output_type": "stream",
     "text": [
      "\n"
     ]
    },
    {
     "name": "stdout",
     "output_type": "stream",
     "text": [
      "\n",
      "      Epoch    GPU_mem   box_loss   cls_loss   dfl_loss  Instances       Size\n"
     ]
    },
    {
     "name": "stderr",
     "output_type": "stream",
     "text": [
      "     17/200      4.63G     0.7872      1.695      1.037         34        960: 100%|██████████| 44/44 [00:13<00:00,  3.29it/s]\n",
      "                 Class     Images  Instances      Box(P          R      mAP50  mAP50-95): 100%|██████████| 3/3 [00:00<00:00,  3.35it/s]"
     ]
    },
    {
     "name": "stdout",
     "output_type": "stream",
     "text": [
      "                   all         89        134      0.525       0.43      0.506      0.424\n"
     ]
    },
    {
     "name": "stderr",
     "output_type": "stream",
     "text": [
      "\n"
     ]
    },
    {
     "name": "stdout",
     "output_type": "stream",
     "text": [
      "\n",
      "      Epoch    GPU_mem   box_loss   cls_loss   dfl_loss  Instances       Size\n"
     ]
    },
    {
     "name": "stderr",
     "output_type": "stream",
     "text": [
      "     18/200      4.63G     0.7868      1.638      1.031         48        960: 100%|██████████| 44/44 [00:13<00:00,  3.32it/s]\n",
      "                 Class     Images  Instances      Box(P          R      mAP50  mAP50-95): 100%|██████████| 3/3 [00:00<00:00,  3.28it/s]"
     ]
    },
    {
     "name": "stdout",
     "output_type": "stream",
     "text": [
      "                   all         89        134      0.439      0.531      0.505      0.416\n"
     ]
    },
    {
     "name": "stderr",
     "output_type": "stream",
     "text": [
      "\n"
     ]
    },
    {
     "name": "stdout",
     "output_type": "stream",
     "text": [
      "\n",
      "      Epoch    GPU_mem   box_loss   cls_loss   dfl_loss  Instances       Size\n"
     ]
    },
    {
     "name": "stderr",
     "output_type": "stream",
     "text": [
      "     19/200      4.63G     0.7754      1.525      1.022         34        960: 100%|██████████| 44/44 [00:13<00:00,  3.30it/s]\n",
      "                 Class     Images  Instances      Box(P          R      mAP50  mAP50-95): 100%|██████████| 3/3 [00:00<00:00,  3.11it/s]"
     ]
    },
    {
     "name": "stdout",
     "output_type": "stream",
     "text": [
      "                   all         89        134      0.352      0.567      0.481      0.391\n"
     ]
    },
    {
     "name": "stderr",
     "output_type": "stream",
     "text": [
      "\n"
     ]
    },
    {
     "name": "stdout",
     "output_type": "stream",
     "text": [
      "\n",
      "      Epoch    GPU_mem   box_loss   cls_loss   dfl_loss  Instances       Size\n"
     ]
    },
    {
     "name": "stderr",
     "output_type": "stream",
     "text": [
      "     20/200      4.63G     0.7474      1.449     0.9987         21        960: 100%|██████████| 44/44 [00:13<00:00,  3.30it/s]\n",
      "                 Class     Images  Instances      Box(P          R      mAP50  mAP50-95): 100%|██████████| 3/3 [00:00<00:00,  3.24it/s]"
     ]
    },
    {
     "name": "stdout",
     "output_type": "stream",
     "text": [
      "                   all         89        134      0.535      0.473      0.529       0.43\n"
     ]
    },
    {
     "name": "stderr",
     "output_type": "stream",
     "text": [
      "\n"
     ]
    },
    {
     "name": "stdout",
     "output_type": "stream",
     "text": [
      "\n",
      "      Epoch    GPU_mem   box_loss   cls_loss   dfl_loss  Instances       Size\n"
     ]
    },
    {
     "name": "stderr",
     "output_type": "stream",
     "text": [
      "     21/200      4.63G      0.764       1.48       1.02         40        960: 100%|██████████| 44/44 [00:13<00:00,  3.28it/s]\n",
      "                 Class     Images  Instances      Box(P          R      mAP50  mAP50-95): 100%|██████████| 3/3 [00:01<00:00,  2.89it/s]"
     ]
    },
    {
     "name": "stdout",
     "output_type": "stream",
     "text": [
      "                   all         89        134      0.554      0.483      0.546       0.45\n"
     ]
    },
    {
     "name": "stderr",
     "output_type": "stream",
     "text": [
      "\n"
     ]
    },
    {
     "name": "stdout",
     "output_type": "stream",
     "text": [
      "\n",
      "      Epoch    GPU_mem   box_loss   cls_loss   dfl_loss  Instances       Size\n"
     ]
    },
    {
     "name": "stderr",
     "output_type": "stream",
     "text": [
      "     22/200      4.63G     0.7674      1.409      1.013         49        960: 100%|██████████| 44/44 [00:13<00:00,  3.23it/s]\n",
      "                 Class     Images  Instances      Box(P          R      mAP50  mAP50-95): 100%|██████████| 3/3 [00:00<00:00,  3.25it/s]"
     ]
    },
    {
     "name": "stdout",
     "output_type": "stream",
     "text": [
      "                   all         89        134      0.484      0.528      0.544       0.45\n"
     ]
    },
    {
     "name": "stderr",
     "output_type": "stream",
     "text": [
      "\n"
     ]
    },
    {
     "name": "stdout",
     "output_type": "stream",
     "text": [
      "\n",
      "      Epoch    GPU_mem   box_loss   cls_loss   dfl_loss  Instances       Size\n"
     ]
    },
    {
     "name": "stderr",
     "output_type": "stream",
     "text": [
      "     23/200      4.63G     0.7513      1.363      1.011         38        960: 100%|██████████| 44/44 [00:13<00:00,  3.29it/s]\n",
      "                 Class     Images  Instances      Box(P          R      mAP50  mAP50-95): 100%|██████████| 3/3 [00:00<00:00,  3.17it/s]"
     ]
    },
    {
     "name": "stdout",
     "output_type": "stream",
     "text": [
      "                   all         89        134      0.606      0.483       0.57      0.488\n"
     ]
    },
    {
     "name": "stderr",
     "output_type": "stream",
     "text": [
      "\n"
     ]
    },
    {
     "name": "stdout",
     "output_type": "stream",
     "text": [
      "\n",
      "      Epoch    GPU_mem   box_loss   cls_loss   dfl_loss  Instances       Size\n"
     ]
    },
    {
     "name": "stderr",
     "output_type": "stream",
     "text": [
      "     24/200      4.63G     0.7398      1.286     0.9873         38        960: 100%|██████████| 44/44 [00:13<00:00,  3.28it/s]\n",
      "                 Class     Images  Instances      Box(P          R      mAP50  mAP50-95): 100%|██████████| 3/3 [00:00<00:00,  3.26it/s]"
     ]
    },
    {
     "name": "stdout",
     "output_type": "stream",
     "text": [
      "                   all         89        134      0.659      0.513      0.602      0.497\n"
     ]
    },
    {
     "name": "stderr",
     "output_type": "stream",
     "text": [
      "\n"
     ]
    },
    {
     "name": "stdout",
     "output_type": "stream",
     "text": [
      "\n",
      "      Epoch    GPU_mem   box_loss   cls_loss   dfl_loss  Instances       Size\n"
     ]
    },
    {
     "name": "stderr",
     "output_type": "stream",
     "text": [
      "     25/200      4.63G     0.7057      1.237     0.9758         29        960: 100%|██████████| 44/44 [00:13<00:00,  3.30it/s]\n",
      "                 Class     Images  Instances      Box(P          R      mAP50  mAP50-95): 100%|██████████| 3/3 [00:00<00:00,  3.20it/s]"
     ]
    },
    {
     "name": "stdout",
     "output_type": "stream",
     "text": [
      "                   all         89        134      0.578      0.567      0.604      0.497\n"
     ]
    },
    {
     "name": "stderr",
     "output_type": "stream",
     "text": [
      "\n"
     ]
    },
    {
     "name": "stdout",
     "output_type": "stream",
     "text": [
      "\n",
      "      Epoch    GPU_mem   box_loss   cls_loss   dfl_loss  Instances       Size\n"
     ]
    },
    {
     "name": "stderr",
     "output_type": "stream",
     "text": [
      "     26/200      4.63G     0.7103      1.231     0.9848         29        960: 100%|██████████| 44/44 [00:13<00:00,  3.28it/s]\n",
      "                 Class     Images  Instances      Box(P          R      mAP50  mAP50-95): 100%|██████████| 3/3 [00:00<00:00,  3.25it/s]"
     ]
    },
    {
     "name": "stdout",
     "output_type": "stream",
     "text": [
      "                   all         89        134      0.679      0.474      0.564      0.451\n"
     ]
    },
    {
     "name": "stderr",
     "output_type": "stream",
     "text": [
      "\n"
     ]
    },
    {
     "name": "stdout",
     "output_type": "stream",
     "text": [
      "\n",
      "      Epoch    GPU_mem   box_loss   cls_loss   dfl_loss  Instances       Size\n"
     ]
    },
    {
     "name": "stderr",
     "output_type": "stream",
     "text": [
      "     27/200      4.63G     0.7203      1.249      1.005         45        960: 100%|██████████| 44/44 [00:13<00:00,  3.29it/s]\n",
      "                 Class     Images  Instances      Box(P          R      mAP50  mAP50-95): 100%|██████████| 3/3 [00:00<00:00,  3.04it/s]"
     ]
    },
    {
     "name": "stdout",
     "output_type": "stream",
     "text": [
      "                   all         89        134      0.577      0.476      0.596      0.503\n"
     ]
    },
    {
     "name": "stderr",
     "output_type": "stream",
     "text": [
      "\n"
     ]
    },
    {
     "name": "stdout",
     "output_type": "stream",
     "text": [
      "\n",
      "      Epoch    GPU_mem   box_loss   cls_loss   dfl_loss  Instances       Size\n"
     ]
    },
    {
     "name": "stderr",
     "output_type": "stream",
     "text": [
      "     28/200      4.63G     0.7316      1.213      1.013         32        960: 100%|██████████| 44/44 [00:13<00:00,  3.28it/s]\n",
      "                 Class     Images  Instances      Box(P          R      mAP50  mAP50-95): 100%|██████████| 3/3 [00:00<00:00,  3.28it/s]"
     ]
    },
    {
     "name": "stdout",
     "output_type": "stream",
     "text": [
      "                   all         89        134      0.681      0.629      0.701      0.585\n"
     ]
    },
    {
     "name": "stderr",
     "output_type": "stream",
     "text": [
      "\n"
     ]
    },
    {
     "name": "stdout",
     "output_type": "stream",
     "text": [
      "\n",
      "      Epoch    GPU_mem   box_loss   cls_loss   dfl_loss  Instances       Size\n"
     ]
    },
    {
     "name": "stderr",
     "output_type": "stream",
     "text": [
      "     29/200      4.63G     0.6917      1.144     0.9857         31        960: 100%|██████████| 44/44 [00:13<00:00,  3.31it/s]\n",
      "                 Class     Images  Instances      Box(P          R      mAP50  mAP50-95): 100%|██████████| 3/3 [00:00<00:00,  3.32it/s]"
     ]
    },
    {
     "name": "stdout",
     "output_type": "stream",
     "text": [
      "                   all         89        134      0.762      0.584      0.671      0.576\n"
     ]
    },
    {
     "name": "stderr",
     "output_type": "stream",
     "text": [
      "\n"
     ]
    },
    {
     "name": "stdout",
     "output_type": "stream",
     "text": [
      "\n",
      "      Epoch    GPU_mem   box_loss   cls_loss   dfl_loss  Instances       Size\n"
     ]
    },
    {
     "name": "stderr",
     "output_type": "stream",
     "text": [
      "     30/200      4.63G     0.6848       1.17     0.9759         32        960: 100%|██████████| 44/44 [00:13<00:00,  3.29it/s]\n",
      "                 Class     Images  Instances      Box(P          R      mAP50  mAP50-95): 100%|██████████| 3/3 [00:00<00:00,  3.09it/s]"
     ]
    },
    {
     "name": "stdout",
     "output_type": "stream",
     "text": [
      "                   all         89        134      0.779      0.561      0.676      0.569\n"
     ]
    },
    {
     "name": "stderr",
     "output_type": "stream",
     "text": [
      "\n"
     ]
    },
    {
     "name": "stdout",
     "output_type": "stream",
     "text": [
      "\n",
      "      Epoch    GPU_mem   box_loss   cls_loss   dfl_loss  Instances       Size\n"
     ]
    },
    {
     "name": "stderr",
     "output_type": "stream",
     "text": [
      "     31/200      4.63G     0.6796      1.123     0.9797         39        960: 100%|██████████| 44/44 [00:13<00:00,  3.30it/s]\n",
      "                 Class     Images  Instances      Box(P          R      mAP50  mAP50-95): 100%|██████████| 3/3 [00:00<00:00,  3.27it/s]"
     ]
    },
    {
     "name": "stdout",
     "output_type": "stream",
     "text": [
      "                   all         89        134      0.594      0.659      0.677      0.557\n"
     ]
    },
    {
     "name": "stderr",
     "output_type": "stream",
     "text": [
      "\n"
     ]
    },
    {
     "name": "stdout",
     "output_type": "stream",
     "text": [
      "\n",
      "      Epoch    GPU_mem   box_loss   cls_loss   dfl_loss  Instances       Size\n"
     ]
    },
    {
     "name": "stderr",
     "output_type": "stream",
     "text": [
      "     32/200      4.63G     0.6734      1.117     0.9774         31        960: 100%|██████████| 44/44 [00:13<00:00,  3.30it/s]\n",
      "                 Class     Images  Instances      Box(P          R      mAP50  mAP50-95): 100%|██████████| 3/3 [00:00<00:00,  3.27it/s]"
     ]
    },
    {
     "name": "stdout",
     "output_type": "stream",
     "text": [
      "                   all         89        134      0.816      0.536      0.712      0.603\n"
     ]
    },
    {
     "name": "stderr",
     "output_type": "stream",
     "text": [
      "\n"
     ]
    },
    {
     "name": "stdout",
     "output_type": "stream",
     "text": [
      "\n",
      "      Epoch    GPU_mem   box_loss   cls_loss   dfl_loss  Instances       Size\n"
     ]
    },
    {
     "name": "stderr",
     "output_type": "stream",
     "text": [
      "     33/200      4.63G     0.6603      1.096      0.961         38        960: 100%|██████████| 44/44 [00:13<00:00,  3.32it/s]\n",
      "                 Class     Images  Instances      Box(P          R      mAP50  mAP50-95): 100%|██████████| 3/3 [00:00<00:00,  3.00it/s]"
     ]
    },
    {
     "name": "stdout",
     "output_type": "stream",
     "text": [
      "                   all         89        134      0.522      0.598      0.645      0.544\n"
     ]
    },
    {
     "name": "stderr",
     "output_type": "stream",
     "text": [
      "\n"
     ]
    },
    {
     "name": "stdout",
     "output_type": "stream",
     "text": [
      "\n",
      "      Epoch    GPU_mem   box_loss   cls_loss   dfl_loss  Instances       Size\n"
     ]
    },
    {
     "name": "stderr",
     "output_type": "stream",
     "text": [
      "     34/200      4.63G     0.6743      1.001     0.9666         41        960: 100%|██████████| 44/44 [00:13<00:00,  3.27it/s]\n",
      "                 Class     Images  Instances      Box(P          R      mAP50  mAP50-95): 100%|██████████| 3/3 [00:00<00:00,  3.00it/s]"
     ]
    },
    {
     "name": "stdout",
     "output_type": "stream",
     "text": [
      "                   all         89        134      0.734      0.615      0.674      0.568\n"
     ]
    },
    {
     "name": "stderr",
     "output_type": "stream",
     "text": [
      "\n"
     ]
    },
    {
     "name": "stdout",
     "output_type": "stream",
     "text": [
      "\n",
      "      Epoch    GPU_mem   box_loss   cls_loss   dfl_loss  Instances       Size\n"
     ]
    },
    {
     "name": "stderr",
     "output_type": "stream",
     "text": [
      "     35/200      4.63G     0.6855     0.9886     0.9758         43        960: 100%|██████████| 44/44 [00:13<00:00,  3.26it/s]\n",
      "                 Class     Images  Instances      Box(P          R      mAP50  mAP50-95): 100%|██████████| 3/3 [00:00<00:00,  3.13it/s]"
     ]
    },
    {
     "name": "stdout",
     "output_type": "stream",
     "text": [
      "                   all         89        134      0.678      0.679      0.715      0.614\n"
     ]
    },
    {
     "name": "stderr",
     "output_type": "stream",
     "text": [
      "\n"
     ]
    },
    {
     "name": "stdout",
     "output_type": "stream",
     "text": [
      "\n",
      "      Epoch    GPU_mem   box_loss   cls_loss   dfl_loss  Instances       Size\n"
     ]
    },
    {
     "name": "stderr",
     "output_type": "stream",
     "text": [
      "     36/200      4.63G     0.6757     0.9897     0.9664         36        960: 100%|██████████| 44/44 [00:13<00:00,  3.25it/s]\n",
      "                 Class     Images  Instances      Box(P          R      mAP50  mAP50-95): 100%|██████████| 3/3 [00:00<00:00,  3.25it/s]"
     ]
    },
    {
     "name": "stdout",
     "output_type": "stream",
     "text": [
      "                   all         89        134      0.736      0.641       0.74      0.622\n"
     ]
    },
    {
     "name": "stderr",
     "output_type": "stream",
     "text": [
      "\n"
     ]
    },
    {
     "name": "stdout",
     "output_type": "stream",
     "text": [
      "\n",
      "      Epoch    GPU_mem   box_loss   cls_loss   dfl_loss  Instances       Size\n"
     ]
    },
    {
     "name": "stderr",
     "output_type": "stream",
     "text": [
      "     37/200      4.63G     0.6559     0.9431     0.9573         39        960: 100%|██████████| 44/44 [00:13<00:00,  3.30it/s]\n",
      "                 Class     Images  Instances      Box(P          R      mAP50  mAP50-95): 100%|██████████| 3/3 [00:00<00:00,  3.25it/s]"
     ]
    },
    {
     "name": "stdout",
     "output_type": "stream",
     "text": [
      "                   all         89        134      0.639      0.651      0.712      0.593\n"
     ]
    },
    {
     "name": "stderr",
     "output_type": "stream",
     "text": [
      "\n"
     ]
    },
    {
     "name": "stdout",
     "output_type": "stream",
     "text": [
      "\n",
      "      Epoch    GPU_mem   box_loss   cls_loss   dfl_loss  Instances       Size\n"
     ]
    },
    {
     "name": "stderr",
     "output_type": "stream",
     "text": [
      "     38/200      4.63G     0.6829      1.003     0.9748         34        960: 100%|██████████| 44/44 [00:13<00:00,  3.26it/s]\n",
      "                 Class     Images  Instances      Box(P          R      mAP50  mAP50-95): 100%|██████████| 3/3 [00:00<00:00,  3.16it/s]"
     ]
    },
    {
     "name": "stdout",
     "output_type": "stream",
     "text": [
      "                   all         89        134      0.674       0.58      0.687      0.582\n"
     ]
    },
    {
     "name": "stderr",
     "output_type": "stream",
     "text": [
      "\n"
     ]
    },
    {
     "name": "stdout",
     "output_type": "stream",
     "text": [
      "\n",
      "      Epoch    GPU_mem   box_loss   cls_loss   dfl_loss  Instances       Size\n"
     ]
    },
    {
     "name": "stderr",
     "output_type": "stream",
     "text": [
      "     39/200      4.63G     0.6463     0.9437     0.9633         33        960: 100%|██████████| 44/44 [00:13<00:00,  3.26it/s]\n",
      "                 Class     Images  Instances      Box(P          R      mAP50  mAP50-95): 100%|██████████| 3/3 [00:00<00:00,  3.22it/s]"
     ]
    },
    {
     "name": "stdout",
     "output_type": "stream",
     "text": [
      "                   all         89        134      0.688      0.667      0.716      0.598\n"
     ]
    },
    {
     "name": "stderr",
     "output_type": "stream",
     "text": [
      "\n"
     ]
    },
    {
     "name": "stdout",
     "output_type": "stream",
     "text": [
      "\n",
      "      Epoch    GPU_mem   box_loss   cls_loss   dfl_loss  Instances       Size\n"
     ]
    },
    {
     "name": "stderr",
     "output_type": "stream",
     "text": [
      "     40/200      4.63G     0.6475     0.9156       0.96         37        960: 100%|██████████| 44/44 [00:13<00:00,  3.25it/s]\n",
      "                 Class     Images  Instances      Box(P          R      mAP50  mAP50-95): 100%|██████████| 3/3 [00:00<00:00,  3.26it/s]"
     ]
    },
    {
     "name": "stdout",
     "output_type": "stream",
     "text": [
      "                   all         89        134      0.832      0.593      0.745      0.646\n"
     ]
    },
    {
     "name": "stderr",
     "output_type": "stream",
     "text": [
      "\n"
     ]
    },
    {
     "name": "stdout",
     "output_type": "stream",
     "text": [
      "\n",
      "      Epoch    GPU_mem   box_loss   cls_loss   dfl_loss  Instances       Size\n"
     ]
    },
    {
     "name": "stderr",
     "output_type": "stream",
     "text": [
      "     41/200      4.63G     0.6409      0.932     0.9542         41        960: 100%|██████████| 44/44 [00:13<00:00,  3.30it/s]\n",
      "                 Class     Images  Instances      Box(P          R      mAP50  mAP50-95): 100%|██████████| 3/3 [00:00<00:00,  3.29it/s]"
     ]
    },
    {
     "name": "stdout",
     "output_type": "stream",
     "text": [
      "                   all         89        134      0.754      0.636      0.717      0.612\n"
     ]
    },
    {
     "name": "stderr",
     "output_type": "stream",
     "text": [
      "\n"
     ]
    },
    {
     "name": "stdout",
     "output_type": "stream",
     "text": [
      "\n",
      "      Epoch    GPU_mem   box_loss   cls_loss   dfl_loss  Instances       Size\n"
     ]
    },
    {
     "name": "stderr",
     "output_type": "stream",
     "text": [
      "     42/200      4.63G     0.6486     0.9509     0.9464         30        960: 100%|██████████| 44/44 [00:13<00:00,  3.29it/s]\n",
      "                 Class     Images  Instances      Box(P          R      mAP50  mAP50-95): 100%|██████████| 3/3 [00:00<00:00,  3.24it/s]"
     ]
    },
    {
     "name": "stdout",
     "output_type": "stream",
     "text": [
      "                   all         89        134       0.63       0.61        0.7      0.591\n"
     ]
    },
    {
     "name": "stderr",
     "output_type": "stream",
     "text": [
      "\n"
     ]
    },
    {
     "name": "stdout",
     "output_type": "stream",
     "text": [
      "\n",
      "      Epoch    GPU_mem   box_loss   cls_loss   dfl_loss  Instances       Size\n"
     ]
    },
    {
     "name": "stderr",
     "output_type": "stream",
     "text": [
      "     43/200      4.63G     0.6473     0.9482     0.9594         44        960: 100%|██████████| 44/44 [00:13<00:00,  3.25it/s]\n",
      "                 Class     Images  Instances      Box(P          R      mAP50  mAP50-95): 100%|██████████| 3/3 [00:01<00:00,  2.98it/s]"
     ]
    },
    {
     "name": "stdout",
     "output_type": "stream",
     "text": [
      "                   all         89        134      0.686      0.603      0.712      0.602\n"
     ]
    },
    {
     "name": "stderr",
     "output_type": "stream",
     "text": [
      "\n"
     ]
    },
    {
     "name": "stdout",
     "output_type": "stream",
     "text": [
      "\n",
      "      Epoch    GPU_mem   box_loss   cls_loss   dfl_loss  Instances       Size\n"
     ]
    },
    {
     "name": "stderr",
     "output_type": "stream",
     "text": [
      "     44/200      4.63G     0.6211     0.8877     0.9375         33        960: 100%|██████████| 44/44 [00:13<00:00,  3.24it/s]\n",
      "                 Class     Images  Instances      Box(P          R      mAP50  mAP50-95): 100%|██████████| 3/3 [00:00<00:00,  3.27it/s]"
     ]
    },
    {
     "name": "stdout",
     "output_type": "stream",
     "text": [
      "                   all         89        134      0.814      0.628       0.76      0.642\n"
     ]
    },
    {
     "name": "stderr",
     "output_type": "stream",
     "text": [
      "\n"
     ]
    },
    {
     "name": "stdout",
     "output_type": "stream",
     "text": [
      "\n",
      "      Epoch    GPU_mem   box_loss   cls_loss   dfl_loss  Instances       Size\n"
     ]
    },
    {
     "name": "stderr",
     "output_type": "stream",
     "text": [
      "     45/200      4.63G     0.6325     0.8609     0.9586         33        960: 100%|██████████| 44/44 [00:13<00:00,  3.30it/s]\n",
      "                 Class     Images  Instances      Box(P          R      mAP50  mAP50-95): 100%|██████████| 3/3 [00:00<00:00,  3.22it/s]"
     ]
    },
    {
     "name": "stdout",
     "output_type": "stream",
     "text": [
      "                   all         89        134      0.815      0.619      0.752      0.632\n"
     ]
    },
    {
     "name": "stderr",
     "output_type": "stream",
     "text": [
      "\n"
     ]
    },
    {
     "name": "stdout",
     "output_type": "stream",
     "text": [
      "\n",
      "      Epoch    GPU_mem   box_loss   cls_loss   dfl_loss  Instances       Size\n"
     ]
    },
    {
     "name": "stderr",
     "output_type": "stream",
     "text": [
      "     46/200      4.63G     0.6244     0.8556     0.9441         28        960: 100%|██████████| 44/44 [00:13<00:00,  3.29it/s]\n",
      "                 Class     Images  Instances      Box(P          R      mAP50  mAP50-95): 100%|██████████| 3/3 [00:00<00:00,  3.14it/s]"
     ]
    },
    {
     "name": "stdout",
     "output_type": "stream",
     "text": [
      "                   all         89        134      0.638      0.683      0.704      0.597\n"
     ]
    },
    {
     "name": "stderr",
     "output_type": "stream",
     "text": [
      "\n"
     ]
    },
    {
     "name": "stdout",
     "output_type": "stream",
     "text": [
      "\n",
      "      Epoch    GPU_mem   box_loss   cls_loss   dfl_loss  Instances       Size\n"
     ]
    },
    {
     "name": "stderr",
     "output_type": "stream",
     "text": [
      "     47/200      4.63G     0.6139     0.8419     0.9412         45        960: 100%|██████████| 44/44 [00:13<00:00,  3.28it/s]\n",
      "                 Class     Images  Instances      Box(P          R      mAP50  mAP50-95): 100%|██████████| 3/3 [00:00<00:00,  3.17it/s]"
     ]
    },
    {
     "name": "stdout",
     "output_type": "stream",
     "text": [
      "                   all         89        134      0.676      0.593      0.678      0.592\n"
     ]
    },
    {
     "name": "stderr",
     "output_type": "stream",
     "text": [
      "\n"
     ]
    },
    {
     "name": "stdout",
     "output_type": "stream",
     "text": [
      "\n",
      "      Epoch    GPU_mem   box_loss   cls_loss   dfl_loss  Instances       Size\n"
     ]
    },
    {
     "name": "stderr",
     "output_type": "stream",
     "text": [
      "     48/200      4.63G     0.6132     0.8422     0.9387         24        960: 100%|██████████| 44/44 [00:13<00:00,  3.22it/s]\n",
      "                 Class     Images  Instances      Box(P          R      mAP50  mAP50-95): 100%|██████████| 3/3 [00:00<00:00,  3.09it/s]"
     ]
    },
    {
     "name": "stdout",
     "output_type": "stream",
     "text": [
      "                   all         89        134      0.867      0.624      0.736      0.626\n"
     ]
    },
    {
     "name": "stderr",
     "output_type": "stream",
     "text": [
      "\n"
     ]
    },
    {
     "name": "stdout",
     "output_type": "stream",
     "text": [
      "\n",
      "      Epoch    GPU_mem   box_loss   cls_loss   dfl_loss  Instances       Size\n"
     ]
    },
    {
     "name": "stderr",
     "output_type": "stream",
     "text": [
      "     49/200      4.63G       0.63     0.8502     0.9574         34        960: 100%|██████████| 44/44 [00:13<00:00,  3.29it/s]\n",
      "                 Class     Images  Instances      Box(P          R      mAP50  mAP50-95): 100%|██████████| 3/3 [00:00<00:00,  3.27it/s]"
     ]
    },
    {
     "name": "stdout",
     "output_type": "stream",
     "text": [
      "                   all         89        134      0.755      0.696      0.773      0.661\n"
     ]
    },
    {
     "name": "stderr",
     "output_type": "stream",
     "text": [
      "\n"
     ]
    },
    {
     "name": "stdout",
     "output_type": "stream",
     "text": [
      "\n",
      "      Epoch    GPU_mem   box_loss   cls_loss   dfl_loss  Instances       Size\n"
     ]
    },
    {
     "name": "stderr",
     "output_type": "stream",
     "text": [
      "     50/200      4.63G     0.6306     0.8187     0.9421         63        960: 100%|██████████| 44/44 [00:13<00:00,  3.28it/s]\n",
      "                 Class     Images  Instances      Box(P          R      mAP50  mAP50-95): 100%|██████████| 3/3 [00:00<00:00,  3.07it/s]"
     ]
    },
    {
     "name": "stdout",
     "output_type": "stream",
     "text": [
      "                   all         89        134      0.862       0.64      0.771      0.669\n"
     ]
    },
    {
     "name": "stderr",
     "output_type": "stream",
     "text": [
      "\n"
     ]
    },
    {
     "name": "stdout",
     "output_type": "stream",
     "text": [
      "\n",
      "      Epoch    GPU_mem   box_loss   cls_loss   dfl_loss  Instances       Size\n"
     ]
    },
    {
     "name": "stderr",
     "output_type": "stream",
     "text": [
      "     51/200      4.63G     0.6139     0.8294     0.9343         25        960: 100%|██████████| 44/44 [00:13<00:00,  3.27it/s]\n",
      "                 Class     Images  Instances      Box(P          R      mAP50  mAP50-95): 100%|██████████| 3/3 [00:00<00:00,  3.09it/s]"
     ]
    },
    {
     "name": "stdout",
     "output_type": "stream",
     "text": [
      "                   all         89        134      0.719      0.677       0.78       0.68\n"
     ]
    },
    {
     "name": "stderr",
     "output_type": "stream",
     "text": [
      "\n"
     ]
    },
    {
     "name": "stdout",
     "output_type": "stream",
     "text": [
      "\n",
      "      Epoch    GPU_mem   box_loss   cls_loss   dfl_loss  Instances       Size\n"
     ]
    },
    {
     "name": "stderr",
     "output_type": "stream",
     "text": [
      "     52/200      4.63G     0.5947     0.7751     0.9266         38        960: 100%|██████████| 44/44 [00:13<00:00,  3.23it/s]\n",
      "                 Class     Images  Instances      Box(P          R      mAP50  mAP50-95): 100%|██████████| 3/3 [00:00<00:00,  3.05it/s]"
     ]
    },
    {
     "name": "stdout",
     "output_type": "stream",
     "text": [
      "                   all         89        134      0.756      0.673      0.769      0.684\n"
     ]
    },
    {
     "name": "stderr",
     "output_type": "stream",
     "text": [
      "\n"
     ]
    },
    {
     "name": "stdout",
     "output_type": "stream",
     "text": [
      "\n",
      "      Epoch    GPU_mem   box_loss   cls_loss   dfl_loss  Instances       Size\n"
     ]
    },
    {
     "name": "stderr",
     "output_type": "stream",
     "text": [
      "     53/200      4.63G     0.5949     0.7692     0.9254         42        960: 100%|██████████| 44/44 [00:13<00:00,  3.26it/s]\n",
      "                 Class     Images  Instances      Box(P          R      mAP50  mAP50-95): 100%|██████████| 3/3 [00:00<00:00,  3.18it/s]"
     ]
    },
    {
     "name": "stdout",
     "output_type": "stream",
     "text": [
      "                   all         89        134      0.877      0.647      0.787      0.694\n"
     ]
    },
    {
     "name": "stderr",
     "output_type": "stream",
     "text": [
      "\n"
     ]
    },
    {
     "name": "stdout",
     "output_type": "stream",
     "text": [
      "\n",
      "      Epoch    GPU_mem   box_loss   cls_loss   dfl_loss  Instances       Size\n"
     ]
    },
    {
     "name": "stderr",
     "output_type": "stream",
     "text": [
      "     54/200      4.63G     0.5907     0.7958     0.9368         44        960: 100%|██████████| 44/44 [00:13<00:00,  3.29it/s]\n",
      "                 Class     Images  Instances      Box(P          R      mAP50  mAP50-95): 100%|██████████| 3/3 [00:00<00:00,  3.14it/s]"
     ]
    },
    {
     "name": "stdout",
     "output_type": "stream",
     "text": [
      "                   all         89        134      0.812      0.667      0.802      0.705\n"
     ]
    },
    {
     "name": "stderr",
     "output_type": "stream",
     "text": [
      "\n"
     ]
    },
    {
     "name": "stdout",
     "output_type": "stream",
     "text": [
      "\n",
      "      Epoch    GPU_mem   box_loss   cls_loss   dfl_loss  Instances       Size\n"
     ]
    },
    {
     "name": "stderr",
     "output_type": "stream",
     "text": [
      "     55/200      4.63G     0.5842     0.7663     0.9319         38        960: 100%|██████████| 44/44 [00:13<00:00,  3.28it/s]\n",
      "                 Class     Images  Instances      Box(P          R      mAP50  mAP50-95): 100%|██████████| 3/3 [00:01<00:00,  2.85it/s]"
     ]
    },
    {
     "name": "stdout",
     "output_type": "stream",
     "text": [
      "                   all         89        134      0.863      0.628      0.795      0.693\n"
     ]
    },
    {
     "name": "stderr",
     "output_type": "stream",
     "text": [
      "\n"
     ]
    },
    {
     "name": "stdout",
     "output_type": "stream",
     "text": [
      "\n",
      "      Epoch    GPU_mem   box_loss   cls_loss   dfl_loss  Instances       Size\n"
     ]
    },
    {
     "name": "stderr",
     "output_type": "stream",
     "text": [
      "     56/200      4.63G     0.5874     0.7641     0.9356         41        960: 100%|██████████| 44/44 [00:13<00:00,  3.23it/s]\n",
      "                 Class     Images  Instances      Box(P          R      mAP50  mAP50-95): 100%|██████████| 3/3 [00:01<00:00,  2.49it/s]"
     ]
    },
    {
     "name": "stdout",
     "output_type": "stream",
     "text": [
      "                   all         89        134      0.808      0.703      0.799      0.694\n"
     ]
    },
    {
     "name": "stderr",
     "output_type": "stream",
     "text": [
      "\n"
     ]
    },
    {
     "name": "stdout",
     "output_type": "stream",
     "text": [
      "\n",
      "      Epoch    GPU_mem   box_loss   cls_loss   dfl_loss  Instances       Size\n"
     ]
    },
    {
     "name": "stderr",
     "output_type": "stream",
     "text": [
      "     57/200      4.63G     0.5883     0.7082     0.9221         42        960: 100%|██████████| 44/44 [00:13<00:00,  3.27it/s]\n",
      "                 Class     Images  Instances      Box(P          R      mAP50  mAP50-95): 100%|██████████| 3/3 [00:00<00:00,  3.03it/s]"
     ]
    },
    {
     "name": "stdout",
     "output_type": "stream",
     "text": [
      "                   all         89        134      0.879      0.722      0.812       0.71\n"
     ]
    },
    {
     "name": "stderr",
     "output_type": "stream",
     "text": [
      "\n"
     ]
    },
    {
     "name": "stdout",
     "output_type": "stream",
     "text": [
      "\n",
      "      Epoch    GPU_mem   box_loss   cls_loss   dfl_loss  Instances       Size\n"
     ]
    },
    {
     "name": "stderr",
     "output_type": "stream",
     "text": [
      "     58/200      4.63G     0.5927     0.7516     0.9289         38        960: 100%|██████████| 44/44 [00:13<00:00,  3.25it/s]\n",
      "                 Class     Images  Instances      Box(P          R      mAP50  mAP50-95): 100%|██████████| 3/3 [00:01<00:00,  2.90it/s]"
     ]
    },
    {
     "name": "stdout",
     "output_type": "stream",
     "text": [
      "                   all         89        134      0.881      0.656      0.787      0.689\n"
     ]
    },
    {
     "name": "stderr",
     "output_type": "stream",
     "text": [
      "\n"
     ]
    },
    {
     "name": "stdout",
     "output_type": "stream",
     "text": [
      "\n",
      "      Epoch    GPU_mem   box_loss   cls_loss   dfl_loss  Instances       Size\n"
     ]
    },
    {
     "name": "stderr",
     "output_type": "stream",
     "text": [
      "     59/200      4.63G     0.5972     0.7598     0.9352         24        960: 100%|██████████| 44/44 [00:13<00:00,  3.24it/s]\n",
      "                 Class     Images  Instances      Box(P          R      mAP50  mAP50-95): 100%|██████████| 3/3 [00:00<00:00,  3.04it/s]"
     ]
    },
    {
     "name": "stdout",
     "output_type": "stream",
     "text": [
      "                   all         89        134      0.777      0.671      0.797      0.702\n"
     ]
    },
    {
     "name": "stderr",
     "output_type": "stream",
     "text": [
      "\n"
     ]
    },
    {
     "name": "stdout",
     "output_type": "stream",
     "text": [
      "\n",
      "      Epoch    GPU_mem   box_loss   cls_loss   dfl_loss  Instances       Size\n"
     ]
    },
    {
     "name": "stderr",
     "output_type": "stream",
     "text": [
      "     60/200      4.63G     0.5811     0.7392     0.9159         32        960: 100%|██████████| 44/44 [00:13<00:00,  3.26it/s]\n",
      "                 Class     Images  Instances      Box(P          R      mAP50  mAP50-95): 100%|██████████| 3/3 [00:00<00:00,  3.07it/s]"
     ]
    },
    {
     "name": "stdout",
     "output_type": "stream",
     "text": [
      "                   all         89        134      0.845      0.678      0.832       0.74\n"
     ]
    },
    {
     "name": "stderr",
     "output_type": "stream",
     "text": [
      "\n"
     ]
    },
    {
     "name": "stdout",
     "output_type": "stream",
     "text": [
      "\n",
      "      Epoch    GPU_mem   box_loss   cls_loss   dfl_loss  Instances       Size\n"
     ]
    },
    {
     "name": "stderr",
     "output_type": "stream",
     "text": [
      "     61/200      4.63G     0.6014     0.7258     0.9307         41        960: 100%|██████████| 44/44 [00:13<00:00,  3.27it/s]\n",
      "                 Class     Images  Instances      Box(P          R      mAP50  mAP50-95): 100%|██████████| 3/3 [00:00<00:00,  3.24it/s]"
     ]
    },
    {
     "name": "stdout",
     "output_type": "stream",
     "text": [
      "                   all         89        134      0.833      0.719      0.814      0.713\n"
     ]
    },
    {
     "name": "stderr",
     "output_type": "stream",
     "text": [
      "\n"
     ]
    },
    {
     "name": "stdout",
     "output_type": "stream",
     "text": [
      "\n",
      "      Epoch    GPU_mem   box_loss   cls_loss   dfl_loss  Instances       Size\n"
     ]
    },
    {
     "name": "stderr",
     "output_type": "stream",
     "text": [
      "     62/200      4.63G     0.5826     0.6829     0.9259         29        960: 100%|██████████| 44/44 [00:13<00:00,  3.28it/s]\n",
      "                 Class     Images  Instances      Box(P          R      mAP50  mAP50-95): 100%|██████████| 3/3 [00:00<00:00,  3.23it/s]"
     ]
    },
    {
     "name": "stdout",
     "output_type": "stream",
     "text": [
      "                   all         89        134      0.756      0.725      0.806      0.708\n"
     ]
    },
    {
     "name": "stderr",
     "output_type": "stream",
     "text": [
      "\n"
     ]
    },
    {
     "name": "stdout",
     "output_type": "stream",
     "text": [
      "\n",
      "      Epoch    GPU_mem   box_loss   cls_loss   dfl_loss  Instances       Size\n"
     ]
    },
    {
     "name": "stderr",
     "output_type": "stream",
     "text": [
      "     63/200      4.63G     0.5713     0.6799     0.9162         39        960: 100%|██████████| 44/44 [00:13<00:00,  3.27it/s]\n",
      "                 Class     Images  Instances      Box(P          R      mAP50  mAP50-95): 100%|██████████| 3/3 [00:00<00:00,  3.16it/s]"
     ]
    },
    {
     "name": "stdout",
     "output_type": "stream",
     "text": [
      "                   all         89        134      0.752      0.806      0.821      0.726\n"
     ]
    },
    {
     "name": "stderr",
     "output_type": "stream",
     "text": [
      "\n"
     ]
    },
    {
     "name": "stdout",
     "output_type": "stream",
     "text": [
      "\n",
      "      Epoch    GPU_mem   box_loss   cls_loss   dfl_loss  Instances       Size\n"
     ]
    },
    {
     "name": "stderr",
     "output_type": "stream",
     "text": [
      "     64/200      4.63G     0.5735     0.7071      0.926         45        960: 100%|██████████| 44/44 [00:13<00:00,  3.30it/s]\n",
      "                 Class     Images  Instances      Box(P          R      mAP50  mAP50-95): 100%|██████████| 3/3 [00:00<00:00,  3.10it/s]"
     ]
    },
    {
     "name": "stdout",
     "output_type": "stream",
     "text": [
      "                   all         89        134      0.695      0.751      0.789      0.686\n"
     ]
    },
    {
     "name": "stderr",
     "output_type": "stream",
     "text": [
      "\n"
     ]
    },
    {
     "name": "stdout",
     "output_type": "stream",
     "text": [
      "\n",
      "      Epoch    GPU_mem   box_loss   cls_loss   dfl_loss  Instances       Size\n"
     ]
    },
    {
     "name": "stderr",
     "output_type": "stream",
     "text": [
      "     65/200      4.63G     0.5728     0.6865     0.9224         26        960: 100%|██████████| 44/44 [00:13<00:00,  3.28it/s]\n",
      "                 Class     Images  Instances      Box(P          R      mAP50  mAP50-95): 100%|██████████| 3/3 [00:01<00:00,  2.93it/s]"
     ]
    },
    {
     "name": "stdout",
     "output_type": "stream",
     "text": [
      "                   all         89        134      0.832      0.731      0.821      0.704\n"
     ]
    },
    {
     "name": "stderr",
     "output_type": "stream",
     "text": [
      "\n"
     ]
    },
    {
     "name": "stdout",
     "output_type": "stream",
     "text": [
      "\n",
      "      Epoch    GPU_mem   box_loss   cls_loss   dfl_loss  Instances       Size\n"
     ]
    },
    {
     "name": "stderr",
     "output_type": "stream",
     "text": [
      "     66/200      4.63G      0.564     0.6803     0.9136         29        960: 100%|██████████| 44/44 [00:13<00:00,  3.28it/s]\n",
      "                 Class     Images  Instances      Box(P          R      mAP50  mAP50-95): 100%|██████████| 3/3 [00:01<00:00,  2.89it/s]"
     ]
    },
    {
     "name": "stdout",
     "output_type": "stream",
     "text": [
      "                   all         89        134      0.784      0.653      0.797      0.693\n"
     ]
    },
    {
     "name": "stderr",
     "output_type": "stream",
     "text": [
      "\n"
     ]
    },
    {
     "name": "stdout",
     "output_type": "stream",
     "text": [
      "\n",
      "      Epoch    GPU_mem   box_loss   cls_loss   dfl_loss  Instances       Size\n"
     ]
    },
    {
     "name": "stderr",
     "output_type": "stream",
     "text": [
      "     67/200      4.63G     0.5711     0.7288     0.9249         38        960: 100%|██████████| 44/44 [00:13<00:00,  3.23it/s]\n",
      "                 Class     Images  Instances      Box(P          R      mAP50  mAP50-95): 100%|██████████| 3/3 [00:01<00:00,  2.98it/s]"
     ]
    },
    {
     "name": "stdout",
     "output_type": "stream",
     "text": [
      "                   all         89        134      0.847      0.744      0.837      0.742\n"
     ]
    },
    {
     "name": "stderr",
     "output_type": "stream",
     "text": [
      "\n"
     ]
    },
    {
     "name": "stdout",
     "output_type": "stream",
     "text": [
      "\n",
      "      Epoch    GPU_mem   box_loss   cls_loss   dfl_loss  Instances       Size\n"
     ]
    },
    {
     "name": "stderr",
     "output_type": "stream",
     "text": [
      "     68/200      4.63G     0.5666      0.667     0.9128         40        960: 100%|██████████| 44/44 [00:13<00:00,  3.23it/s]\n",
      "                 Class     Images  Instances      Box(P          R      mAP50  mAP50-95): 100%|██████████| 3/3 [00:01<00:00,  2.77it/s]"
     ]
    },
    {
     "name": "stdout",
     "output_type": "stream",
     "text": [
      "                   all         89        134      0.848      0.751      0.836      0.742\n"
     ]
    },
    {
     "name": "stderr",
     "output_type": "stream",
     "text": [
      "\n"
     ]
    },
    {
     "name": "stdout",
     "output_type": "stream",
     "text": [
      "\n",
      "      Epoch    GPU_mem   box_loss   cls_loss   dfl_loss  Instances       Size\n"
     ]
    },
    {
     "name": "stderr",
     "output_type": "stream",
     "text": [
      "     69/200      4.63G     0.5713     0.6776     0.9228         49        960: 100%|██████████| 44/44 [00:13<00:00,  3.28it/s]\n",
      "                 Class     Images  Instances      Box(P          R      mAP50  mAP50-95): 100%|██████████| 3/3 [00:01<00:00,  2.93it/s]"
     ]
    },
    {
     "name": "stdout",
     "output_type": "stream",
     "text": [
      "                   all         89        134      0.905      0.633      0.821      0.729\n"
     ]
    },
    {
     "name": "stderr",
     "output_type": "stream",
     "text": [
      "\n"
     ]
    },
    {
     "name": "stdout",
     "output_type": "stream",
     "text": [
      "\n",
      "      Epoch    GPU_mem   box_loss   cls_loss   dfl_loss  Instances       Size\n"
     ]
    },
    {
     "name": "stderr",
     "output_type": "stream",
     "text": [
      "     70/200      4.63G     0.5472     0.6372     0.9086         40        960: 100%|██████████| 44/44 [00:13<00:00,  3.26it/s]\n",
      "                 Class     Images  Instances      Box(P          R      mAP50  mAP50-95): 100%|██████████| 3/3 [00:01<00:00,  2.89it/s]"
     ]
    },
    {
     "name": "stdout",
     "output_type": "stream",
     "text": [
      "                   all         89        134      0.741       0.79      0.832      0.742\n"
     ]
    },
    {
     "name": "stderr",
     "output_type": "stream",
     "text": [
      "\n"
     ]
    },
    {
     "name": "stdout",
     "output_type": "stream",
     "text": [
      "\n",
      "      Epoch    GPU_mem   box_loss   cls_loss   dfl_loss  Instances       Size\n"
     ]
    },
    {
     "name": "stderr",
     "output_type": "stream",
     "text": [
      "     71/200      4.63G     0.5399     0.6102     0.9055         39        960: 100%|██████████| 44/44 [00:13<00:00,  3.28it/s]\n",
      "                 Class     Images  Instances      Box(P          R      mAP50  mAP50-95): 100%|██████████| 3/3 [00:00<00:00,  3.04it/s]"
     ]
    },
    {
     "name": "stdout",
     "output_type": "stream",
     "text": [
      "                   all         89        134      0.798       0.78       0.82      0.722\n"
     ]
    },
    {
     "name": "stderr",
     "output_type": "stream",
     "text": [
      "\n"
     ]
    },
    {
     "name": "stdout",
     "output_type": "stream",
     "text": [
      "\n",
      "      Epoch    GPU_mem   box_loss   cls_loss   dfl_loss  Instances       Size\n"
     ]
    },
    {
     "name": "stderr",
     "output_type": "stream",
     "text": [
      "     72/200      4.63G     0.5378      0.625     0.9078         58        960: 100%|██████████| 44/44 [00:13<00:00,  3.25it/s]\n",
      "                 Class     Images  Instances      Box(P          R      mAP50  mAP50-95): 100%|██████████| 3/3 [00:00<00:00,  3.13it/s]"
     ]
    },
    {
     "name": "stdout",
     "output_type": "stream",
     "text": [
      "                   all         89        134      0.789      0.662      0.808       0.72\n"
     ]
    },
    {
     "name": "stderr",
     "output_type": "stream",
     "text": [
      "\n"
     ]
    },
    {
     "name": "stdout",
     "output_type": "stream",
     "text": [
      "\n",
      "      Epoch    GPU_mem   box_loss   cls_loss   dfl_loss  Instances       Size\n"
     ]
    },
    {
     "name": "stderr",
     "output_type": "stream",
     "text": [
      "     73/200      4.63G     0.5472     0.6362     0.9155         39        960: 100%|██████████| 44/44 [00:13<00:00,  3.29it/s]\n",
      "                 Class     Images  Instances      Box(P          R      mAP50  mAP50-95): 100%|██████████| 3/3 [00:00<00:00,  3.25it/s]"
     ]
    },
    {
     "name": "stdout",
     "output_type": "stream",
     "text": [
      "                   all         89        134      0.839      0.724      0.821      0.727\n"
     ]
    },
    {
     "name": "stderr",
     "output_type": "stream",
     "text": [
      "\n"
     ]
    },
    {
     "name": "stdout",
     "output_type": "stream",
     "text": [
      "\n",
      "      Epoch    GPU_mem   box_loss   cls_loss   dfl_loss  Instances       Size\n"
     ]
    },
    {
     "name": "stderr",
     "output_type": "stream",
     "text": [
      "     74/200      4.63G     0.5317     0.6261     0.9098         32        960: 100%|██████████| 44/44 [00:13<00:00,  3.29it/s]\n",
      "                 Class     Images  Instances      Box(P          R      mAP50  mAP50-95): 100%|██████████| 3/3 [00:00<00:00,  3.19it/s]"
     ]
    },
    {
     "name": "stdout",
     "output_type": "stream",
     "text": [
      "                   all         89        134      0.886      0.736      0.874       0.78\n"
     ]
    },
    {
     "name": "stderr",
     "output_type": "stream",
     "text": [
      "\n"
     ]
    },
    {
     "name": "stdout",
     "output_type": "stream",
     "text": [
      "\n",
      "      Epoch    GPU_mem   box_loss   cls_loss   dfl_loss  Instances       Size\n"
     ]
    },
    {
     "name": "stderr",
     "output_type": "stream",
     "text": [
      "     75/200      4.63G     0.5347     0.6029     0.9108         35        960: 100%|██████████| 44/44 [00:13<00:00,  3.28it/s]\n",
      "                 Class     Images  Instances      Box(P          R      mAP50  mAP50-95): 100%|██████████| 3/3 [00:00<00:00,  3.12it/s]"
     ]
    },
    {
     "name": "stdout",
     "output_type": "stream",
     "text": [
      "                   all         89        134      0.822      0.767       0.85      0.752\n"
     ]
    },
    {
     "name": "stderr",
     "output_type": "stream",
     "text": [
      "\n"
     ]
    },
    {
     "name": "stdout",
     "output_type": "stream",
     "text": [
      "\n",
      "      Epoch    GPU_mem   box_loss   cls_loss   dfl_loss  Instances       Size\n"
     ]
    },
    {
     "name": "stderr",
     "output_type": "stream",
     "text": [
      "     76/200      4.63G     0.5386     0.5964     0.9029         24        960: 100%|██████████| 44/44 [00:13<00:00,  3.29it/s]\n",
      "                 Class     Images  Instances      Box(P          R      mAP50  mAP50-95): 100%|██████████| 3/3 [00:00<00:00,  3.18it/s]"
     ]
    },
    {
     "name": "stdout",
     "output_type": "stream",
     "text": [
      "                   all         89        134      0.802      0.736      0.822      0.736\n"
     ]
    },
    {
     "name": "stderr",
     "output_type": "stream",
     "text": [
      "\n"
     ]
    },
    {
     "name": "stdout",
     "output_type": "stream",
     "text": [
      "\n",
      "      Epoch    GPU_mem   box_loss   cls_loss   dfl_loss  Instances       Size\n"
     ]
    },
    {
     "name": "stderr",
     "output_type": "stream",
     "text": [
      "     77/200      4.63G     0.5485     0.6255     0.9164         33        960: 100%|██████████| 44/44 [00:13<00:00,  3.31it/s]\n",
      "                 Class     Images  Instances      Box(P          R      mAP50  mAP50-95): 100%|██████████| 3/3 [00:00<00:00,  3.17it/s]"
     ]
    },
    {
     "name": "stdout",
     "output_type": "stream",
     "text": [
      "                   all         89        134      0.799      0.741       0.82      0.722\n"
     ]
    },
    {
     "name": "stderr",
     "output_type": "stream",
     "text": [
      "\n"
     ]
    },
    {
     "name": "stdout",
     "output_type": "stream",
     "text": [
      "\n",
      "      Epoch    GPU_mem   box_loss   cls_loss   dfl_loss  Instances       Size\n"
     ]
    },
    {
     "name": "stderr",
     "output_type": "stream",
     "text": [
      "     78/200      4.63G     0.5382     0.6079     0.9131         40        960: 100%|██████████| 44/44 [00:13<00:00,  3.28it/s]\n",
      "                 Class     Images  Instances      Box(P          R      mAP50  mAP50-95): 100%|██████████| 3/3 [00:01<00:00,  2.89it/s]"
     ]
    },
    {
     "name": "stdout",
     "output_type": "stream",
     "text": [
      "                   all         89        134      0.828      0.784      0.852      0.765\n"
     ]
    },
    {
     "name": "stderr",
     "output_type": "stream",
     "text": [
      "\n"
     ]
    },
    {
     "name": "stdout",
     "output_type": "stream",
     "text": [
      "\n",
      "      Epoch    GPU_mem   box_loss   cls_loss   dfl_loss  Instances       Size\n"
     ]
    },
    {
     "name": "stderr",
     "output_type": "stream",
     "text": [
      "     79/200      4.63G     0.5636     0.6381     0.9078         44        960: 100%|██████████| 44/44 [00:13<00:00,  3.28it/s]\n",
      "                 Class     Images  Instances      Box(P          R      mAP50  mAP50-95): 100%|██████████| 3/3 [00:00<00:00,  3.08it/s]"
     ]
    },
    {
     "name": "stdout",
     "output_type": "stream",
     "text": [
      "                   all         89        134        0.7      0.756      0.799       0.71\n"
     ]
    },
    {
     "name": "stderr",
     "output_type": "stream",
     "text": [
      "\n"
     ]
    },
    {
     "name": "stdout",
     "output_type": "stream",
     "text": [
      "\n",
      "      Epoch    GPU_mem   box_loss   cls_loss   dfl_loss  Instances       Size\n"
     ]
    },
    {
     "name": "stderr",
     "output_type": "stream",
     "text": [
      "     80/200      4.63G     0.5238     0.5745        0.9         53        960: 100%|██████████| 44/44 [00:13<00:00,  3.28it/s]\n",
      "                 Class     Images  Instances      Box(P          R      mAP50  mAP50-95): 100%|██████████| 3/3 [00:00<00:00,  3.07it/s]"
     ]
    },
    {
     "name": "stdout",
     "output_type": "stream",
     "text": [
      "                   all         89        134      0.746      0.733      0.797      0.719\n"
     ]
    },
    {
     "name": "stderr",
     "output_type": "stream",
     "text": [
      "\n"
     ]
    },
    {
     "name": "stdout",
     "output_type": "stream",
     "text": [
      "\n",
      "      Epoch    GPU_mem   box_loss   cls_loss   dfl_loss  Instances       Size\n"
     ]
    },
    {
     "name": "stderr",
     "output_type": "stream",
     "text": [
      "     81/200      4.63G      0.552     0.6106     0.9029         35        960: 100%|██████████| 44/44 [00:13<00:00,  3.23it/s]\n",
      "                 Class     Images  Instances      Box(P          R      mAP50  mAP50-95): 100%|██████████| 3/3 [00:00<00:00,  3.16it/s]"
     ]
    },
    {
     "name": "stdout",
     "output_type": "stream",
     "text": [
      "                   all         89        134      0.854      0.766      0.841      0.746\n"
     ]
    },
    {
     "name": "stderr",
     "output_type": "stream",
     "text": [
      "\n"
     ]
    },
    {
     "name": "stdout",
     "output_type": "stream",
     "text": [
      "\n",
      "      Epoch    GPU_mem   box_loss   cls_loss   dfl_loss  Instances       Size\n"
     ]
    },
    {
     "name": "stderr",
     "output_type": "stream",
     "text": [
      "     82/200      4.63G     0.5147     0.5833     0.9012         34        960: 100%|██████████| 44/44 [00:13<00:00,  3.28it/s]\n",
      "                 Class     Images  Instances      Box(P          R      mAP50  mAP50-95): 100%|██████████| 3/3 [00:00<00:00,  3.13it/s]"
     ]
    },
    {
     "name": "stdout",
     "output_type": "stream",
     "text": [
      "                   all         89        134       0.79      0.768      0.834      0.738\n"
     ]
    },
    {
     "name": "stderr",
     "output_type": "stream",
     "text": [
      "\n"
     ]
    },
    {
     "name": "stdout",
     "output_type": "stream",
     "text": [
      "\n",
      "      Epoch    GPU_mem   box_loss   cls_loss   dfl_loss  Instances       Size\n"
     ]
    },
    {
     "name": "stderr",
     "output_type": "stream",
     "text": [
      "     83/200      4.63G      0.517     0.5704     0.9109         46        960: 100%|██████████| 44/44 [00:13<00:00,  3.25it/s]\n",
      "                 Class     Images  Instances      Box(P          R      mAP50  mAP50-95): 100%|██████████| 3/3 [00:00<00:00,  3.13it/s]"
     ]
    },
    {
     "name": "stdout",
     "output_type": "stream",
     "text": [
      "                   all         89        134      0.866      0.716      0.833      0.749\n"
     ]
    },
    {
     "name": "stderr",
     "output_type": "stream",
     "text": [
      "\n"
     ]
    },
    {
     "name": "stdout",
     "output_type": "stream",
     "text": [
      "\n",
      "      Epoch    GPU_mem   box_loss   cls_loss   dfl_loss  Instances       Size\n"
     ]
    },
    {
     "name": "stderr",
     "output_type": "stream",
     "text": [
      "     84/200      4.63G     0.5198     0.5639     0.8964         40        960: 100%|██████████| 44/44 [00:13<00:00,  3.29it/s]\n",
      "                 Class     Images  Instances      Box(P          R      mAP50  mAP50-95): 100%|██████████| 3/3 [00:00<00:00,  3.21it/s]"
     ]
    },
    {
     "name": "stdout",
     "output_type": "stream",
     "text": [
      "                   all         89        134      0.884      0.651      0.838      0.751\n"
     ]
    },
    {
     "name": "stderr",
     "output_type": "stream",
     "text": [
      "\n"
     ]
    },
    {
     "name": "stdout",
     "output_type": "stream",
     "text": [
      "\n",
      "      Epoch    GPU_mem   box_loss   cls_loss   dfl_loss  Instances       Size\n"
     ]
    },
    {
     "name": "stderr",
     "output_type": "stream",
     "text": [
      "     85/200      4.63G     0.5158      0.558     0.9013         34        960: 100%|██████████| 44/44 [00:13<00:00,  3.30it/s]\n",
      "                 Class     Images  Instances      Box(P          R      mAP50  mAP50-95): 100%|██████████| 3/3 [00:00<00:00,  3.28it/s]"
     ]
    },
    {
     "name": "stdout",
     "output_type": "stream",
     "text": [
      "                   all         89        134      0.829      0.684      0.827      0.736\n"
     ]
    },
    {
     "name": "stderr",
     "output_type": "stream",
     "text": [
      "\n"
     ]
    },
    {
     "name": "stdout",
     "output_type": "stream",
     "text": [
      "\n",
      "      Epoch    GPU_mem   box_loss   cls_loss   dfl_loss  Instances       Size\n"
     ]
    },
    {
     "name": "stderr",
     "output_type": "stream",
     "text": [
      "     86/200      4.63G     0.5237       0.58     0.9032         36        960: 100%|██████████| 44/44 [00:13<00:00,  3.30it/s]\n",
      "                 Class     Images  Instances      Box(P          R      mAP50  mAP50-95): 100%|██████████| 3/3 [00:00<00:00,  3.22it/s]"
     ]
    },
    {
     "name": "stdout",
     "output_type": "stream",
     "text": [
      "                   all         89        134        0.9      0.658      0.839       0.75\n"
     ]
    },
    {
     "name": "stderr",
     "output_type": "stream",
     "text": [
      "\n"
     ]
    },
    {
     "name": "stdout",
     "output_type": "stream",
     "text": [
      "\n",
      "      Epoch    GPU_mem   box_loss   cls_loss   dfl_loss  Instances       Size\n"
     ]
    },
    {
     "name": "stderr",
     "output_type": "stream",
     "text": [
      "     87/200      4.63G     0.5283     0.5734     0.9055         38        960: 100%|██████████| 44/44 [00:13<00:00,  3.27it/s]\n",
      "                 Class     Images  Instances      Box(P          R      mAP50  mAP50-95): 100%|██████████| 3/3 [00:00<00:00,  3.27it/s]"
     ]
    },
    {
     "name": "stdout",
     "output_type": "stream",
     "text": [
      "                   all         89        134      0.893      0.667      0.822      0.733\n"
     ]
    },
    {
     "name": "stderr",
     "output_type": "stream",
     "text": [
      "\n"
     ]
    },
    {
     "name": "stdout",
     "output_type": "stream",
     "text": [
      "\n",
      "      Epoch    GPU_mem   box_loss   cls_loss   dfl_loss  Instances       Size\n"
     ]
    },
    {
     "name": "stderr",
     "output_type": "stream",
     "text": [
      "     88/200      4.63G      0.515      0.568     0.9086         41        960: 100%|██████████| 44/44 [00:13<00:00,  3.26it/s]\n",
      "                 Class     Images  Instances      Box(P          R      mAP50  mAP50-95): 100%|██████████| 3/3 [00:01<00:00,  2.74it/s]"
     ]
    },
    {
     "name": "stdout",
     "output_type": "stream",
     "text": [
      "                   all         89        134      0.883      0.705      0.837      0.752\n"
     ]
    },
    {
     "name": "stderr",
     "output_type": "stream",
     "text": [
      "\n"
     ]
    },
    {
     "name": "stdout",
     "output_type": "stream",
     "text": [
      "\n",
      "      Epoch    GPU_mem   box_loss   cls_loss   dfl_loss  Instances       Size\n"
     ]
    },
    {
     "name": "stderr",
     "output_type": "stream",
     "text": [
      "     89/200      4.63G     0.4932     0.5406     0.8782         37        960: 100%|██████████| 44/44 [00:13<00:00,  3.30it/s]\n",
      "                 Class     Images  Instances      Box(P          R      mAP50  mAP50-95): 100%|██████████| 3/3 [00:00<00:00,  3.07it/s]"
     ]
    },
    {
     "name": "stdout",
     "output_type": "stream",
     "text": [
      "                   all         89        134      0.862      0.726      0.858      0.753\n"
     ]
    },
    {
     "name": "stderr",
     "output_type": "stream",
     "text": [
      "\n"
     ]
    },
    {
     "name": "stdout",
     "output_type": "stream",
     "text": [
      "\n",
      "      Epoch    GPU_mem   box_loss   cls_loss   dfl_loss  Instances       Size\n"
     ]
    },
    {
     "name": "stderr",
     "output_type": "stream",
     "text": [
      "     90/200      4.63G     0.5252     0.5786     0.9086         28        960: 100%|██████████| 44/44 [00:13<00:00,  3.27it/s]\n",
      "                 Class     Images  Instances      Box(P          R      mAP50  mAP50-95): 100%|██████████| 3/3 [00:01<00:00,  2.76it/s]"
     ]
    },
    {
     "name": "stdout",
     "output_type": "stream",
     "text": [
      "                   all         89        134      0.855      0.703      0.836      0.745\n"
     ]
    },
    {
     "name": "stderr",
     "output_type": "stream",
     "text": [
      "\n"
     ]
    },
    {
     "name": "stdout",
     "output_type": "stream",
     "text": [
      "\n",
      "      Epoch    GPU_mem   box_loss   cls_loss   dfl_loss  Instances       Size\n"
     ]
    },
    {
     "name": "stderr",
     "output_type": "stream",
     "text": [
      "     91/200      4.63G     0.5033     0.5468     0.8905         28        960: 100%|██████████| 44/44 [00:13<00:00,  3.24it/s]\n",
      "                 Class     Images  Instances      Box(P          R      mAP50  mAP50-95): 100%|██████████| 3/3 [00:01<00:00,  3.00it/s]"
     ]
    },
    {
     "name": "stdout",
     "output_type": "stream",
     "text": [
      "                   all         89        134      0.851      0.731      0.855      0.753\n"
     ]
    },
    {
     "name": "stderr",
     "output_type": "stream",
     "text": [
      "\n"
     ]
    },
    {
     "name": "stdout",
     "output_type": "stream",
     "text": [
      "\n",
      "      Epoch    GPU_mem   box_loss   cls_loss   dfl_loss  Instances       Size\n"
     ]
    },
    {
     "name": "stderr",
     "output_type": "stream",
     "text": [
      "     92/200      4.63G     0.5081     0.5295     0.9024         43        960: 100%|██████████| 44/44 [00:13<00:00,  3.24it/s]\n",
      "                 Class     Images  Instances      Box(P          R      mAP50  mAP50-95): 100%|██████████| 3/3 [00:00<00:00,  3.02it/s]"
     ]
    },
    {
     "name": "stdout",
     "output_type": "stream",
     "text": [
      "                   all         89        134      0.779      0.792      0.855      0.763\n"
     ]
    },
    {
     "name": "stderr",
     "output_type": "stream",
     "text": [
      "\n"
     ]
    },
    {
     "name": "stdout",
     "output_type": "stream",
     "text": [
      "\n",
      "      Epoch    GPU_mem   box_loss   cls_loss   dfl_loss  Instances       Size\n"
     ]
    },
    {
     "name": "stderr",
     "output_type": "stream",
     "text": [
      "     93/200      4.63G     0.5065     0.5547     0.8918         39        960: 100%|██████████| 44/44 [00:13<00:00,  3.30it/s]\n",
      "                 Class     Images  Instances      Box(P          R      mAP50  mAP50-95): 100%|██████████| 3/3 [00:00<00:00,  3.30it/s]"
     ]
    },
    {
     "name": "stdout",
     "output_type": "stream",
     "text": [
      "                   all         89        134      0.766      0.789      0.832      0.741\n"
     ]
    },
    {
     "name": "stderr",
     "output_type": "stream",
     "text": [
      "\n"
     ]
    },
    {
     "name": "stdout",
     "output_type": "stream",
     "text": [
      "\n",
      "      Epoch    GPU_mem   box_loss   cls_loss   dfl_loss  Instances       Size\n"
     ]
    },
    {
     "name": "stderr",
     "output_type": "stream",
     "text": [
      "     94/200      4.63G     0.5058      0.542     0.8966         35        960: 100%|██████████| 44/44 [00:13<00:00,  3.28it/s]\n",
      "                 Class     Images  Instances      Box(P          R      mAP50  mAP50-95): 100%|██████████| 3/3 [00:00<00:00,  3.05it/s]"
     ]
    },
    {
     "name": "stdout",
     "output_type": "stream",
     "text": [
      "                   all         89        134      0.823      0.758      0.864       0.77\n"
     ]
    },
    {
     "name": "stderr",
     "output_type": "stream",
     "text": [
      "\n"
     ]
    },
    {
     "name": "stdout",
     "output_type": "stream",
     "text": [
      "\n",
      "      Epoch    GPU_mem   box_loss   cls_loss   dfl_loss  Instances       Size\n"
     ]
    },
    {
     "name": "stderr",
     "output_type": "stream",
     "text": [
      "     95/200      4.63G     0.4892     0.5263     0.8872         28        960: 100%|██████████| 44/44 [00:13<00:00,  3.30it/s]\n",
      "                 Class     Images  Instances      Box(P          R      mAP50  mAP50-95): 100%|██████████| 3/3 [00:00<00:00,  3.26it/s]"
     ]
    },
    {
     "name": "stdout",
     "output_type": "stream",
     "text": [
      "                   all         89        134      0.863      0.704      0.827      0.743\n"
     ]
    },
    {
     "name": "stderr",
     "output_type": "stream",
     "text": [
      "\n"
     ]
    },
    {
     "name": "stdout",
     "output_type": "stream",
     "text": [
      "\n",
      "      Epoch    GPU_mem   box_loss   cls_loss   dfl_loss  Instances       Size\n"
     ]
    },
    {
     "name": "stderr",
     "output_type": "stream",
     "text": [
      "     96/200      4.63G      0.502     0.5449     0.9031         38        960: 100%|██████████| 44/44 [00:13<00:00,  3.29it/s]\n",
      "                 Class     Images  Instances      Box(P          R      mAP50  mAP50-95): 100%|██████████| 3/3 [00:00<00:00,  3.23it/s]"
     ]
    },
    {
     "name": "stdout",
     "output_type": "stream",
     "text": [
      "                   all         89        134      0.727      0.775      0.816      0.727\n"
     ]
    },
    {
     "name": "stderr",
     "output_type": "stream",
     "text": [
      "\n"
     ]
    },
    {
     "name": "stdout",
     "output_type": "stream",
     "text": [
      "\n",
      "      Epoch    GPU_mem   box_loss   cls_loss   dfl_loss  Instances       Size\n"
     ]
    },
    {
     "name": "stderr",
     "output_type": "stream",
     "text": [
      "     97/200      4.63G     0.5078     0.5405     0.8898         33        960: 100%|██████████| 44/44 [00:13<00:00,  3.30it/s]\n",
      "                 Class     Images  Instances      Box(P          R      mAP50  mAP50-95): 100%|██████████| 3/3 [00:00<00:00,  3.29it/s]"
     ]
    },
    {
     "name": "stdout",
     "output_type": "stream",
     "text": [
      "                   all         89        134      0.828      0.689      0.828      0.744\n"
     ]
    },
    {
     "name": "stderr",
     "output_type": "stream",
     "text": [
      "\n"
     ]
    },
    {
     "name": "stdout",
     "output_type": "stream",
     "text": [
      "\n",
      "      Epoch    GPU_mem   box_loss   cls_loss   dfl_loss  Instances       Size\n"
     ]
    },
    {
     "name": "stderr",
     "output_type": "stream",
     "text": [
      "     98/200      4.63G     0.4982     0.5303     0.8848         36        960: 100%|██████████| 44/44 [00:13<00:00,  3.33it/s]\n",
      "                 Class     Images  Instances      Box(P          R      mAP50  mAP50-95): 100%|██████████| 3/3 [00:00<00:00,  3.26it/s]"
     ]
    },
    {
     "name": "stdout",
     "output_type": "stream",
     "text": [
      "                   all         89        134      0.847      0.707       0.84      0.758\n"
     ]
    },
    {
     "name": "stderr",
     "output_type": "stream",
     "text": [
      "\n"
     ]
    },
    {
     "name": "stdout",
     "output_type": "stream",
     "text": [
      "\n",
      "      Epoch    GPU_mem   box_loss   cls_loss   dfl_loss  Instances       Size\n"
     ]
    },
    {
     "name": "stderr",
     "output_type": "stream",
     "text": [
      "     99/200      4.63G     0.4835     0.5192     0.8838         35        960: 100%|██████████| 44/44 [00:13<00:00,  3.25it/s]\n",
      "                 Class     Images  Instances      Box(P          R      mAP50  mAP50-95): 100%|██████████| 3/3 [00:01<00:00,  2.97it/s]"
     ]
    },
    {
     "name": "stdout",
     "output_type": "stream",
     "text": [
      "                   all         89        134      0.876      0.744      0.844      0.763\n"
     ]
    },
    {
     "name": "stderr",
     "output_type": "stream",
     "text": [
      "\n"
     ]
    },
    {
     "name": "stdout",
     "output_type": "stream",
     "text": [
      "\n",
      "      Epoch    GPU_mem   box_loss   cls_loss   dfl_loss  Instances       Size\n"
     ]
    },
    {
     "name": "stderr",
     "output_type": "stream",
     "text": [
      "    100/200      4.63G     0.4968     0.5155     0.8822         41        960: 100%|██████████| 44/44 [00:13<00:00,  3.19it/s]\n",
      "                 Class     Images  Instances      Box(P          R      mAP50  mAP50-95): 100%|██████████| 3/3 [00:01<00:00,  2.74it/s]"
     ]
    },
    {
     "name": "stdout",
     "output_type": "stream",
     "text": [
      "                   all         89        134      0.859      0.716      0.841      0.763\n"
     ]
    },
    {
     "name": "stderr",
     "output_type": "stream",
     "text": [
      "\n"
     ]
    },
    {
     "name": "stdout",
     "output_type": "stream",
     "text": [
      "\n",
      "      Epoch    GPU_mem   box_loss   cls_loss   dfl_loss  Instances       Size\n"
     ]
    },
    {
     "name": "stderr",
     "output_type": "stream",
     "text": [
      "    101/200      4.63G     0.5047     0.5226     0.8867         46        960: 100%|██████████| 44/44 [00:13<00:00,  3.28it/s]\n",
      "                 Class     Images  Instances      Box(P          R      mAP50  mAP50-95): 100%|██████████| 3/3 [00:00<00:00,  3.07it/s]"
     ]
    },
    {
     "name": "stdout",
     "output_type": "stream",
     "text": [
      "                   all         89        134      0.829      0.787      0.876      0.788\n"
     ]
    },
    {
     "name": "stderr",
     "output_type": "stream",
     "text": [
      "\n"
     ]
    },
    {
     "name": "stdout",
     "output_type": "stream",
     "text": [
      "\n",
      "      Epoch    GPU_mem   box_loss   cls_loss   dfl_loss  Instances       Size\n"
     ]
    },
    {
     "name": "stderr",
     "output_type": "stream",
     "text": [
      "    102/200      4.63G     0.4861     0.4995     0.8801         33        960: 100%|██████████| 44/44 [00:13<00:00,  3.27it/s]\n",
      "                 Class     Images  Instances      Box(P          R      mAP50  mAP50-95): 100%|██████████| 3/3 [00:00<00:00,  3.20it/s]"
     ]
    },
    {
     "name": "stdout",
     "output_type": "stream",
     "text": [
      "                   all         89        134      0.847      0.753      0.869      0.786\n"
     ]
    },
    {
     "name": "stderr",
     "output_type": "stream",
     "text": [
      "\n"
     ]
    },
    {
     "name": "stdout",
     "output_type": "stream",
     "text": [
      "\n",
      "      Epoch    GPU_mem   box_loss   cls_loss   dfl_loss  Instances       Size\n"
     ]
    },
    {
     "name": "stderr",
     "output_type": "stream",
     "text": [
      "    103/200      4.63G     0.4907      0.533     0.8913         32        960: 100%|██████████| 44/44 [00:13<00:00,  3.26it/s]\n",
      "                 Class     Images  Instances      Box(P          R      mAP50  mAP50-95): 100%|██████████| 3/3 [00:00<00:00,  3.28it/s]"
     ]
    },
    {
     "name": "stdout",
     "output_type": "stream",
     "text": [
      "                   all         89        134      0.831      0.734      0.844      0.758\n"
     ]
    },
    {
     "name": "stderr",
     "output_type": "stream",
     "text": [
      "\n"
     ]
    },
    {
     "name": "stdout",
     "output_type": "stream",
     "text": [
      "\n",
      "      Epoch    GPU_mem   box_loss   cls_loss   dfl_loss  Instances       Size\n"
     ]
    },
    {
     "name": "stderr",
     "output_type": "stream",
     "text": [
      "    104/200      4.63G     0.4875     0.5334     0.8889         39        960: 100%|██████████| 44/44 [00:13<00:00,  3.26it/s]\n",
      "                 Class     Images  Instances      Box(P          R      mAP50  mAP50-95): 100%|██████████| 3/3 [00:01<00:00,  2.87it/s]"
     ]
    },
    {
     "name": "stdout",
     "output_type": "stream",
     "text": [
      "                   all         89        134      0.822      0.783       0.86       0.77\n"
     ]
    },
    {
     "name": "stderr",
     "output_type": "stream",
     "text": [
      "\n"
     ]
    },
    {
     "name": "stdout",
     "output_type": "stream",
     "text": [
      "\n",
      "      Epoch    GPU_mem   box_loss   cls_loss   dfl_loss  Instances       Size\n"
     ]
    },
    {
     "name": "stderr",
     "output_type": "stream",
     "text": [
      "    105/200      4.63G     0.4789     0.5078     0.8862         34        960: 100%|██████████| 44/44 [00:13<00:00,  3.25it/s]\n",
      "                 Class     Images  Instances      Box(P          R      mAP50  mAP50-95): 100%|██████████| 3/3 [00:00<00:00,  3.14it/s]"
     ]
    },
    {
     "name": "stdout",
     "output_type": "stream",
     "text": [
      "                   all         89        134       0.91      0.722      0.855      0.767\n"
     ]
    },
    {
     "name": "stderr",
     "output_type": "stream",
     "text": [
      "\n"
     ]
    },
    {
     "name": "stdout",
     "output_type": "stream",
     "text": [
      "\n",
      "      Epoch    GPU_mem   box_loss   cls_loss   dfl_loss  Instances       Size\n"
     ]
    },
    {
     "name": "stderr",
     "output_type": "stream",
     "text": [
      "    106/200      4.63G     0.4722     0.5157     0.8805         28        960: 100%|██████████| 44/44 [00:13<00:00,  3.32it/s]\n",
      "                 Class     Images  Instances      Box(P          R      mAP50  mAP50-95): 100%|██████████| 3/3 [00:00<00:00,  3.19it/s]"
     ]
    },
    {
     "name": "stdout",
     "output_type": "stream",
     "text": [
      "                   all         89        134      0.795      0.792      0.862      0.777\n"
     ]
    },
    {
     "name": "stderr",
     "output_type": "stream",
     "text": [
      "\n"
     ]
    },
    {
     "name": "stdout",
     "output_type": "stream",
     "text": [
      "\n",
      "      Epoch    GPU_mem   box_loss   cls_loss   dfl_loss  Instances       Size\n"
     ]
    },
    {
     "name": "stderr",
     "output_type": "stream",
     "text": [
      "    107/200      4.63G     0.4752     0.5022     0.8871         40        960: 100%|██████████| 44/44 [00:13<00:00,  3.28it/s]\n",
      "                 Class     Images  Instances      Box(P          R      mAP50  mAP50-95): 100%|██████████| 3/3 [00:00<00:00,  3.27it/s]"
     ]
    },
    {
     "name": "stdout",
     "output_type": "stream",
     "text": [
      "                   all         89        134      0.822      0.859      0.887      0.788\n"
     ]
    },
    {
     "name": "stderr",
     "output_type": "stream",
     "text": [
      "\n"
     ]
    },
    {
     "name": "stdout",
     "output_type": "stream",
     "text": [
      "\n",
      "      Epoch    GPU_mem   box_loss   cls_loss   dfl_loss  Instances       Size\n"
     ]
    },
    {
     "name": "stderr",
     "output_type": "stream",
     "text": [
      "    108/200      4.48G     0.4736     0.5212     0.8802         40        960: 100%|██████████| 44/44 [00:13<00:00,  3.26it/s]\n",
      "                 Class     Images  Instances      Box(P          R      mAP50  mAP50-95): 100%|██████████| 3/3 [00:01<00:00,  2.92it/s]"
     ]
    },
    {
     "name": "stdout",
     "output_type": "stream",
     "text": [
      "                   all         89        134      0.869      0.793      0.876      0.787\n"
     ]
    },
    {
     "name": "stderr",
     "output_type": "stream",
     "text": [
      "\n"
     ]
    },
    {
     "name": "stdout",
     "output_type": "stream",
     "text": [
      "\n",
      "      Epoch    GPU_mem   box_loss   cls_loss   dfl_loss  Instances       Size\n"
     ]
    },
    {
     "name": "stderr",
     "output_type": "stream",
     "text": [
      "    109/200      4.63G     0.4638     0.5092     0.8796         32        960: 100%|██████████| 44/44 [00:13<00:00,  3.26it/s]\n",
      "                 Class     Images  Instances      Box(P          R      mAP50  mAP50-95): 100%|██████████| 3/3 [00:00<00:00,  3.04it/s]"
     ]
    },
    {
     "name": "stdout",
     "output_type": "stream",
     "text": [
      "                   all         89        134      0.845      0.776      0.857      0.768\n"
     ]
    },
    {
     "name": "stderr",
     "output_type": "stream",
     "text": [
      "\n"
     ]
    },
    {
     "name": "stdout",
     "output_type": "stream",
     "text": [
      "\n",
      "      Epoch    GPU_mem   box_loss   cls_loss   dfl_loss  Instances       Size\n"
     ]
    },
    {
     "name": "stderr",
     "output_type": "stream",
     "text": [
      "    110/200      4.63G     0.4746     0.4899     0.8746         29        960: 100%|██████████| 44/44 [00:13<00:00,  3.29it/s]\n",
      "                 Class     Images  Instances      Box(P          R      mAP50  mAP50-95): 100%|██████████| 3/3 [00:01<00:00,  2.92it/s]"
     ]
    },
    {
     "name": "stdout",
     "output_type": "stream",
     "text": [
      "                   all         89        134      0.861      0.789      0.876      0.787\n"
     ]
    },
    {
     "name": "stderr",
     "output_type": "stream",
     "text": [
      "\n"
     ]
    },
    {
     "name": "stdout",
     "output_type": "stream",
     "text": [
      "\n",
      "      Epoch    GPU_mem   box_loss   cls_loss   dfl_loss  Instances       Size\n"
     ]
    },
    {
     "name": "stderr",
     "output_type": "stream",
     "text": [
      "    111/200      4.63G     0.4651     0.4868     0.8858         30        960: 100%|██████████| 44/44 [00:13<00:00,  3.26it/s]\n",
      "                 Class     Images  Instances      Box(P          R      mAP50  mAP50-95): 100%|██████████| 3/3 [00:01<00:00,  2.89it/s]"
     ]
    },
    {
     "name": "stdout",
     "output_type": "stream",
     "text": [
      "                   all         89        134      0.815      0.852      0.884      0.787\n"
     ]
    },
    {
     "name": "stderr",
     "output_type": "stream",
     "text": [
      "\n"
     ]
    },
    {
     "name": "stdout",
     "output_type": "stream",
     "text": [
      "\n",
      "      Epoch    GPU_mem   box_loss   cls_loss   dfl_loss  Instances       Size\n"
     ]
    },
    {
     "name": "stderr",
     "output_type": "stream",
     "text": [
      "    112/200      4.63G       0.46     0.5035     0.8874         30        960: 100%|██████████| 44/44 [00:13<00:00,  3.24it/s]\n",
      "                 Class     Images  Instances      Box(P          R      mAP50  mAP50-95): 100%|██████████| 3/3 [00:01<00:00,  2.94it/s]"
     ]
    },
    {
     "name": "stdout",
     "output_type": "stream",
     "text": [
      "                   all         89        134      0.851       0.81      0.885      0.791\n"
     ]
    },
    {
     "name": "stderr",
     "output_type": "stream",
     "text": [
      "\n"
     ]
    },
    {
     "name": "stdout",
     "output_type": "stream",
     "text": [
      "\n",
      "      Epoch    GPU_mem   box_loss   cls_loss   dfl_loss  Instances       Size\n"
     ]
    },
    {
     "name": "stderr",
     "output_type": "stream",
     "text": [
      "    113/200      4.63G     0.4826     0.5042     0.8808         30        960: 100%|██████████| 44/44 [00:13<00:00,  3.27it/s]\n",
      "                 Class     Images  Instances      Box(P          R      mAP50  mAP50-95): 100%|██████████| 3/3 [00:00<00:00,  3.04it/s]"
     ]
    },
    {
     "name": "stdout",
     "output_type": "stream",
     "text": [
      "                   all         89        134      0.883      0.744      0.854      0.778\n"
     ]
    },
    {
     "name": "stderr",
     "output_type": "stream",
     "text": [
      "\n"
     ]
    },
    {
     "name": "stdout",
     "output_type": "stream",
     "text": [
      "\n",
      "      Epoch    GPU_mem   box_loss   cls_loss   dfl_loss  Instances       Size\n"
     ]
    },
    {
     "name": "stderr",
     "output_type": "stream",
     "text": [
      "    114/200      4.63G     0.4654     0.4694     0.8865         39        960: 100%|██████████| 44/44 [00:13<00:00,  3.26it/s]\n",
      "                 Class     Images  Instances      Box(P          R      mAP50  mAP50-95): 100%|██████████| 3/3 [00:00<00:00,  3.12it/s]"
     ]
    },
    {
     "name": "stdout",
     "output_type": "stream",
     "text": [
      "                   all         89        134      0.806      0.753      0.842      0.769\n"
     ]
    },
    {
     "name": "stderr",
     "output_type": "stream",
     "text": [
      "\n"
     ]
    },
    {
     "name": "stdout",
     "output_type": "stream",
     "text": [
      "\n",
      "      Epoch    GPU_mem   box_loss   cls_loss   dfl_loss  Instances       Size\n"
     ]
    },
    {
     "name": "stderr",
     "output_type": "stream",
     "text": [
      "    115/200      4.63G     0.4342     0.4678     0.8739         43        960: 100%|██████████| 44/44 [00:13<00:00,  3.26it/s]\n",
      "                 Class     Images  Instances      Box(P          R      mAP50  mAP50-95): 100%|██████████| 3/3 [00:00<00:00,  3.05it/s]"
     ]
    },
    {
     "name": "stdout",
     "output_type": "stream",
     "text": [
      "                   all         89        134      0.857       0.72      0.853      0.768\n"
     ]
    },
    {
     "name": "stderr",
     "output_type": "stream",
     "text": [
      "\n"
     ]
    },
    {
     "name": "stdout",
     "output_type": "stream",
     "text": [
      "\n",
      "      Epoch    GPU_mem   box_loss   cls_loss   dfl_loss  Instances       Size\n"
     ]
    },
    {
     "name": "stderr",
     "output_type": "stream",
     "text": [
      "    116/200      4.63G     0.4805     0.4997     0.8875         37        960: 100%|██████████| 44/44 [00:13<00:00,  3.27it/s]\n",
      "                 Class     Images  Instances      Box(P          R      mAP50  mAP50-95): 100%|██████████| 3/3 [00:00<00:00,  3.03it/s]"
     ]
    },
    {
     "name": "stdout",
     "output_type": "stream",
     "text": [
      "                   all         89        134       0.82      0.819      0.855      0.771\n"
     ]
    },
    {
     "name": "stderr",
     "output_type": "stream",
     "text": [
      "\n"
     ]
    },
    {
     "name": "stdout",
     "output_type": "stream",
     "text": [
      "\n",
      "      Epoch    GPU_mem   box_loss   cls_loss   dfl_loss  Instances       Size\n"
     ]
    },
    {
     "name": "stderr",
     "output_type": "stream",
     "text": [
      "    117/200      4.63G     0.4504     0.4669     0.8722         38        960: 100%|██████████| 44/44 [00:13<00:00,  3.28it/s]\n",
      "                 Class     Images  Instances      Box(P          R      mAP50  mAP50-95): 100%|██████████| 3/3 [00:01<00:00,  2.92it/s]"
     ]
    },
    {
     "name": "stdout",
     "output_type": "stream",
     "text": [
      "                   all         89        134      0.809       0.75       0.84      0.755\n"
     ]
    },
    {
     "name": "stderr",
     "output_type": "stream",
     "text": [
      "\n"
     ]
    },
    {
     "name": "stdout",
     "output_type": "stream",
     "text": [
      "\n",
      "      Epoch    GPU_mem   box_loss   cls_loss   dfl_loss  Instances       Size\n"
     ]
    },
    {
     "name": "stderr",
     "output_type": "stream",
     "text": [
      "    118/200      4.63G     0.4544     0.4644     0.8838         26        960: 100%|██████████| 44/44 [00:13<00:00,  3.26it/s]\n",
      "                 Class     Images  Instances      Box(P          R      mAP50  mAP50-95): 100%|██████████| 3/3 [00:00<00:00,  3.05it/s]"
     ]
    },
    {
     "name": "stdout",
     "output_type": "stream",
     "text": [
      "                   all         89        134       0.82      0.806      0.874      0.786\n"
     ]
    },
    {
     "name": "stderr",
     "output_type": "stream",
     "text": [
      "\n"
     ]
    },
    {
     "name": "stdout",
     "output_type": "stream",
     "text": [
      "\n",
      "      Epoch    GPU_mem   box_loss   cls_loss   dfl_loss  Instances       Size\n"
     ]
    },
    {
     "name": "stderr",
     "output_type": "stream",
     "text": [
      "    119/200      4.63G     0.4687     0.4804     0.8813         45        960: 100%|██████████| 44/44 [00:13<00:00,  3.30it/s]\n",
      "                 Class     Images  Instances      Box(P          R      mAP50  mAP50-95): 100%|██████████| 3/3 [00:01<00:00,  2.91it/s]"
     ]
    },
    {
     "name": "stdout",
     "output_type": "stream",
     "text": [
      "                   all         89        134      0.791      0.812      0.857      0.777\n"
     ]
    },
    {
     "name": "stderr",
     "output_type": "stream",
     "text": [
      "\n"
     ]
    },
    {
     "name": "stdout",
     "output_type": "stream",
     "text": [
      "\n",
      "      Epoch    GPU_mem   box_loss   cls_loss   dfl_loss  Instances       Size\n"
     ]
    },
    {
     "name": "stderr",
     "output_type": "stream",
     "text": [
      "    120/200      4.63G     0.4512     0.4587     0.8764         42        960: 100%|██████████| 44/44 [00:13<00:00,  3.25it/s]\n",
      "                 Class     Images  Instances      Box(P          R      mAP50  mAP50-95): 100%|██████████| 3/3 [00:01<00:00,  2.89it/s]"
     ]
    },
    {
     "name": "stdout",
     "output_type": "stream",
     "text": [
      "                   all         89        134        0.9      0.765      0.876      0.791\n"
     ]
    },
    {
     "name": "stderr",
     "output_type": "stream",
     "text": [
      "\n"
     ]
    },
    {
     "name": "stdout",
     "output_type": "stream",
     "text": [
      "\n",
      "      Epoch    GPU_mem   box_loss   cls_loss   dfl_loss  Instances       Size\n"
     ]
    },
    {
     "name": "stderr",
     "output_type": "stream",
     "text": [
      "    121/200      4.63G     0.4588     0.4783     0.8819         36        960: 100%|██████████| 44/44 [00:13<00:00,  3.24it/s]\n",
      "                 Class     Images  Instances      Box(P          R      mAP50  mAP50-95): 100%|██████████| 3/3 [00:00<00:00,  3.05it/s]"
     ]
    },
    {
     "name": "stdout",
     "output_type": "stream",
     "text": [
      "                   all         89        134      0.867      0.717      0.843      0.765\n"
     ]
    },
    {
     "name": "stderr",
     "output_type": "stream",
     "text": [
      "\n"
     ]
    },
    {
     "name": "stdout",
     "output_type": "stream",
     "text": [
      "\n",
      "      Epoch    GPU_mem   box_loss   cls_loss   dfl_loss  Instances       Size\n"
     ]
    },
    {
     "name": "stderr",
     "output_type": "stream",
     "text": [
      "    122/200      4.63G     0.4614     0.4714     0.8739         24        960: 100%|██████████| 44/44 [00:13<00:00,  3.25it/s]\n",
      "                 Class     Images  Instances      Box(P          R      mAP50  mAP50-95): 100%|██████████| 3/3 [00:01<00:00,  2.82it/s]"
     ]
    },
    {
     "name": "stdout",
     "output_type": "stream",
     "text": [
      "                   all         89        134      0.883      0.781      0.879      0.797\n"
     ]
    },
    {
     "name": "stderr",
     "output_type": "stream",
     "text": [
      "\n"
     ]
    },
    {
     "name": "stdout",
     "output_type": "stream",
     "text": [
      "\n",
      "      Epoch    GPU_mem   box_loss   cls_loss   dfl_loss  Instances       Size\n"
     ]
    },
    {
     "name": "stderr",
     "output_type": "stream",
     "text": [
      "    123/200      4.63G     0.4441     0.4525      0.878         56        960: 100%|██████████| 44/44 [00:13<00:00,  3.24it/s]\n",
      "                 Class     Images  Instances      Box(P          R      mAP50  mAP50-95): 100%|██████████| 3/3 [00:00<00:00,  3.07it/s]"
     ]
    },
    {
     "name": "stdout",
     "output_type": "stream",
     "text": [
      "                   all         89        134      0.825      0.791      0.859      0.779\n"
     ]
    },
    {
     "name": "stderr",
     "output_type": "stream",
     "text": [
      "\n"
     ]
    },
    {
     "name": "stdout",
     "output_type": "stream",
     "text": [
      "\n",
      "      Epoch    GPU_mem   box_loss   cls_loss   dfl_loss  Instances       Size\n"
     ]
    },
    {
     "name": "stderr",
     "output_type": "stream",
     "text": [
      "    124/200      4.63G     0.4365      0.444     0.8728         35        960: 100%|██████████| 44/44 [00:13<00:00,  3.25it/s]\n",
      "                 Class     Images  Instances      Box(P          R      mAP50  mAP50-95): 100%|██████████| 3/3 [00:00<00:00,  3.27it/s]"
     ]
    },
    {
     "name": "stdout",
     "output_type": "stream",
     "text": [
      "                   all         89        134      0.872      0.667       0.82      0.732\n"
     ]
    },
    {
     "name": "stderr",
     "output_type": "stream",
     "text": [
      "\n"
     ]
    },
    {
     "name": "stdout",
     "output_type": "stream",
     "text": [
      "\n",
      "      Epoch    GPU_mem   box_loss   cls_loss   dfl_loss  Instances       Size\n"
     ]
    },
    {
     "name": "stderr",
     "output_type": "stream",
     "text": [
      "    125/200      4.63G     0.4585     0.4595     0.8732         36        960: 100%|██████████| 44/44 [00:13<00:00,  3.28it/s]\n",
      "                 Class     Images  Instances      Box(P          R      mAP50  mAP50-95): 100%|██████████| 3/3 [00:00<00:00,  3.13it/s]"
     ]
    },
    {
     "name": "stdout",
     "output_type": "stream",
     "text": [
      "                   all         89        134      0.829      0.784      0.841       0.76\n"
     ]
    },
    {
     "name": "stderr",
     "output_type": "stream",
     "text": [
      "\n"
     ]
    },
    {
     "name": "stdout",
     "output_type": "stream",
     "text": [
      "\n",
      "      Epoch    GPU_mem   box_loss   cls_loss   dfl_loss  Instances       Size\n"
     ]
    },
    {
     "name": "stderr",
     "output_type": "stream",
     "text": [
      "    126/200      4.63G     0.4591     0.4525     0.8755         29        960: 100%|██████████| 44/44 [00:13<00:00,  3.26it/s]\n",
      "                 Class     Images  Instances      Box(P          R      mAP50  mAP50-95): 100%|██████████| 3/3 [00:00<00:00,  3.09it/s]"
     ]
    },
    {
     "name": "stdout",
     "output_type": "stream",
     "text": [
      "                   all         89        134      0.878      0.763      0.852      0.773\n"
     ]
    },
    {
     "name": "stderr",
     "output_type": "stream",
     "text": [
      "\n"
     ]
    },
    {
     "name": "stdout",
     "output_type": "stream",
     "text": [
      "\n",
      "      Epoch    GPU_mem   box_loss   cls_loss   dfl_loss  Instances       Size\n"
     ]
    },
    {
     "name": "stderr",
     "output_type": "stream",
     "text": [
      "    127/200      4.63G     0.4509     0.4467     0.8687         36        960: 100%|██████████| 44/44 [00:13<00:00,  3.26it/s]\n",
      "                 Class     Images  Instances      Box(P          R      mAP50  mAP50-95): 100%|██████████| 3/3 [00:00<00:00,  3.23it/s]"
     ]
    },
    {
     "name": "stdout",
     "output_type": "stream",
     "text": [
      "                   all         89        134       0.88      0.745      0.854       0.77\n"
     ]
    },
    {
     "name": "stderr",
     "output_type": "stream",
     "text": [
      "\n"
     ]
    },
    {
     "name": "stdout",
     "output_type": "stream",
     "text": [
      "\n",
      "      Epoch    GPU_mem   box_loss   cls_loss   dfl_loss  Instances       Size\n"
     ]
    },
    {
     "name": "stderr",
     "output_type": "stream",
     "text": [
      "    128/200      4.63G     0.4449     0.4595     0.8733         38        960: 100%|██████████| 44/44 [00:13<00:00,  3.29it/s]\n",
      "                 Class     Images  Instances      Box(P          R      mAP50  mAP50-95): 100%|██████████| 3/3 [00:00<00:00,  3.17it/s]"
     ]
    },
    {
     "name": "stdout",
     "output_type": "stream",
     "text": [
      "                   all         89        134      0.865      0.729      0.856      0.775\n"
     ]
    },
    {
     "name": "stderr",
     "output_type": "stream",
     "text": [
      "\n"
     ]
    },
    {
     "name": "stdout",
     "output_type": "stream",
     "text": [
      "\n",
      "      Epoch    GPU_mem   box_loss   cls_loss   dfl_loss  Instances       Size\n"
     ]
    },
    {
     "name": "stderr",
     "output_type": "stream",
     "text": [
      "    129/200      4.48G     0.4312      0.445     0.8687         37        960: 100%|██████████| 44/44 [00:13<00:00,  3.29it/s]\n",
      "                 Class     Images  Instances      Box(P          R      mAP50  mAP50-95): 100%|██████████| 3/3 [00:01<00:00,  2.74it/s]"
     ]
    },
    {
     "name": "stdout",
     "output_type": "stream",
     "text": [
      "                   all         89        134      0.842      0.767      0.852      0.776\n"
     ]
    },
    {
     "name": "stderr",
     "output_type": "stream",
     "text": [
      "\n"
     ]
    },
    {
     "name": "stdout",
     "output_type": "stream",
     "text": [
      "\n",
      "      Epoch    GPU_mem   box_loss   cls_loss   dfl_loss  Instances       Size\n"
     ]
    },
    {
     "name": "stderr",
     "output_type": "stream",
     "text": [
      "    130/200      4.63G     0.4375     0.4474     0.8726         39        960: 100%|██████████| 44/44 [00:13<00:00,  3.26it/s]\n",
      "                 Class     Images  Instances      Box(P          R      mAP50  mAP50-95): 100%|██████████| 3/3 [00:01<00:00,  3.00it/s]"
     ]
    },
    {
     "name": "stdout",
     "output_type": "stream",
     "text": [
      "                   all         89        134      0.909      0.745      0.869      0.787\n"
     ]
    },
    {
     "name": "stderr",
     "output_type": "stream",
     "text": [
      "\n"
     ]
    },
    {
     "name": "stdout",
     "output_type": "stream",
     "text": [
      "\n",
      "      Epoch    GPU_mem   box_loss   cls_loss   dfl_loss  Instances       Size\n"
     ]
    },
    {
     "name": "stderr",
     "output_type": "stream",
     "text": [
      "    131/200      4.63G     0.4426     0.4532     0.8739         30        960: 100%|██████████| 44/44 [00:13<00:00,  3.26it/s]\n",
      "                 Class     Images  Instances      Box(P          R      mAP50  mAP50-95): 100%|██████████| 3/3 [00:01<00:00,  2.96it/s]"
     ]
    },
    {
     "name": "stdout",
     "output_type": "stream",
     "text": [
      "                   all         89        134       0.89      0.774      0.877      0.803\n"
     ]
    },
    {
     "name": "stderr",
     "output_type": "stream",
     "text": [
      "\n"
     ]
    },
    {
     "name": "stdout",
     "output_type": "stream",
     "text": [
      "\n",
      "      Epoch    GPU_mem   box_loss   cls_loss   dfl_loss  Instances       Size\n"
     ]
    },
    {
     "name": "stderr",
     "output_type": "stream",
     "text": [
      "    132/200      4.63G     0.4497     0.4581     0.8779         33        960: 100%|██████████| 44/44 [00:13<00:00,  3.23it/s]\n",
      "                 Class     Images  Instances      Box(P          R      mAP50  mAP50-95): 100%|██████████| 3/3 [00:01<00:00,  2.84it/s]"
     ]
    },
    {
     "name": "stdout",
     "output_type": "stream",
     "text": [
      "                   all         89        134      0.923      0.778      0.873      0.789\n"
     ]
    },
    {
     "name": "stderr",
     "output_type": "stream",
     "text": [
      "\n"
     ]
    },
    {
     "name": "stdout",
     "output_type": "stream",
     "text": [
      "\n",
      "      Epoch    GPU_mem   box_loss   cls_loss   dfl_loss  Instances       Size\n"
     ]
    },
    {
     "name": "stderr",
     "output_type": "stream",
     "text": [
      "    133/200      4.63G     0.4396     0.4517     0.8754         43        960: 100%|██████████| 44/44 [00:13<00:00,  3.27it/s]\n",
      "                 Class     Images  Instances      Box(P          R      mAP50  mAP50-95): 100%|██████████| 3/3 [00:00<00:00,  3.21it/s]"
     ]
    },
    {
     "name": "stdout",
     "output_type": "stream",
     "text": [
      "                   all         89        134      0.907      0.745      0.858      0.773\n"
     ]
    },
    {
     "name": "stderr",
     "output_type": "stream",
     "text": [
      "\n"
     ]
    },
    {
     "name": "stdout",
     "output_type": "stream",
     "text": [
      "\n",
      "      Epoch    GPU_mem   box_loss   cls_loss   dfl_loss  Instances       Size\n"
     ]
    },
    {
     "name": "stderr",
     "output_type": "stream",
     "text": [
      "    134/200      4.63G     0.4363     0.4293     0.8645         38        960: 100%|██████████| 44/44 [00:13<00:00,  3.29it/s]\n",
      "                 Class     Images  Instances      Box(P          R      mAP50  mAP50-95): 100%|██████████| 3/3 [00:00<00:00,  3.12it/s]"
     ]
    },
    {
     "name": "stdout",
     "output_type": "stream",
     "text": [
      "                   all         89        134      0.897      0.728       0.86      0.781\n"
     ]
    },
    {
     "name": "stderr",
     "output_type": "stream",
     "text": [
      "\n"
     ]
    },
    {
     "name": "stdout",
     "output_type": "stream",
     "text": [
      "\n",
      "      Epoch    GPU_mem   box_loss   cls_loss   dfl_loss  Instances       Size\n"
     ]
    },
    {
     "name": "stderr",
     "output_type": "stream",
     "text": [
      "    135/200      4.63G      0.434     0.4361     0.8643         39        960: 100%|██████████| 44/44 [00:13<00:00,  3.29it/s]\n",
      "                 Class     Images  Instances      Box(P          R      mAP50  mAP50-95): 100%|██████████| 3/3 [00:00<00:00,  3.13it/s]"
     ]
    },
    {
     "name": "stdout",
     "output_type": "stream",
     "text": [
      "                   all         89        134       0.84      0.788      0.873      0.792\n"
     ]
    },
    {
     "name": "stderr",
     "output_type": "stream",
     "text": [
      "\n"
     ]
    },
    {
     "name": "stdout",
     "output_type": "stream",
     "text": [
      "\n",
      "      Epoch    GPU_mem   box_loss   cls_loss   dfl_loss  Instances       Size\n"
     ]
    },
    {
     "name": "stderr",
     "output_type": "stream",
     "text": [
      "    136/200      4.63G     0.4289     0.4354     0.8696         42        960: 100%|██████████| 44/44 [00:13<00:00,  3.30it/s]\n",
      "                 Class     Images  Instances      Box(P          R      mAP50  mAP50-95): 100%|██████████| 3/3 [00:00<00:00,  3.32it/s]"
     ]
    },
    {
     "name": "stdout",
     "output_type": "stream",
     "text": [
      "                   all         89        134      0.884      0.744      0.844      0.771\n"
     ]
    },
    {
     "name": "stderr",
     "output_type": "stream",
     "text": [
      "\n"
     ]
    },
    {
     "name": "stdout",
     "output_type": "stream",
     "text": [
      "\n",
      "      Epoch    GPU_mem   box_loss   cls_loss   dfl_loss  Instances       Size\n"
     ]
    },
    {
     "name": "stderr",
     "output_type": "stream",
     "text": [
      "    137/200      4.63G     0.4336     0.4437     0.8705         32        960: 100%|██████████| 44/44 [00:13<00:00,  3.31it/s]\n",
      "                 Class     Images  Instances      Box(P          R      mAP50  mAP50-95): 100%|██████████| 3/3 [00:01<00:00,  2.95it/s]"
     ]
    },
    {
     "name": "stdout",
     "output_type": "stream",
     "text": [
      "                   all         89        134      0.836      0.798      0.885      0.803\n"
     ]
    },
    {
     "name": "stderr",
     "output_type": "stream",
     "text": [
      "\n"
     ]
    },
    {
     "name": "stdout",
     "output_type": "stream",
     "text": [
      "\n",
      "      Epoch    GPU_mem   box_loss   cls_loss   dfl_loss  Instances       Size\n"
     ]
    },
    {
     "name": "stderr",
     "output_type": "stream",
     "text": [
      "    138/200      4.63G     0.4197     0.4055     0.8514         33        960: 100%|██████████| 44/44 [00:13<00:00,  3.28it/s]\n",
      "                 Class     Images  Instances      Box(P          R      mAP50  mAP50-95): 100%|██████████| 3/3 [00:00<00:00,  3.09it/s]"
     ]
    },
    {
     "name": "stdout",
     "output_type": "stream",
     "text": [
      "                   all         89        134      0.897      0.804      0.884      0.802\n"
     ]
    },
    {
     "name": "stderr",
     "output_type": "stream",
     "text": [
      "\n"
     ]
    },
    {
     "name": "stdout",
     "output_type": "stream",
     "text": [
      "\n",
      "      Epoch    GPU_mem   box_loss   cls_loss   dfl_loss  Instances       Size\n"
     ]
    },
    {
     "name": "stderr",
     "output_type": "stream",
     "text": [
      "    139/200      4.63G     0.4176      0.429     0.8698         35        960: 100%|██████████| 44/44 [00:13<00:00,  3.24it/s]\n",
      "                 Class     Images  Instances      Box(P          R      mAP50  mAP50-95): 100%|██████████| 3/3 [00:01<00:00,  2.81it/s]"
     ]
    },
    {
     "name": "stdout",
     "output_type": "stream",
     "text": [
      "                   all         89        134      0.877      0.799      0.874      0.788\n"
     ]
    },
    {
     "name": "stderr",
     "output_type": "stream",
     "text": [
      "\n"
     ]
    },
    {
     "name": "stdout",
     "output_type": "stream",
     "text": [
      "\n",
      "      Epoch    GPU_mem   box_loss   cls_loss   dfl_loss  Instances       Size\n"
     ]
    },
    {
     "name": "stderr",
     "output_type": "stream",
     "text": [
      "    140/200      4.63G     0.4122     0.4098     0.8647         45        960: 100%|██████████| 44/44 [00:13<00:00,  3.23it/s]\n",
      "                 Class     Images  Instances      Box(P          R      mAP50  mAP50-95): 100%|██████████| 3/3 [00:01<00:00,  2.96it/s]"
     ]
    },
    {
     "name": "stdout",
     "output_type": "stream",
     "text": [
      "                   all         89        134      0.847      0.809      0.875      0.789\n"
     ]
    },
    {
     "name": "stderr",
     "output_type": "stream",
     "text": [
      "\n"
     ]
    },
    {
     "name": "stdout",
     "output_type": "stream",
     "text": [
      "\n",
      "      Epoch    GPU_mem   box_loss   cls_loss   dfl_loss  Instances       Size\n"
     ]
    },
    {
     "name": "stderr",
     "output_type": "stream",
     "text": [
      "    141/200      4.63G     0.4188     0.4118      0.874         44        960: 100%|██████████| 44/44 [00:13<00:00,  3.26it/s]\n",
      "                 Class     Images  Instances      Box(P          R      mAP50  mAP50-95): 100%|██████████| 3/3 [00:01<00:00,  2.96it/s]"
     ]
    },
    {
     "name": "stdout",
     "output_type": "stream",
     "text": [
      "                   all         89        134      0.846      0.759      0.853      0.774\n"
     ]
    },
    {
     "name": "stderr",
     "output_type": "stream",
     "text": [
      "\n"
     ]
    },
    {
     "name": "stdout",
     "output_type": "stream",
     "text": [
      "\n",
      "      Epoch    GPU_mem   box_loss   cls_loss   dfl_loss  Instances       Size\n"
     ]
    },
    {
     "name": "stderr",
     "output_type": "stream",
     "text": [
      "    142/200      4.63G      0.426      0.425      0.868         38        960: 100%|██████████| 44/44 [00:13<00:00,  3.30it/s]\n",
      "                 Class     Images  Instances      Box(P          R      mAP50  mAP50-95): 100%|██████████| 3/3 [00:01<00:00,  2.86it/s]"
     ]
    },
    {
     "name": "stdout",
     "output_type": "stream",
     "text": [
      "                   all         89        134      0.859      0.766      0.862      0.789\n"
     ]
    },
    {
     "name": "stderr",
     "output_type": "stream",
     "text": [
      "\n"
     ]
    },
    {
     "name": "stdout",
     "output_type": "stream",
     "text": [
      "\n",
      "      Epoch    GPU_mem   box_loss   cls_loss   dfl_loss  Instances       Size\n"
     ]
    },
    {
     "name": "stderr",
     "output_type": "stream",
     "text": [
      "    143/200      4.63G     0.4077     0.3969     0.8584         46        960: 100%|██████████| 44/44 [00:13<00:00,  3.29it/s]\n",
      "                 Class     Images  Instances      Box(P          R      mAP50  mAP50-95): 100%|██████████| 3/3 [00:00<00:00,  3.00it/s]"
     ]
    },
    {
     "name": "stdout",
     "output_type": "stream",
     "text": [
      "                   all         89        134      0.919      0.794      0.894      0.804\n"
     ]
    },
    {
     "name": "stderr",
     "output_type": "stream",
     "text": [
      "\n"
     ]
    },
    {
     "name": "stdout",
     "output_type": "stream",
     "text": [
      "\n",
      "      Epoch    GPU_mem   box_loss   cls_loss   dfl_loss  Instances       Size\n"
     ]
    },
    {
     "name": "stderr",
     "output_type": "stream",
     "text": [
      "    144/200      4.63G     0.4169     0.4076     0.8656         38        960: 100%|██████████| 44/44 [00:13<00:00,  3.27it/s]\n",
      "                 Class     Images  Instances      Box(P          R      mAP50  mAP50-95): 100%|██████████| 3/3 [00:01<00:00,  2.94it/s]"
     ]
    },
    {
     "name": "stdout",
     "output_type": "stream",
     "text": [
      "                   all         89        134      0.899      0.824      0.899      0.821\n"
     ]
    },
    {
     "name": "stderr",
     "output_type": "stream",
     "text": [
      "\n"
     ]
    },
    {
     "name": "stdout",
     "output_type": "stream",
     "text": [
      "\n",
      "      Epoch    GPU_mem   box_loss   cls_loss   dfl_loss  Instances       Size\n"
     ]
    },
    {
     "name": "stderr",
     "output_type": "stream",
     "text": [
      "    145/200      4.63G     0.4147     0.4167     0.8594         37        960: 100%|██████████| 44/44 [00:13<00:00,  3.29it/s]\n",
      "                 Class     Images  Instances      Box(P          R      mAP50  mAP50-95): 100%|██████████| 3/3 [00:00<00:00,  3.13it/s]"
     ]
    },
    {
     "name": "stdout",
     "output_type": "stream",
     "text": [
      "                   all         89        134      0.883      0.769      0.856      0.776\n"
     ]
    },
    {
     "name": "stderr",
     "output_type": "stream",
     "text": [
      "\n"
     ]
    },
    {
     "name": "stdout",
     "output_type": "stream",
     "text": [
      "\n",
      "      Epoch    GPU_mem   box_loss   cls_loss   dfl_loss  Instances       Size\n"
     ]
    },
    {
     "name": "stderr",
     "output_type": "stream",
     "text": [
      "    146/200      4.63G     0.4012     0.4082     0.8626         39        960: 100%|██████████| 44/44 [00:13<00:00,  3.29it/s]\n",
      "                 Class     Images  Instances      Box(P          R      mAP50  mAP50-95): 100%|██████████| 3/3 [00:01<00:00,  2.93it/s]"
     ]
    },
    {
     "name": "stdout",
     "output_type": "stream",
     "text": [
      "                   all         89        134      0.863      0.801      0.874      0.798\n"
     ]
    },
    {
     "name": "stderr",
     "output_type": "stream",
     "text": [
      "\n"
     ]
    },
    {
     "name": "stdout",
     "output_type": "stream",
     "text": [
      "\n",
      "      Epoch    GPU_mem   box_loss   cls_loss   dfl_loss  Instances       Size\n"
     ]
    },
    {
     "name": "stderr",
     "output_type": "stream",
     "text": [
      "    147/200      4.63G     0.4055      0.402     0.8644         34        960: 100%|██████████| 44/44 [00:13<00:00,  3.25it/s]\n",
      "                 Class     Images  Instances      Box(P          R      mAP50  mAP50-95): 100%|██████████| 3/3 [00:00<00:00,  3.15it/s]"
     ]
    },
    {
     "name": "stdout",
     "output_type": "stream",
     "text": [
      "                   all         89        134      0.862       0.83      0.881      0.813\n"
     ]
    },
    {
     "name": "stderr",
     "output_type": "stream",
     "text": [
      "\n"
     ]
    },
    {
     "name": "stdout",
     "output_type": "stream",
     "text": [
      "\n",
      "      Epoch    GPU_mem   box_loss   cls_loss   dfl_loss  Instances       Size\n"
     ]
    },
    {
     "name": "stderr",
     "output_type": "stream",
     "text": [
      "    148/200      4.63G     0.4013     0.3938     0.8569         29        960: 100%|██████████| 44/44 [00:13<00:00,  3.24it/s]\n",
      "                 Class     Images  Instances      Box(P          R      mAP50  mAP50-95): 100%|██████████| 3/3 [00:01<00:00,  2.91it/s]"
     ]
    },
    {
     "name": "stdout",
     "output_type": "stream",
     "text": [
      "                   all         89        134      0.862      0.769      0.873      0.801\n"
     ]
    },
    {
     "name": "stderr",
     "output_type": "stream",
     "text": [
      "\n"
     ]
    },
    {
     "name": "stdout",
     "output_type": "stream",
     "text": [
      "\n",
      "      Epoch    GPU_mem   box_loss   cls_loss   dfl_loss  Instances       Size\n"
     ]
    },
    {
     "name": "stderr",
     "output_type": "stream",
     "text": [
      "    149/200      4.63G     0.4222     0.4052     0.8726         46        960: 100%|██████████| 44/44 [00:13<00:00,  3.26it/s]\n",
      "                 Class     Images  Instances      Box(P          R      mAP50  mAP50-95): 100%|██████████| 3/3 [00:01<00:00,  2.95it/s]"
     ]
    },
    {
     "name": "stdout",
     "output_type": "stream",
     "text": [
      "                   all         89        134      0.865      0.778       0.87      0.792\n"
     ]
    },
    {
     "name": "stderr",
     "output_type": "stream",
     "text": [
      "\n"
     ]
    },
    {
     "name": "stdout",
     "output_type": "stream",
     "text": [
      "\n",
      "      Epoch    GPU_mem   box_loss   cls_loss   dfl_loss  Instances       Size\n"
     ]
    },
    {
     "name": "stderr",
     "output_type": "stream",
     "text": [
      "    150/200      4.63G     0.3976     0.4041     0.8525         36        960: 100%|██████████| 44/44 [00:13<00:00,  3.30it/s]\n",
      "                 Class     Images  Instances      Box(P          R      mAP50  mAP50-95): 100%|██████████| 3/3 [00:01<00:00,  2.87it/s]"
     ]
    },
    {
     "name": "stdout",
     "output_type": "stream",
     "text": [
      "                   all         89        134      0.954      0.771      0.881      0.804\n"
     ]
    },
    {
     "name": "stderr",
     "output_type": "stream",
     "text": [
      "\n"
     ]
    },
    {
     "name": "stdout",
     "output_type": "stream",
     "text": [
      "\n",
      "      Epoch    GPU_mem   box_loss   cls_loss   dfl_loss  Instances       Size\n"
     ]
    },
    {
     "name": "stderr",
     "output_type": "stream",
     "text": [
      "    151/200      4.63G     0.4129     0.4107     0.8614         34        960: 100%|██████████| 44/44 [00:13<00:00,  3.29it/s]\n",
      "                 Class     Images  Instances      Box(P          R      mAP50  mAP50-95): 100%|██████████| 3/3 [00:00<00:00,  3.07it/s]"
     ]
    },
    {
     "name": "stdout",
     "output_type": "stream",
     "text": [
      "                   all         89        134      0.939      0.751      0.888      0.809\n"
     ]
    },
    {
     "name": "stderr",
     "output_type": "stream",
     "text": [
      "\n"
     ]
    },
    {
     "name": "stdout",
     "output_type": "stream",
     "text": [
      "\n",
      "      Epoch    GPU_mem   box_loss   cls_loss   dfl_loss  Instances       Size\n"
     ]
    },
    {
     "name": "stderr",
     "output_type": "stream",
     "text": [
      "    152/200      4.63G     0.4062     0.4171     0.8661         44        960: 100%|██████████| 44/44 [00:13<00:00,  3.25it/s]\n",
      "                 Class     Images  Instances      Box(P          R      mAP50  mAP50-95): 100%|██████████| 3/3 [00:01<00:00,  2.73it/s]"
     ]
    },
    {
     "name": "stdout",
     "output_type": "stream",
     "text": [
      "                   all         89        134       0.87      0.801      0.874        0.8\n"
     ]
    },
    {
     "name": "stderr",
     "output_type": "stream",
     "text": [
      "\n"
     ]
    },
    {
     "name": "stdout",
     "output_type": "stream",
     "text": [
      "\n",
      "      Epoch    GPU_mem   box_loss   cls_loss   dfl_loss  Instances       Size\n"
     ]
    },
    {
     "name": "stderr",
     "output_type": "stream",
     "text": [
      "    153/200      4.63G     0.4073     0.4085      0.867         28        960: 100%|██████████| 44/44 [00:13<00:00,  3.27it/s]\n",
      "                 Class     Images  Instances      Box(P          R      mAP50  mAP50-95): 100%|██████████| 3/3 [00:01<00:00,  2.87it/s]"
     ]
    },
    {
     "name": "stdout",
     "output_type": "stream",
     "text": [
      "                   all         89        134      0.825      0.804      0.856      0.781\n"
     ]
    },
    {
     "name": "stderr",
     "output_type": "stream",
     "text": [
      "\n"
     ]
    },
    {
     "name": "stdout",
     "output_type": "stream",
     "text": [
      "\n",
      "      Epoch    GPU_mem   box_loss   cls_loss   dfl_loss  Instances       Size\n"
     ]
    },
    {
     "name": "stderr",
     "output_type": "stream",
     "text": [
      "    154/200      4.63G      0.403     0.3843     0.8547         45        960: 100%|██████████| 44/44 [00:13<00:00,  3.27it/s]\n",
      "                 Class     Images  Instances      Box(P          R      mAP50  mAP50-95): 100%|██████████| 3/3 [00:01<00:00,  2.63it/s]"
     ]
    },
    {
     "name": "stdout",
     "output_type": "stream",
     "text": [
      "                   all         89        134      0.851      0.772      0.859      0.783\n"
     ]
    },
    {
     "name": "stderr",
     "output_type": "stream",
     "text": [
      "\n"
     ]
    },
    {
     "name": "stdout",
     "output_type": "stream",
     "text": [
      "\n",
      "      Epoch    GPU_mem   box_loss   cls_loss   dfl_loss  Instances       Size\n"
     ]
    },
    {
     "name": "stderr",
     "output_type": "stream",
     "text": [
      "    155/200      4.63G     0.4059      0.399     0.8543         46        960: 100%|██████████| 44/44 [00:13<00:00,  3.25it/s]\n",
      "                 Class     Images  Instances      Box(P          R      mAP50  mAP50-95): 100%|██████████| 3/3 [00:01<00:00,  2.89it/s]"
     ]
    },
    {
     "name": "stdout",
     "output_type": "stream",
     "text": [
      "                   all         89        134      0.908      0.814      0.887      0.804\n"
     ]
    },
    {
     "name": "stderr",
     "output_type": "stream",
     "text": [
      "\n"
     ]
    },
    {
     "name": "stdout",
     "output_type": "stream",
     "text": [
      "\n",
      "      Epoch    GPU_mem   box_loss   cls_loss   dfl_loss  Instances       Size\n"
     ]
    },
    {
     "name": "stderr",
     "output_type": "stream",
     "text": [
      "    156/200      4.63G        0.4     0.3994     0.8701         42        960: 100%|██████████| 44/44 [00:13<00:00,  3.24it/s]\n",
      "                 Class     Images  Instances      Box(P          R      mAP50  mAP50-95): 100%|██████████| 3/3 [00:00<00:00,  3.23it/s]"
     ]
    },
    {
     "name": "stdout",
     "output_type": "stream",
     "text": [
      "                   all         89        134      0.864      0.781      0.893      0.813\n"
     ]
    },
    {
     "name": "stderr",
     "output_type": "stream",
     "text": [
      "\n"
     ]
    },
    {
     "name": "stdout",
     "output_type": "stream",
     "text": [
      "\n",
      "      Epoch    GPU_mem   box_loss   cls_loss   dfl_loss  Instances       Size\n"
     ]
    },
    {
     "name": "stderr",
     "output_type": "stream",
     "text": [
      "    157/200      4.63G     0.4015     0.3889      0.854         44        960: 100%|██████████| 44/44 [00:13<00:00,  3.26it/s]\n",
      "                 Class     Images  Instances      Box(P          R      mAP50  mAP50-95): 100%|██████████| 3/3 [00:01<00:00,  2.99it/s]"
     ]
    },
    {
     "name": "stdout",
     "output_type": "stream",
     "text": [
      "                   all         89        134      0.864       0.83      0.893       0.82\n"
     ]
    },
    {
     "name": "stderr",
     "output_type": "stream",
     "text": [
      "\n"
     ]
    },
    {
     "name": "stdout",
     "output_type": "stream",
     "text": [
      "\n",
      "      Epoch    GPU_mem   box_loss   cls_loss   dfl_loss  Instances       Size\n"
     ]
    },
    {
     "name": "stderr",
     "output_type": "stream",
     "text": [
      "    158/200      4.63G     0.3934     0.3821     0.8638         55        960: 100%|██████████| 44/44 [00:13<00:00,  3.26it/s]\n",
      "                 Class     Images  Instances      Box(P          R      mAP50  mAP50-95): 100%|██████████| 3/3 [00:00<00:00,  3.07it/s]"
     ]
    },
    {
     "name": "stdout",
     "output_type": "stream",
     "text": [
      "                   all         89        134      0.867      0.812      0.881      0.805\n"
     ]
    },
    {
     "name": "stderr",
     "output_type": "stream",
     "text": [
      "\n"
     ]
    },
    {
     "name": "stdout",
     "output_type": "stream",
     "text": [
      "\n",
      "      Epoch    GPU_mem   box_loss   cls_loss   dfl_loss  Instances       Size\n"
     ]
    },
    {
     "name": "stderr",
     "output_type": "stream",
     "text": [
      "    159/200      4.63G     0.3894     0.3791     0.8518         24        960: 100%|██████████| 44/44 [00:13<00:00,  3.26it/s]\n",
      "                 Class     Images  Instances      Box(P          R      mAP50  mAP50-95): 100%|██████████| 3/3 [00:00<00:00,  3.13it/s]"
     ]
    },
    {
     "name": "stdout",
     "output_type": "stream",
     "text": [
      "                   all         89        134      0.899      0.785      0.874      0.789\n"
     ]
    },
    {
     "name": "stderr",
     "output_type": "stream",
     "text": [
      "\n"
     ]
    },
    {
     "name": "stdout",
     "output_type": "stream",
     "text": [
      "\n",
      "      Epoch    GPU_mem   box_loss   cls_loss   dfl_loss  Instances       Size\n"
     ]
    },
    {
     "name": "stderr",
     "output_type": "stream",
     "text": [
      "    160/200      4.63G     0.3967     0.3878     0.8549         31        960: 100%|██████████| 44/44 [00:13<00:00,  3.27it/s]\n",
      "                 Class     Images  Instances      Box(P          R      mAP50  mAP50-95): 100%|██████████| 3/3 [00:00<00:00,  3.10it/s]"
     ]
    },
    {
     "name": "stdout",
     "output_type": "stream",
     "text": [
      "                   all         89        134      0.866      0.832      0.885       0.81\n"
     ]
    },
    {
     "name": "stderr",
     "output_type": "stream",
     "text": [
      "\n"
     ]
    },
    {
     "name": "stdout",
     "output_type": "stream",
     "text": [
      "\n",
      "      Epoch    GPU_mem   box_loss   cls_loss   dfl_loss  Instances       Size\n"
     ]
    },
    {
     "name": "stderr",
     "output_type": "stream",
     "text": [
      "    161/200      4.63G     0.3903     0.3773     0.8567         40        960: 100%|██████████| 44/44 [00:13<00:00,  3.30it/s]\n",
      "                 Class     Images  Instances      Box(P          R      mAP50  mAP50-95): 100%|██████████| 3/3 [00:00<00:00,  3.12it/s]"
     ]
    },
    {
     "name": "stdout",
     "output_type": "stream",
     "text": [
      "                   all         89        134      0.873      0.823      0.867      0.795\n"
     ]
    },
    {
     "name": "stderr",
     "output_type": "stream",
     "text": [
      "\n"
     ]
    },
    {
     "name": "stdout",
     "output_type": "stream",
     "text": [
      "\n",
      "      Epoch    GPU_mem   box_loss   cls_loss   dfl_loss  Instances       Size\n"
     ]
    },
    {
     "name": "stderr",
     "output_type": "stream",
     "text": [
      "    162/200      4.63G     0.3885     0.3761     0.8534         28        960: 100%|██████████| 44/44 [00:13<00:00,  3.27it/s]\n",
      "                 Class     Images  Instances      Box(P          R      mAP50  mAP50-95): 100%|██████████| 3/3 [00:01<00:00,  2.90it/s]"
     ]
    },
    {
     "name": "stdout",
     "output_type": "stream",
     "text": [
      "                   all         89        134      0.874      0.809      0.875      0.797\n"
     ]
    },
    {
     "name": "stderr",
     "output_type": "stream",
     "text": [
      "\n"
     ]
    },
    {
     "name": "stdout",
     "output_type": "stream",
     "text": [
      "\n",
      "      Epoch    GPU_mem   box_loss   cls_loss   dfl_loss  Instances       Size\n"
     ]
    },
    {
     "name": "stderr",
     "output_type": "stream",
     "text": [
      "    163/200      4.63G     0.3832     0.3703     0.8495         42        960: 100%|██████████| 44/44 [00:13<00:00,  3.26it/s]\n",
      "                 Class     Images  Instances      Box(P          R      mAP50  mAP50-95): 100%|██████████| 3/3 [00:01<00:00,  2.95it/s]"
     ]
    },
    {
     "name": "stdout",
     "output_type": "stream",
     "text": [
      "                   all         89        134       0.84      0.827      0.885      0.805\n"
     ]
    },
    {
     "name": "stderr",
     "output_type": "stream",
     "text": [
      "\n"
     ]
    },
    {
     "name": "stdout",
     "output_type": "stream",
     "text": [
      "\n",
      "      Epoch    GPU_mem   box_loss   cls_loss   dfl_loss  Instances       Size\n"
     ]
    },
    {
     "name": "stderr",
     "output_type": "stream",
     "text": [
      "    164/200      4.63G     0.3806     0.3702     0.8548         41        960: 100%|██████████| 44/44 [00:13<00:00,  3.25it/s]\n",
      "                 Class     Images  Instances      Box(P          R      mAP50  mAP50-95): 100%|██████████| 3/3 [00:01<00:00,  2.84it/s]"
     ]
    },
    {
     "name": "stdout",
     "output_type": "stream",
     "text": [
      "                   all         89        134      0.881       0.78      0.883      0.812\n"
     ]
    },
    {
     "name": "stderr",
     "output_type": "stream",
     "text": [
      "\n"
     ]
    },
    {
     "name": "stdout",
     "output_type": "stream",
     "text": [
      "\n",
      "      Epoch    GPU_mem   box_loss   cls_loss   dfl_loss  Instances       Size\n"
     ]
    },
    {
     "name": "stderr",
     "output_type": "stream",
     "text": [
      "    165/200      4.63G     0.3891     0.3741      0.853         48        960: 100%|██████████| 44/44 [00:13<00:00,  3.22it/s]\n",
      "                 Class     Images  Instances      Box(P          R      mAP50  mAP50-95): 100%|██████████| 3/3 [00:01<00:00,  2.69it/s]"
     ]
    },
    {
     "name": "stdout",
     "output_type": "stream",
     "text": [
      "                   all         89        134      0.873      0.784      0.876      0.802\n"
     ]
    },
    {
     "name": "stderr",
     "output_type": "stream",
     "text": [
      "\n"
     ]
    },
    {
     "name": "stdout",
     "output_type": "stream",
     "text": [
      "\n",
      "      Epoch    GPU_mem   box_loss   cls_loss   dfl_loss  Instances       Size\n"
     ]
    },
    {
     "name": "stderr",
     "output_type": "stream",
     "text": [
      "    166/200      4.63G     0.3897     0.3862     0.8559         39        960: 100%|██████████| 44/44 [00:13<00:00,  3.25it/s]\n",
      "                 Class     Images  Instances      Box(P          R      mAP50  mAP50-95): 100%|██████████| 3/3 [00:00<00:00,  3.22it/s]"
     ]
    },
    {
     "name": "stdout",
     "output_type": "stream",
     "text": [
      "                   all         89        134      0.824      0.817      0.874      0.799\n"
     ]
    },
    {
     "name": "stderr",
     "output_type": "stream",
     "text": [
      "\n"
     ]
    },
    {
     "name": "stdout",
     "output_type": "stream",
     "text": [
      "\n",
      "      Epoch    GPU_mem   box_loss   cls_loss   dfl_loss  Instances       Size\n"
     ]
    },
    {
     "name": "stderr",
     "output_type": "stream",
     "text": [
      "    167/200      4.63G     0.3816     0.3693     0.8533         46        960: 100%|██████████| 44/44 [00:13<00:00,  3.28it/s]\n",
      "                 Class     Images  Instances      Box(P          R      mAP50  mAP50-95): 100%|██████████| 3/3 [00:00<00:00,  3.11it/s]"
     ]
    },
    {
     "name": "stdout",
     "output_type": "stream",
     "text": [
      "                   all         89        134        0.8      0.805       0.87      0.801\n"
     ]
    },
    {
     "name": "stderr",
     "output_type": "stream",
     "text": [
      "\n"
     ]
    },
    {
     "name": "stdout",
     "output_type": "stream",
     "text": [
      "\n",
      "      Epoch    GPU_mem   box_loss   cls_loss   dfl_loss  Instances       Size\n"
     ]
    },
    {
     "name": "stderr",
     "output_type": "stream",
     "text": [
      "    168/200      4.63G     0.3786      0.377     0.8542         33        960: 100%|██████████| 44/44 [00:13<00:00,  3.28it/s]\n",
      "                 Class     Images  Instances      Box(P          R      mAP50  mAP50-95): 100%|██████████| 3/3 [00:00<00:00,  3.18it/s]"
     ]
    },
    {
     "name": "stdout",
     "output_type": "stream",
     "text": [
      "                   all         89        134      0.855       0.76      0.863        0.8\n"
     ]
    },
    {
     "name": "stderr",
     "output_type": "stream",
     "text": [
      "\n"
     ]
    },
    {
     "name": "stdout",
     "output_type": "stream",
     "text": [
      "\n",
      "      Epoch    GPU_mem   box_loss   cls_loss   dfl_loss  Instances       Size\n"
     ]
    },
    {
     "name": "stderr",
     "output_type": "stream",
     "text": [
      "    169/200      4.63G     0.3763     0.3728      0.851         33        960: 100%|██████████| 44/44 [00:13<00:00,  3.28it/s]\n",
      "                 Class     Images  Instances      Box(P          R      mAP50  mAP50-95): 100%|██████████| 3/3 [00:00<00:00,  3.06it/s]"
     ]
    },
    {
     "name": "stdout",
     "output_type": "stream",
     "text": [
      "                   all         89        134      0.857      0.811      0.873      0.809\n"
     ]
    },
    {
     "name": "stderr",
     "output_type": "stream",
     "text": [
      "\n"
     ]
    },
    {
     "name": "stdout",
     "output_type": "stream",
     "text": [
      "\n",
      "      Epoch    GPU_mem   box_loss   cls_loss   dfl_loss  Instances       Size\n"
     ]
    },
    {
     "name": "stderr",
     "output_type": "stream",
     "text": [
      "    170/200      4.63G     0.3799     0.3732     0.8549         38        960: 100%|██████████| 44/44 [00:13<00:00,  3.25it/s]\n",
      "                 Class     Images  Instances      Box(P          R      mAP50  mAP50-95): 100%|██████████| 3/3 [00:00<00:00,  3.08it/s]"
     ]
    },
    {
     "name": "stdout",
     "output_type": "stream",
     "text": [
      "                   all         89        134      0.924      0.784      0.879      0.804\n"
     ]
    },
    {
     "name": "stderr",
     "output_type": "stream",
     "text": [
      "\n"
     ]
    },
    {
     "name": "stdout",
     "output_type": "stream",
     "text": [
      "\n",
      "      Epoch    GPU_mem   box_loss   cls_loss   dfl_loss  Instances       Size\n"
     ]
    },
    {
     "name": "stderr",
     "output_type": "stream",
     "text": [
      "    171/200      4.63G     0.3747     0.3595     0.8533         27        960: 100%|██████████| 44/44 [00:13<00:00,  3.27it/s]\n",
      "                 Class     Images  Instances      Box(P          R      mAP50  mAP50-95): 100%|██████████| 3/3 [00:00<00:00,  3.05it/s]"
     ]
    },
    {
     "name": "stdout",
     "output_type": "stream",
     "text": [
      "                   all         89        134      0.906       0.78      0.875      0.803\n"
     ]
    },
    {
     "name": "stderr",
     "output_type": "stream",
     "text": [
      "\n"
     ]
    },
    {
     "name": "stdout",
     "output_type": "stream",
     "text": [
      "\n",
      "      Epoch    GPU_mem   box_loss   cls_loss   dfl_loss  Instances       Size\n"
     ]
    },
    {
     "name": "stderr",
     "output_type": "stream",
     "text": [
      "    172/200      4.63G     0.3713     0.3553      0.854         30        960: 100%|██████████| 44/44 [00:13<00:00,  3.26it/s]\n",
      "                 Class     Images  Instances      Box(P          R      mAP50  mAP50-95): 100%|██████████| 3/3 [00:01<00:00,  2.97it/s]"
     ]
    },
    {
     "name": "stdout",
     "output_type": "stream",
     "text": [
      "                   all         89        134      0.899      0.777      0.881      0.806\n"
     ]
    },
    {
     "name": "stderr",
     "output_type": "stream",
     "text": [
      "\n"
     ]
    },
    {
     "name": "stdout",
     "output_type": "stream",
     "text": [
      "\n",
      "      Epoch    GPU_mem   box_loss   cls_loss   dfl_loss  Instances       Size\n"
     ]
    },
    {
     "name": "stderr",
     "output_type": "stream",
     "text": [
      "    173/200      4.63G     0.3672     0.3749     0.8475         61        960: 100%|██████████| 44/44 [00:13<00:00,  3.28it/s]\n",
      "                 Class     Images  Instances      Box(P          R      mAP50  mAP50-95): 100%|██████████| 3/3 [00:00<00:00,  3.04it/s]"
     ]
    },
    {
     "name": "stdout",
     "output_type": "stream",
     "text": [
      "                   all         89        134       0.93      0.797      0.889       0.82\n"
     ]
    },
    {
     "name": "stderr",
     "output_type": "stream",
     "text": [
      "\n"
     ]
    },
    {
     "name": "stdout",
     "output_type": "stream",
     "text": [
      "\n",
      "      Epoch    GPU_mem   box_loss   cls_loss   dfl_loss  Instances       Size\n"
     ]
    },
    {
     "name": "stderr",
     "output_type": "stream",
     "text": [
      "    174/200      4.63G     0.3649     0.3598     0.8491         35        960: 100%|██████████| 44/44 [00:13<00:00,  3.25it/s]\n",
      "                 Class     Images  Instances      Box(P          R      mAP50  mAP50-95): 100%|██████████| 3/3 [00:01<00:00,  2.72it/s]"
     ]
    },
    {
     "name": "stdout",
     "output_type": "stream",
     "text": [
      "                   all         89        134      0.866      0.802      0.876      0.803\n"
     ]
    },
    {
     "name": "stderr",
     "output_type": "stream",
     "text": [
      "\n"
     ]
    },
    {
     "name": "stdout",
     "output_type": "stream",
     "text": [
      "\n",
      "      Epoch    GPU_mem   box_loss   cls_loss   dfl_loss  Instances       Size\n"
     ]
    },
    {
     "name": "stderr",
     "output_type": "stream",
     "text": [
      "    175/200      4.63G     0.3692     0.3757     0.8469         35        960: 100%|██████████| 44/44 [00:13<00:00,  3.25it/s]\n",
      "                 Class     Images  Instances      Box(P          R      mAP50  mAP50-95): 100%|██████████| 3/3 [00:00<00:00,  3.01it/s]"
     ]
    },
    {
     "name": "stdout",
     "output_type": "stream",
     "text": [
      "                   all         89        134       0.88      0.821      0.887      0.814\n"
     ]
    },
    {
     "name": "stderr",
     "output_type": "stream",
     "text": [
      "\n"
     ]
    },
    {
     "name": "stdout",
     "output_type": "stream",
     "text": [
      "\n",
      "      Epoch    GPU_mem   box_loss   cls_loss   dfl_loss  Instances       Size\n"
     ]
    },
    {
     "name": "stderr",
     "output_type": "stream",
     "text": [
      "    176/200      4.63G      0.372     0.3598     0.8505         29        960: 100%|██████████| 44/44 [00:13<00:00,  3.28it/s]\n",
      "                 Class     Images  Instances      Box(P          R      mAP50  mAP50-95): 100%|██████████| 3/3 [00:00<00:00,  3.14it/s]"
     ]
    },
    {
     "name": "stdout",
     "output_type": "stream",
     "text": [
      "                   all         89        134        0.9      0.759      0.875      0.804\n"
     ]
    },
    {
     "name": "stderr",
     "output_type": "stream",
     "text": [
      "\n"
     ]
    },
    {
     "name": "stdout",
     "output_type": "stream",
     "text": [
      "\n",
      "      Epoch    GPU_mem   box_loss   cls_loss   dfl_loss  Instances       Size\n"
     ]
    },
    {
     "name": "stderr",
     "output_type": "stream",
     "text": [
      "    177/200      4.63G     0.3606     0.3663     0.8416         31        960: 100%|██████████| 44/44 [00:13<00:00,  3.29it/s]\n",
      "                 Class     Images  Instances      Box(P          R      mAP50  mAP50-95): 100%|██████████| 3/3 [00:00<00:00,  3.08it/s]"
     ]
    },
    {
     "name": "stdout",
     "output_type": "stream",
     "text": [
      "                   all         89        134      0.916      0.776      0.884      0.813\n"
     ]
    },
    {
     "name": "stderr",
     "output_type": "stream",
     "text": [
      "\n"
     ]
    },
    {
     "name": "stdout",
     "output_type": "stream",
     "text": [
      "\n",
      "      Epoch    GPU_mem   box_loss   cls_loss   dfl_loss  Instances       Size\n"
     ]
    },
    {
     "name": "stderr",
     "output_type": "stream",
     "text": [
      "    178/200      4.63G     0.3583     0.3453     0.8451         34        960: 100%|██████████| 44/44 [00:13<00:00,  3.24it/s]\n",
      "                 Class     Images  Instances      Box(P          R      mAP50  mAP50-95): 100%|██████████| 3/3 [00:00<00:00,  3.10it/s]"
     ]
    },
    {
     "name": "stdout",
     "output_type": "stream",
     "text": [
      "                   all         89        134      0.854      0.817       0.88      0.806\n"
     ]
    },
    {
     "name": "stderr",
     "output_type": "stream",
     "text": [
      "\n"
     ]
    },
    {
     "name": "stdout",
     "output_type": "stream",
     "text": [
      "\n",
      "      Epoch    GPU_mem   box_loss   cls_loss   dfl_loss  Instances       Size\n"
     ]
    },
    {
     "name": "stderr",
     "output_type": "stream",
     "text": [
      "    179/200      4.63G     0.3632     0.3687     0.8525         38        960: 100%|██████████| 44/44 [00:13<00:00,  3.25it/s]\n",
      "                 Class     Images  Instances      Box(P          R      mAP50  mAP50-95): 100%|██████████| 3/3 [00:00<00:00,  3.14it/s]"
     ]
    },
    {
     "name": "stdout",
     "output_type": "stream",
     "text": [
      "                   all         89        134      0.897      0.785      0.881      0.808\n"
     ]
    },
    {
     "name": "stderr",
     "output_type": "stream",
     "text": [
      "\n"
     ]
    },
    {
     "name": "stdout",
     "output_type": "stream",
     "text": [
      "\n",
      "      Epoch    GPU_mem   box_loss   cls_loss   dfl_loss  Instances       Size\n"
     ]
    },
    {
     "name": "stderr",
     "output_type": "stream",
     "text": [
      "    180/200      4.63G     0.3741     0.3579     0.8563         36        960: 100%|██████████| 44/44 [00:13<00:00,  3.26it/s]\n",
      "                 Class     Images  Instances      Box(P          R      mAP50  mAP50-95): 100%|██████████| 3/3 [00:00<00:00,  3.10it/s]"
     ]
    },
    {
     "name": "stdout",
     "output_type": "stream",
     "text": [
      "                   all         89        134      0.877      0.797      0.881      0.807\n"
     ]
    },
    {
     "name": "stderr",
     "output_type": "stream",
     "text": [
      "\n"
     ]
    },
    {
     "name": "stdout",
     "output_type": "stream",
     "text": [
      "\n",
      "      Epoch    GPU_mem   box_loss   cls_loss   dfl_loss  Instances       Size\n"
     ]
    },
    {
     "name": "stderr",
     "output_type": "stream",
     "text": [
      "    181/200      4.63G     0.3561     0.3421      0.846         37        960: 100%|██████████| 44/44 [00:13<00:00,  3.25it/s]\n",
      "                 Class     Images  Instances      Box(P          R      mAP50  mAP50-95): 100%|██████████| 3/3 [00:01<00:00,  2.97it/s]"
     ]
    },
    {
     "name": "stdout",
     "output_type": "stream",
     "text": [
      "                   all         89        134      0.883      0.815      0.882      0.813\n"
     ]
    },
    {
     "name": "stderr",
     "output_type": "stream",
     "text": [
      "\n"
     ]
    },
    {
     "name": "stdout",
     "output_type": "stream",
     "text": [
      "\n",
      "      Epoch    GPU_mem   box_loss   cls_loss   dfl_loss  Instances       Size\n"
     ]
    },
    {
     "name": "stderr",
     "output_type": "stream",
     "text": [
      "    182/200      4.63G     0.3565     0.3465     0.8475         40        960: 100%|██████████| 44/44 [00:13<00:00,  3.29it/s]\n",
      "                 Class     Images  Instances      Box(P          R      mAP50  mAP50-95): 100%|██████████| 3/3 [00:00<00:00,  3.18it/s]"
     ]
    },
    {
     "name": "stdout",
     "output_type": "stream",
     "text": [
      "                   all         89        134      0.884      0.778      0.879      0.811\n"
     ]
    },
    {
     "name": "stderr",
     "output_type": "stream",
     "text": [
      "\n"
     ]
    },
    {
     "name": "stdout",
     "output_type": "stream",
     "text": [
      "\n",
      "      Epoch    GPU_mem   box_loss   cls_loss   dfl_loss  Instances       Size\n"
     ]
    },
    {
     "name": "stderr",
     "output_type": "stream",
     "text": [
      "    183/200      4.63G     0.3546     0.3447     0.8455         35        960: 100%|██████████| 44/44 [00:13<00:00,  3.24it/s]\n",
      "                 Class     Images  Instances      Box(P          R      mAP50  mAP50-95): 100%|██████████| 3/3 [00:01<00:00,  2.76it/s]"
     ]
    },
    {
     "name": "stdout",
     "output_type": "stream",
     "text": [
      "                   all         89        134      0.858      0.823      0.881      0.804\n"
     ]
    },
    {
     "name": "stderr",
     "output_type": "stream",
     "text": [
      "\n"
     ]
    },
    {
     "name": "stdout",
     "output_type": "stream",
     "text": [
      "\n",
      "      Epoch    GPU_mem   box_loss   cls_loss   dfl_loss  Instances       Size\n"
     ]
    },
    {
     "name": "stderr",
     "output_type": "stream",
     "text": [
      "    184/200      4.63G     0.3482     0.3446     0.8405         31        960: 100%|██████████| 44/44 [00:13<00:00,  3.24it/s]\n",
      "                 Class     Images  Instances      Box(P          R      mAP50  mAP50-95): 100%|██████████| 3/3 [00:01<00:00,  2.88it/s]"
     ]
    },
    {
     "name": "stdout",
     "output_type": "stream",
     "text": [
      "                   all         89        134      0.873        0.8      0.881      0.809\n"
     ]
    },
    {
     "name": "stderr",
     "output_type": "stream",
     "text": [
      "\n"
     ]
    },
    {
     "name": "stdout",
     "output_type": "stream",
     "text": [
      "\n",
      "      Epoch    GPU_mem   box_loss   cls_loss   dfl_loss  Instances       Size\n"
     ]
    },
    {
     "name": "stderr",
     "output_type": "stream",
     "text": [
      "    185/200      4.63G     0.3557     0.3412     0.8433         46        960: 100%|██████████| 44/44 [00:13<00:00,  3.29it/s]\n",
      "                 Class     Images  Instances      Box(P          R      mAP50  mAP50-95): 100%|██████████| 3/3 [00:01<00:00,  2.86it/s]"
     ]
    },
    {
     "name": "stdout",
     "output_type": "stream",
     "text": [
      "                   all         89        134      0.826      0.842      0.882       0.81\n"
     ]
    },
    {
     "name": "stderr",
     "output_type": "stream",
     "text": [
      "\n"
     ]
    },
    {
     "name": "stdout",
     "output_type": "stream",
     "text": [
      "\n",
      "      Epoch    GPU_mem   box_loss   cls_loss   dfl_loss  Instances       Size\n"
     ]
    },
    {
     "name": "stderr",
     "output_type": "stream",
     "text": [
      "    186/200      4.63G     0.3667     0.3532      0.849         34        960: 100%|██████████| 44/44 [00:13<00:00,  3.33it/s]\n",
      "                 Class     Images  Instances      Box(P          R      mAP50  mAP50-95): 100%|██████████| 3/3 [00:01<00:00,  2.95it/s]"
     ]
    },
    {
     "name": "stdout",
     "output_type": "stream",
     "text": [
      "                   all         89        134       0.85      0.822      0.888      0.816\n"
     ]
    },
    {
     "name": "stderr",
     "output_type": "stream",
     "text": [
      "\n"
     ]
    },
    {
     "name": "stdout",
     "output_type": "stream",
     "text": [
      "\n",
      "      Epoch    GPU_mem   box_loss   cls_loss   dfl_loss  Instances       Size\n"
     ]
    },
    {
     "name": "stderr",
     "output_type": "stream",
     "text": [
      "    187/200      4.63G     0.3545     0.3515     0.8486         37        960: 100%|██████████| 44/44 [00:13<00:00,  3.30it/s]\n",
      "                 Class     Images  Instances      Box(P          R      mAP50  mAP50-95): 100%|██████████| 3/3 [00:01<00:00,  2.96it/s]"
     ]
    },
    {
     "name": "stdout",
     "output_type": "stream",
     "text": [
      "                   all         89        134      0.829      0.833      0.875       0.81\n"
     ]
    },
    {
     "name": "stderr",
     "output_type": "stream",
     "text": [
      "\n"
     ]
    },
    {
     "name": "stdout",
     "output_type": "stream",
     "text": [
      "\n",
      "      Epoch    GPU_mem   box_loss   cls_loss   dfl_loss  Instances       Size\n"
     ]
    },
    {
     "name": "stderr",
     "output_type": "stream",
     "text": [
      "    188/200      4.63G     0.3432     0.3293     0.8429         37        960: 100%|██████████| 44/44 [00:13<00:00,  3.28it/s]\n",
      "                 Class     Images  Instances      Box(P          R      mAP50  mAP50-95): 100%|██████████| 3/3 [00:00<00:00,  3.18it/s]"
     ]
    },
    {
     "name": "stdout",
     "output_type": "stream",
     "text": [
      "                   all         89        134      0.923       0.76      0.874      0.806\n"
     ]
    },
    {
     "name": "stderr",
     "output_type": "stream",
     "text": [
      "\n"
     ]
    },
    {
     "name": "stdout",
     "output_type": "stream",
     "text": [
      "\n",
      "      Epoch    GPU_mem   box_loss   cls_loss   dfl_loss  Instances       Size\n"
     ]
    },
    {
     "name": "stderr",
     "output_type": "stream",
     "text": [
      "    189/200      4.63G     0.3656     0.3383      0.852         34        960: 100%|██████████| 44/44 [00:13<00:00,  3.26it/s]\n",
      "                 Class     Images  Instances      Box(P          R      mAP50  mAP50-95): 100%|██████████| 3/3 [00:01<00:00,  2.92it/s]"
     ]
    },
    {
     "name": "stdout",
     "output_type": "stream",
     "text": [
      "                   all         89        134       0.89      0.767      0.876      0.806\n"
     ]
    },
    {
     "name": "stderr",
     "output_type": "stream",
     "text": [
      "\n"
     ]
    },
    {
     "name": "stdout",
     "output_type": "stream",
     "text": [
      "\n",
      "      Epoch    GPU_mem   box_loss   cls_loss   dfl_loss  Instances       Size\n"
     ]
    },
    {
     "name": "stderr",
     "output_type": "stream",
     "text": [
      "    190/200      4.63G     0.3434     0.3369     0.8466         32        960: 100%|██████████| 44/44 [00:13<00:00,  3.28it/s]\n",
      "                 Class     Images  Instances      Box(P          R      mAP50  mAP50-95): 100%|██████████| 3/3 [00:00<00:00,  3.03it/s]"
     ]
    },
    {
     "name": "stdout",
     "output_type": "stream",
     "text": [
      "                   all         89        134      0.822      0.797      0.878      0.807\n"
     ]
    },
    {
     "name": "stderr",
     "output_type": "stream",
     "text": [
      "\n"
     ]
    },
    {
     "name": "stdout",
     "output_type": "stream",
     "text": [
      "Closing dataloader mosaic\n",
      "\n",
      "      Epoch    GPU_mem   box_loss   cls_loss   dfl_loss  Instances       Size\n"
     ]
    },
    {
     "name": "stderr",
     "output_type": "stream",
     "text": [
      "    191/200      4.63G     0.3312     0.2908      0.821         24        960: 100%|██████████| 44/44 [00:15<00:00,  2.81it/s]\n",
      "                 Class     Images  Instances      Box(P          R      mAP50  mAP50-95): 100%|██████████| 3/3 [00:00<00:00,  3.65it/s]"
     ]
    },
    {
     "name": "stdout",
     "output_type": "stream",
     "text": [
      "                   all         89        134      0.856      0.769      0.871      0.796\n"
     ]
    },
    {
     "name": "stderr",
     "output_type": "stream",
     "text": [
      "\n"
     ]
    },
    {
     "name": "stdout",
     "output_type": "stream",
     "text": [
      "\n",
      "      Epoch    GPU_mem   box_loss   cls_loss   dfl_loss  Instances       Size\n"
     ]
    },
    {
     "name": "stderr",
     "output_type": "stream",
     "text": [
      "    192/200      4.63G      0.316      0.286     0.8172         28        960: 100%|██████████| 44/44 [00:13<00:00,  3.35it/s]\n",
      "                 Class     Images  Instances      Box(P          R      mAP50  mAP50-95): 100%|██████████| 3/3 [00:00<00:00,  3.29it/s]"
     ]
    },
    {
     "name": "stdout",
     "output_type": "stream",
     "text": [
      "                   all         89        134      0.898      0.758      0.879      0.802\n"
     ]
    },
    {
     "name": "stderr",
     "output_type": "stream",
     "text": [
      "\n"
     ]
    },
    {
     "name": "stdout",
     "output_type": "stream",
     "text": [
      "\n",
      "      Epoch    GPU_mem   box_loss   cls_loss   dfl_loss  Instances       Size\n"
     ]
    },
    {
     "name": "stderr",
     "output_type": "stream",
     "text": [
      "    193/200      4.51G     0.3225     0.2836     0.8191         27        960: 100%|██████████| 44/44 [00:13<00:00,  3.32it/s]\n",
      "                 Class     Images  Instances      Box(P          R      mAP50  mAP50-95): 100%|██████████| 3/3 [00:00<00:00,  3.29it/s]"
     ]
    },
    {
     "name": "stdout",
     "output_type": "stream",
     "text": [
      "                   all         89        134       0.91      0.739      0.877      0.802\n"
     ]
    },
    {
     "name": "stderr",
     "output_type": "stream",
     "text": [
      "\n"
     ]
    },
    {
     "name": "stdout",
     "output_type": "stream",
     "text": [
      "\n",
      "      Epoch    GPU_mem   box_loss   cls_loss   dfl_loss  Instances       Size\n"
     ]
    },
    {
     "name": "stderr",
     "output_type": "stream",
     "text": [
      "    194/200      4.63G     0.3146     0.2808     0.8098         22        960: 100%|██████████| 44/44 [00:13<00:00,  3.31it/s]\n",
      "                 Class     Images  Instances      Box(P          R      mAP50  mAP50-95): 100%|██████████| 3/3 [00:00<00:00,  3.20it/s]"
     ]
    },
    {
     "name": "stdout",
     "output_type": "stream",
     "text": [
      "                   all         89        134      0.915      0.746      0.887      0.817\n"
     ]
    },
    {
     "name": "stderr",
     "output_type": "stream",
     "text": [
      "\n"
     ]
    },
    {
     "name": "stdout",
     "output_type": "stream",
     "text": [
      "\n",
      "      Epoch    GPU_mem   box_loss   cls_loss   dfl_loss  Instances       Size\n"
     ]
    },
    {
     "name": "stderr",
     "output_type": "stream",
     "text": [
      "    195/200      4.63G     0.3066      0.278      0.816         23        960: 100%|██████████| 44/44 [00:13<00:00,  3.30it/s]\n",
      "                 Class     Images  Instances      Box(P          R      mAP50  mAP50-95): 100%|██████████| 3/3 [00:00<00:00,  3.38it/s]"
     ]
    },
    {
     "name": "stdout",
     "output_type": "stream",
     "text": [
      "                   all         89        134      0.942      0.743      0.887      0.821\n"
     ]
    },
    {
     "name": "stderr",
     "output_type": "stream",
     "text": [
      "\n"
     ]
    },
    {
     "name": "stdout",
     "output_type": "stream",
     "text": [
      "\n",
      "      Epoch    GPU_mem   box_loss   cls_loss   dfl_loss  Instances       Size\n"
     ]
    },
    {
     "name": "stderr",
     "output_type": "stream",
     "text": [
      "    196/200      4.51G     0.3212     0.2853     0.8128         24        960: 100%|██████████| 44/44 [00:13<00:00,  3.37it/s]\n",
      "                 Class     Images  Instances      Box(P          R      mAP50  mAP50-95): 100%|██████████| 3/3 [00:00<00:00,  3.32it/s]"
     ]
    },
    {
     "name": "stdout",
     "output_type": "stream",
     "text": [
      "                   all         89        134      0.931      0.751      0.881      0.809\n"
     ]
    },
    {
     "name": "stderr",
     "output_type": "stream",
     "text": [
      "\n"
     ]
    },
    {
     "name": "stdout",
     "output_type": "stream",
     "text": [
      "\n",
      "      Epoch    GPU_mem   box_loss   cls_loss   dfl_loss  Instances       Size\n"
     ]
    },
    {
     "name": "stderr",
     "output_type": "stream",
     "text": [
      "    197/200      4.63G     0.3269     0.2968     0.8166         26        960: 100%|██████████| 44/44 [00:13<00:00,  3.34it/s]\n",
      "                 Class     Images  Instances      Box(P          R      mAP50  mAP50-95): 100%|██████████| 3/3 [00:00<00:00,  3.33it/s]"
     ]
    },
    {
     "name": "stdout",
     "output_type": "stream",
     "text": [
      "                   all         89        134      0.953      0.757      0.892      0.825\n"
     ]
    },
    {
     "name": "stderr",
     "output_type": "stream",
     "text": [
      "\n"
     ]
    },
    {
     "name": "stdout",
     "output_type": "stream",
     "text": [
      "\n",
      "      Epoch    GPU_mem   box_loss   cls_loss   dfl_loss  Instances       Size\n"
     ]
    },
    {
     "name": "stderr",
     "output_type": "stream",
     "text": [
      "    198/200      4.51G     0.3107     0.2813     0.8069         19        960: 100%|██████████| 44/44 [00:13<00:00,  3.32it/s]\n",
      "                 Class     Images  Instances      Box(P          R      mAP50  mAP50-95): 100%|██████████| 3/3 [00:00<00:00,  3.40it/s]"
     ]
    },
    {
     "name": "stdout",
     "output_type": "stream",
     "text": [
      "                   all         89        134      0.947      0.763      0.893      0.825\n"
     ]
    },
    {
     "name": "stderr",
     "output_type": "stream",
     "text": [
      "\n"
     ]
    },
    {
     "name": "stdout",
     "output_type": "stream",
     "text": [
      "\n",
      "      Epoch    GPU_mem   box_loss   cls_loss   dfl_loss  Instances       Size\n"
     ]
    },
    {
     "name": "stderr",
     "output_type": "stream",
     "text": [
      "    199/200      4.63G      0.309     0.2815     0.8117         20        960: 100%|██████████| 44/44 [00:13<00:00,  3.28it/s]\n",
      "                 Class     Images  Instances      Box(P          R      mAP50  mAP50-95): 100%|██████████| 3/3 [00:00<00:00,  3.13it/s]"
     ]
    },
    {
     "name": "stdout",
     "output_type": "stream",
     "text": [
      "                   all         89        134      0.924      0.748      0.877      0.803\n"
     ]
    },
    {
     "name": "stderr",
     "output_type": "stream",
     "text": [
      "\n"
     ]
    },
    {
     "name": "stdout",
     "output_type": "stream",
     "text": [
      "\n",
      "      Epoch    GPU_mem   box_loss   cls_loss   dfl_loss  Instances       Size\n"
     ]
    },
    {
     "name": "stderr",
     "output_type": "stream",
     "text": [
      "    200/200      4.63G     0.3169     0.2854     0.8114         25        960: 100%|██████████| 44/44 [00:13<00:00,  3.33it/s]\n",
      "                 Class     Images  Instances      Box(P          R      mAP50  mAP50-95): 100%|██████████| 3/3 [00:00<00:00,  3.24it/s]"
     ]
    },
    {
     "name": "stdout",
     "output_type": "stream",
     "text": [
      "                   all         89        134      0.927      0.761      0.882       0.81\n"
     ]
    },
    {
     "name": "stderr",
     "output_type": "stream",
     "text": [
      "\n"
     ]
    },
    {
     "name": "stdout",
     "output_type": "stream",
     "text": [
      "\n",
      "200 epochs completed in 0.839 hours.\n",
      "Optimizer stripped from models\\deep_learning\\training_results\\weights\\last.pt, 6.3MB\n",
      "Optimizer stripped from models\\deep_learning\\training_results\\weights\\best.pt, 6.3MB\n",
      "\n",
      "Validating models\\deep_learning\\training_results\\weights\\best.pt...\n",
      "Ultralytics 8.3.150  Python-3.10.11 torch-2.2.0+cu118 CUDA:0 (NVIDIA GeForce RTX 4060 Laptop GPU, 8188MiB)\n",
      "Model summary (fused): 72 layers, 3,007,208 parameters, 0 gradients, 8.1 GFLOPs\n"
     ]
    },
    {
     "name": "stderr",
     "output_type": "stream",
     "text": [
      "                 Class     Images  Instances      Box(P          R      mAP50  mAP50-95): 100%|██████████| 3/3 [00:02<00:00,  1.45it/s]\n"
     ]
    },
    {
     "name": "stdout",
     "output_type": "stream",
     "text": [
      "                   all         89        134      0.931      0.794        0.9      0.828\n",
      "           Chong Nonsi          7          9      0.946      0.778      0.862      0.771\n",
      "      National Stadium         14         22      0.948      0.822       0.96      0.863\n",
      "           Ratchadamri         10         19      0.802      0.895      0.931      0.865\n",
      "           Saint Louis          6          9      0.864      0.778       0.85      0.794\n",
      "            Sala Daeng         15         23      0.954      0.896      0.957      0.862\n",
      "         Saphan Taksin         17         22          1      0.718      0.861      0.831\n",
      "                  Siam         15         22          1      0.838      0.937      0.842\n",
      "               Surasak          5          8      0.936      0.625      0.839      0.795\n",
      "Speed: 0.4ms preprocess, 16.9ms inference, 0.0ms loss, 1.3ms postprocess per image\n",
      "Results saved to \u001b[1mmodels\\deep_learning\\training_results\u001b[0m\n",
      "Ultralytics 8.3.150  Python-3.10.11 torch-2.2.0+cu118 CUDA:0 (NVIDIA GeForce RTX 4060 Laptop GPU, 8188MiB)\n",
      "Model summary (fused): 72 layers, 3,007,208 parameters, 0 gradients, 8.1 GFLOPs\n",
      "\u001b[34m\u001b[1mval: \u001b[0mFast image access  (ping: 0.10.0 ms, read: 251.836.6 MB/s, size: 107.8 KB)\n"
     ]
    },
    {
     "name": "stderr",
     "output_type": "stream",
     "text": [
      "\u001b[34m\u001b[1mval: \u001b[0mScanning C:\\Users\\beung-yoga\\Documents\\GitHub4\\cv-project-stuctured\\data\\outputs\\test\\labels... 89 images, 0 backgrounds, 0 corrupt: 100%|██████████| 89/89 [00:00<00:00, 2167.59it/s]"
     ]
    },
    {
     "name": "stdout",
     "output_type": "stream",
     "text": [
      "\u001b[34m\u001b[1mval: \u001b[0mNew cache created: C:\\Users\\beung-yoga\\Documents\\GitHub4\\cv-project-stuctured\\data\\outputs\\test\\labels.cache\n"
     ]
    },
    {
     "name": "stderr",
     "output_type": "stream",
     "text": [
      "\n",
      "                 Class     Images  Instances      Box(P          R      mAP50  mAP50-95): 100%|██████████| 6/6 [00:07<00:00,  1.17s/it]\n"
     ]
    },
    {
     "name": "stdout",
     "output_type": "stream",
     "text": [
      "                   all         89        145      0.832      0.761      0.849      0.771\n",
      "           Chong Nonsi          6          8      0.507      0.771      0.819      0.743\n",
      "      National Stadium         14         21      0.878      0.857      0.907      0.819\n",
      "           Ratchadamri         10         19      0.757      0.842      0.806      0.732\n",
      "           Saint Louis          7         12      0.874       0.75      0.884      0.787\n",
      "            Sala Daeng         15         23        0.9      0.739        0.9       0.82\n",
      "         Saphan Taksin         14         20      0.935      0.723      0.828      0.799\n",
      "                  Siam         15         26      0.903       0.72      0.888      0.792\n",
      "               Surasak          8         16      0.903      0.688      0.759      0.677\n",
      "Speed: 8.2ms preprocess, 28.5ms inference, 0.0ms loss, 1.4ms postprocess per image\n",
      "Results saved to \u001b[1mmodels\\deep_learning\\test_results\u001b[0m\n",
      "ultralytics.utils.metrics.DetMetrics object with attributes:\n",
      "\n",
      "ap_class_index: array([0, 1, 2, 3, 4, 5, 6, 7])\n",
      "box: ultralytics.utils.metrics.Metric object\n",
      "confusion_matrix: <ultralytics.utils.metrics.ConfusionMatrix object at 0x000001E2C498CE50>\n",
      "curves: ['Precision-Recall(B)', 'F1-Confidence(B)', 'Precision-Confidence(B)', 'Recall-Confidence(B)']\n",
      "curves_results: [[array([          0,    0.001001,    0.002002,    0.003003,    0.004004,    0.005005,    0.006006,    0.007007,    0.008008,    0.009009,     0.01001,    0.011011,    0.012012,    0.013013,    0.014014,    0.015015,    0.016016,    0.017017,    0.018018,    0.019019,     0.02002,    0.021021,    0.022022,    0.023023,\n",
      "          0.024024,    0.025025,    0.026026,    0.027027,    0.028028,    0.029029,     0.03003,    0.031031,    0.032032,    0.033033,    0.034034,    0.035035,    0.036036,    0.037037,    0.038038,    0.039039,     0.04004,    0.041041,    0.042042,    0.043043,    0.044044,    0.045045,    0.046046,    0.047047,\n",
      "          0.048048,    0.049049,     0.05005,    0.051051,    0.052052,    0.053053,    0.054054,    0.055055,    0.056056,    0.057057,    0.058058,    0.059059,     0.06006,    0.061061,    0.062062,    0.063063,    0.064064,    0.065065,    0.066066,    0.067067,    0.068068,    0.069069,     0.07007,    0.071071,\n",
      "          0.072072,    0.073073,    0.074074,    0.075075,    0.076076,    0.077077,    0.078078,    0.079079,     0.08008,    0.081081,    0.082082,    0.083083,    0.084084,    0.085085,    0.086086,    0.087087,    0.088088,    0.089089,     0.09009,    0.091091,    0.092092,    0.093093,    0.094094,    0.095095,\n",
      "          0.096096,    0.097097,    0.098098,    0.099099,      0.1001,      0.1011,      0.1021,      0.1031,      0.1041,     0.10511,     0.10611,     0.10711,     0.10811,     0.10911,     0.11011,     0.11111,     0.11211,     0.11311,     0.11411,     0.11512,     0.11612,     0.11712,     0.11812,     0.11912,\n",
      "           0.12012,     0.12112,     0.12212,     0.12312,     0.12412,     0.12513,     0.12613,     0.12713,     0.12813,     0.12913,     0.13013,     0.13113,     0.13213,     0.13313,     0.13413,     0.13514,     0.13614,     0.13714,     0.13814,     0.13914,     0.14014,     0.14114,     0.14214,     0.14314,\n",
      "           0.14414,     0.14515,     0.14615,     0.14715,     0.14815,     0.14915,     0.15015,     0.15115,     0.15215,     0.15315,     0.15415,     0.15516,     0.15616,     0.15716,     0.15816,     0.15916,     0.16016,     0.16116,     0.16216,     0.16316,     0.16416,     0.16517,     0.16617,     0.16717,\n",
      "           0.16817,     0.16917,     0.17017,     0.17117,     0.17217,     0.17317,     0.17417,     0.17518,     0.17618,     0.17718,     0.17818,     0.17918,     0.18018,     0.18118,     0.18218,     0.18318,     0.18418,     0.18519,     0.18619,     0.18719,     0.18819,     0.18919,     0.19019,     0.19119,\n",
      "           0.19219,     0.19319,     0.19419,      0.1952,      0.1962,      0.1972,      0.1982,      0.1992,      0.2002,      0.2012,      0.2022,      0.2032,      0.2042,     0.20521,     0.20621,     0.20721,     0.20821,     0.20921,     0.21021,     0.21121,     0.21221,     0.21321,     0.21421,     0.21522,\n",
      "           0.21622,     0.21722,     0.21822,     0.21922,     0.22022,     0.22122,     0.22222,     0.22322,     0.22422,     0.22523,     0.22623,     0.22723,     0.22823,     0.22923,     0.23023,     0.23123,     0.23223,     0.23323,     0.23423,     0.23524,     0.23624,     0.23724,     0.23824,     0.23924,\n",
      "           0.24024,     0.24124,     0.24224,     0.24324,     0.24424,     0.24525,     0.24625,     0.24725,     0.24825,     0.24925,     0.25025,     0.25125,     0.25225,     0.25325,     0.25425,     0.25526,     0.25626,     0.25726,     0.25826,     0.25926,     0.26026,     0.26126,     0.26226,     0.26326,\n",
      "           0.26426,     0.26527,     0.26627,     0.26727,     0.26827,     0.26927,     0.27027,     0.27127,     0.27227,     0.27327,     0.27427,     0.27528,     0.27628,     0.27728,     0.27828,     0.27928,     0.28028,     0.28128,     0.28228,     0.28328,     0.28428,     0.28529,     0.28629,     0.28729,\n",
      "           0.28829,     0.28929,     0.29029,     0.29129,     0.29229,     0.29329,     0.29429,      0.2953,      0.2963,      0.2973,      0.2983,      0.2993,      0.3003,      0.3013,      0.3023,      0.3033,      0.3043,     0.30531,     0.30631,     0.30731,     0.30831,     0.30931,     0.31031,     0.31131,\n",
      "           0.31231,     0.31331,     0.31431,     0.31532,     0.31632,     0.31732,     0.31832,     0.31932,     0.32032,     0.32132,     0.32232,     0.32332,     0.32432,     0.32533,     0.32633,     0.32733,     0.32833,     0.32933,     0.33033,     0.33133,     0.33233,     0.33333,     0.33433,     0.33534,\n",
      "           0.33634,     0.33734,     0.33834,     0.33934,     0.34034,     0.34134,     0.34234,     0.34334,     0.34434,     0.34535,     0.34635,     0.34735,     0.34835,     0.34935,     0.35035,     0.35135,     0.35235,     0.35335,     0.35435,     0.35536,     0.35636,     0.35736,     0.35836,     0.35936,\n",
      "           0.36036,     0.36136,     0.36236,     0.36336,     0.36436,     0.36537,     0.36637,     0.36737,     0.36837,     0.36937,     0.37037,     0.37137,     0.37237,     0.37337,     0.37437,     0.37538,     0.37638,     0.37738,     0.37838,     0.37938,     0.38038,     0.38138,     0.38238,     0.38338,\n",
      "           0.38438,     0.38539,     0.38639,     0.38739,     0.38839,     0.38939,     0.39039,     0.39139,     0.39239,     0.39339,     0.39439,      0.3954,      0.3964,      0.3974,      0.3984,      0.3994,      0.4004,      0.4014,      0.4024,      0.4034,      0.4044,     0.40541,     0.40641,     0.40741,\n",
      "           0.40841,     0.40941,     0.41041,     0.41141,     0.41241,     0.41341,     0.41441,     0.41542,     0.41642,     0.41742,     0.41842,     0.41942,     0.42042,     0.42142,     0.42242,     0.42342,     0.42442,     0.42543,     0.42643,     0.42743,     0.42843,     0.42943,     0.43043,     0.43143,\n",
      "           0.43243,     0.43343,     0.43443,     0.43544,     0.43644,     0.43744,     0.43844,     0.43944,     0.44044,     0.44144,     0.44244,     0.44344,     0.44444,     0.44545,     0.44645,     0.44745,     0.44845,     0.44945,     0.45045,     0.45145,     0.45245,     0.45345,     0.45445,     0.45546,\n",
      "           0.45646,     0.45746,     0.45846,     0.45946,     0.46046,     0.46146,     0.46246,     0.46346,     0.46446,     0.46547,     0.46647,     0.46747,     0.46847,     0.46947,     0.47047,     0.47147,     0.47247,     0.47347,     0.47447,     0.47548,     0.47648,     0.47748,     0.47848,     0.47948,\n",
      "           0.48048,     0.48148,     0.48248,     0.48348,     0.48448,     0.48549,     0.48649,     0.48749,     0.48849,     0.48949,     0.49049,     0.49149,     0.49249,     0.49349,     0.49449,      0.4955,      0.4965,      0.4975,      0.4985,      0.4995,      0.5005,      0.5015,      0.5025,      0.5035,\n",
      "            0.5045,     0.50551,     0.50651,     0.50751,     0.50851,     0.50951,     0.51051,     0.51151,     0.51251,     0.51351,     0.51451,     0.51552,     0.51652,     0.51752,     0.51852,     0.51952,     0.52052,     0.52152,     0.52252,     0.52352,     0.52452,     0.52553,     0.52653,     0.52753,\n",
      "           0.52853,     0.52953,     0.53053,     0.53153,     0.53253,     0.53353,     0.53453,     0.53554,     0.53654,     0.53754,     0.53854,     0.53954,     0.54054,     0.54154,     0.54254,     0.54354,     0.54454,     0.54555,     0.54655,     0.54755,     0.54855,     0.54955,     0.55055,     0.55155,\n",
      "           0.55255,     0.55355,     0.55455,     0.55556,     0.55656,     0.55756,     0.55856,     0.55956,     0.56056,     0.56156,     0.56256,     0.56356,     0.56456,     0.56557,     0.56657,     0.56757,     0.56857,     0.56957,     0.57057,     0.57157,     0.57257,     0.57357,     0.57457,     0.57558,\n",
      "           0.57658,     0.57758,     0.57858,     0.57958,     0.58058,     0.58158,     0.58258,     0.58358,     0.58458,     0.58559,     0.58659,     0.58759,     0.58859,     0.58959,     0.59059,     0.59159,     0.59259,     0.59359,     0.59459,      0.5956,      0.5966,      0.5976,      0.5986,      0.5996,\n",
      "            0.6006,      0.6016,      0.6026,      0.6036,      0.6046,     0.60561,     0.60661,     0.60761,     0.60861,     0.60961,     0.61061,     0.61161,     0.61261,     0.61361,     0.61461,     0.61562,     0.61662,     0.61762,     0.61862,     0.61962,     0.62062,     0.62162,     0.62262,     0.62362,\n",
      "           0.62462,     0.62563,     0.62663,     0.62763,     0.62863,     0.62963,     0.63063,     0.63163,     0.63263,     0.63363,     0.63463,     0.63564,     0.63664,     0.63764,     0.63864,     0.63964,     0.64064,     0.64164,     0.64264,     0.64364,     0.64464,     0.64565,     0.64665,     0.64765,\n",
      "           0.64865,     0.64965,     0.65065,     0.65165,     0.65265,     0.65365,     0.65465,     0.65566,     0.65666,     0.65766,     0.65866,     0.65966,     0.66066,     0.66166,     0.66266,     0.66366,     0.66466,     0.66567,     0.66667,     0.66767,     0.66867,     0.66967,     0.67067,     0.67167,\n",
      "           0.67267,     0.67367,     0.67467,     0.67568,     0.67668,     0.67768,     0.67868,     0.67968,     0.68068,     0.68168,     0.68268,     0.68368,     0.68468,     0.68569,     0.68669,     0.68769,     0.68869,     0.68969,     0.69069,     0.69169,     0.69269,     0.69369,     0.69469,      0.6957,\n",
      "            0.6967,      0.6977,      0.6987,      0.6997,      0.7007,      0.7017,      0.7027,      0.7037,      0.7047,     0.70571,     0.70671,     0.70771,     0.70871,     0.70971,     0.71071,     0.71171,     0.71271,     0.71371,     0.71471,     0.71572,     0.71672,     0.71772,     0.71872,     0.71972,\n",
      "           0.72072,     0.72172,     0.72272,     0.72372,     0.72472,     0.72573,     0.72673,     0.72773,     0.72873,     0.72973,     0.73073,     0.73173,     0.73273,     0.73373,     0.73473,     0.73574,     0.73674,     0.73774,     0.73874,     0.73974,     0.74074,     0.74174,     0.74274,     0.74374,\n",
      "           0.74474,     0.74575,     0.74675,     0.74775,     0.74875,     0.74975,     0.75075,     0.75175,     0.75275,     0.75375,     0.75475,     0.75576,     0.75676,     0.75776,     0.75876,     0.75976,     0.76076,     0.76176,     0.76276,     0.76376,     0.76476,     0.76577,     0.76677,     0.76777,\n",
      "           0.76877,     0.76977,     0.77077,     0.77177,     0.77277,     0.77377,     0.77477,     0.77578,     0.77678,     0.77778,     0.77878,     0.77978,     0.78078,     0.78178,     0.78278,     0.78378,     0.78478,     0.78579,     0.78679,     0.78779,     0.78879,     0.78979,     0.79079,     0.79179,\n",
      "           0.79279,     0.79379,     0.79479,      0.7958,      0.7968,      0.7978,      0.7988,      0.7998,      0.8008,      0.8018,      0.8028,      0.8038,      0.8048,     0.80581,     0.80681,     0.80781,     0.80881,     0.80981,     0.81081,     0.81181,     0.81281,     0.81381,     0.81481,     0.81582,\n",
      "           0.81682,     0.81782,     0.81882,     0.81982,     0.82082,     0.82182,     0.82282,     0.82382,     0.82482,     0.82583,     0.82683,     0.82783,     0.82883,     0.82983,     0.83083,     0.83183,     0.83283,     0.83383,     0.83483,     0.83584,     0.83684,     0.83784,     0.83884,     0.83984,\n",
      "           0.84084,     0.84184,     0.84284,     0.84384,     0.84484,     0.84585,     0.84685,     0.84785,     0.84885,     0.84985,     0.85085,     0.85185,     0.85285,     0.85385,     0.85485,     0.85586,     0.85686,     0.85786,     0.85886,     0.85986,     0.86086,     0.86186,     0.86286,     0.86386,\n",
      "           0.86486,     0.86587,     0.86687,     0.86787,     0.86887,     0.86987,     0.87087,     0.87187,     0.87287,     0.87387,     0.87487,     0.87588,     0.87688,     0.87788,     0.87888,     0.87988,     0.88088,     0.88188,     0.88288,     0.88388,     0.88488,     0.88589,     0.88689,     0.88789,\n",
      "           0.88889,     0.88989,     0.89089,     0.89189,     0.89289,     0.89389,     0.89489,      0.8959,      0.8969,      0.8979,      0.8989,      0.8999,      0.9009,      0.9019,      0.9029,      0.9039,      0.9049,     0.90591,     0.90691,     0.90791,     0.90891,     0.90991,     0.91091,     0.91191,\n",
      "           0.91291,     0.91391,     0.91491,     0.91592,     0.91692,     0.91792,     0.91892,     0.91992,     0.92092,     0.92192,     0.92292,     0.92392,     0.92492,     0.92593,     0.92693,     0.92793,     0.92893,     0.92993,     0.93093,     0.93193,     0.93293,     0.93393,     0.93493,     0.93594,\n",
      "           0.93694,     0.93794,     0.93894,     0.93994,     0.94094,     0.94194,     0.94294,     0.94394,     0.94494,     0.94595,     0.94695,     0.94795,     0.94895,     0.94995,     0.95095,     0.95195,     0.95295,     0.95395,     0.95495,     0.95596,     0.95696,     0.95796,     0.95896,     0.95996,\n",
      "           0.96096,     0.96196,     0.96296,     0.96396,     0.96496,     0.96597,     0.96697,     0.96797,     0.96897,     0.96997,     0.97097,     0.97197,     0.97297,     0.97397,     0.97497,     0.97598,     0.97698,     0.97798,     0.97898,     0.97998,     0.98098,     0.98198,     0.98298,     0.98398,\n",
      "           0.98498,     0.98599,     0.98699,     0.98799,     0.98899,     0.98999,     0.99099,     0.99199,     0.99299,     0.99399,     0.99499,       0.996,       0.997,       0.998,       0.999,           1]), array([[          1,           1,           1, ...,   0.0010991,  0.00054957,           0],\n",
      "       [          1,           1,           1, ...,   0.0072486,   0.0036243,           0],\n",
      "       [          1,           1,           1, ...,   0.0060592,   0.0030296,           0],\n",
      "       ...,\n",
      "       [          1,           1,           1, ...,     0.00462,     0.00231,           0],\n",
      "       [          1,           1,           1, ...,   0.0053387,   0.0026693,           0],\n",
      "       [          1,           1,           1, ...,   0.0055228,   0.0027614,           0]]), 'Recall', 'Precision'], [array([          0,    0.001001,    0.002002,    0.003003,    0.004004,    0.005005,    0.006006,    0.007007,    0.008008,    0.009009,     0.01001,    0.011011,    0.012012,    0.013013,    0.014014,    0.015015,    0.016016,    0.017017,    0.018018,    0.019019,     0.02002,    0.021021,    0.022022,    0.023023,\n",
      "          0.024024,    0.025025,    0.026026,    0.027027,    0.028028,    0.029029,     0.03003,    0.031031,    0.032032,    0.033033,    0.034034,    0.035035,    0.036036,    0.037037,    0.038038,    0.039039,     0.04004,    0.041041,    0.042042,    0.043043,    0.044044,    0.045045,    0.046046,    0.047047,\n",
      "          0.048048,    0.049049,     0.05005,    0.051051,    0.052052,    0.053053,    0.054054,    0.055055,    0.056056,    0.057057,    0.058058,    0.059059,     0.06006,    0.061061,    0.062062,    0.063063,    0.064064,    0.065065,    0.066066,    0.067067,    0.068068,    0.069069,     0.07007,    0.071071,\n",
      "          0.072072,    0.073073,    0.074074,    0.075075,    0.076076,    0.077077,    0.078078,    0.079079,     0.08008,    0.081081,    0.082082,    0.083083,    0.084084,    0.085085,    0.086086,    0.087087,    0.088088,    0.089089,     0.09009,    0.091091,    0.092092,    0.093093,    0.094094,    0.095095,\n",
      "          0.096096,    0.097097,    0.098098,    0.099099,      0.1001,      0.1011,      0.1021,      0.1031,      0.1041,     0.10511,     0.10611,     0.10711,     0.10811,     0.10911,     0.11011,     0.11111,     0.11211,     0.11311,     0.11411,     0.11512,     0.11612,     0.11712,     0.11812,     0.11912,\n",
      "           0.12012,     0.12112,     0.12212,     0.12312,     0.12412,     0.12513,     0.12613,     0.12713,     0.12813,     0.12913,     0.13013,     0.13113,     0.13213,     0.13313,     0.13413,     0.13514,     0.13614,     0.13714,     0.13814,     0.13914,     0.14014,     0.14114,     0.14214,     0.14314,\n",
      "           0.14414,     0.14515,     0.14615,     0.14715,     0.14815,     0.14915,     0.15015,     0.15115,     0.15215,     0.15315,     0.15415,     0.15516,     0.15616,     0.15716,     0.15816,     0.15916,     0.16016,     0.16116,     0.16216,     0.16316,     0.16416,     0.16517,     0.16617,     0.16717,\n",
      "           0.16817,     0.16917,     0.17017,     0.17117,     0.17217,     0.17317,     0.17417,     0.17518,     0.17618,     0.17718,     0.17818,     0.17918,     0.18018,     0.18118,     0.18218,     0.18318,     0.18418,     0.18519,     0.18619,     0.18719,     0.18819,     0.18919,     0.19019,     0.19119,\n",
      "           0.19219,     0.19319,     0.19419,      0.1952,      0.1962,      0.1972,      0.1982,      0.1992,      0.2002,      0.2012,      0.2022,      0.2032,      0.2042,     0.20521,     0.20621,     0.20721,     0.20821,     0.20921,     0.21021,     0.21121,     0.21221,     0.21321,     0.21421,     0.21522,\n",
      "           0.21622,     0.21722,     0.21822,     0.21922,     0.22022,     0.22122,     0.22222,     0.22322,     0.22422,     0.22523,     0.22623,     0.22723,     0.22823,     0.22923,     0.23023,     0.23123,     0.23223,     0.23323,     0.23423,     0.23524,     0.23624,     0.23724,     0.23824,     0.23924,\n",
      "           0.24024,     0.24124,     0.24224,     0.24324,     0.24424,     0.24525,     0.24625,     0.24725,     0.24825,     0.24925,     0.25025,     0.25125,     0.25225,     0.25325,     0.25425,     0.25526,     0.25626,     0.25726,     0.25826,     0.25926,     0.26026,     0.26126,     0.26226,     0.26326,\n",
      "           0.26426,     0.26527,     0.26627,     0.26727,     0.26827,     0.26927,     0.27027,     0.27127,     0.27227,     0.27327,     0.27427,     0.27528,     0.27628,     0.27728,     0.27828,     0.27928,     0.28028,     0.28128,     0.28228,     0.28328,     0.28428,     0.28529,     0.28629,     0.28729,\n",
      "           0.28829,     0.28929,     0.29029,     0.29129,     0.29229,     0.29329,     0.29429,      0.2953,      0.2963,      0.2973,      0.2983,      0.2993,      0.3003,      0.3013,      0.3023,      0.3033,      0.3043,     0.30531,     0.30631,     0.30731,     0.30831,     0.30931,     0.31031,     0.31131,\n",
      "           0.31231,     0.31331,     0.31431,     0.31532,     0.31632,     0.31732,     0.31832,     0.31932,     0.32032,     0.32132,     0.32232,     0.32332,     0.32432,     0.32533,     0.32633,     0.32733,     0.32833,     0.32933,     0.33033,     0.33133,     0.33233,     0.33333,     0.33433,     0.33534,\n",
      "           0.33634,     0.33734,     0.33834,     0.33934,     0.34034,     0.34134,     0.34234,     0.34334,     0.34434,     0.34535,     0.34635,     0.34735,     0.34835,     0.34935,     0.35035,     0.35135,     0.35235,     0.35335,     0.35435,     0.35536,     0.35636,     0.35736,     0.35836,     0.35936,\n",
      "           0.36036,     0.36136,     0.36236,     0.36336,     0.36436,     0.36537,     0.36637,     0.36737,     0.36837,     0.36937,     0.37037,     0.37137,     0.37237,     0.37337,     0.37437,     0.37538,     0.37638,     0.37738,     0.37838,     0.37938,     0.38038,     0.38138,     0.38238,     0.38338,\n",
      "           0.38438,     0.38539,     0.38639,     0.38739,     0.38839,     0.38939,     0.39039,     0.39139,     0.39239,     0.39339,     0.39439,      0.3954,      0.3964,      0.3974,      0.3984,      0.3994,      0.4004,      0.4014,      0.4024,      0.4034,      0.4044,     0.40541,     0.40641,     0.40741,\n",
      "           0.40841,     0.40941,     0.41041,     0.41141,     0.41241,     0.41341,     0.41441,     0.41542,     0.41642,     0.41742,     0.41842,     0.41942,     0.42042,     0.42142,     0.42242,     0.42342,     0.42442,     0.42543,     0.42643,     0.42743,     0.42843,     0.42943,     0.43043,     0.43143,\n",
      "           0.43243,     0.43343,     0.43443,     0.43544,     0.43644,     0.43744,     0.43844,     0.43944,     0.44044,     0.44144,     0.44244,     0.44344,     0.44444,     0.44545,     0.44645,     0.44745,     0.44845,     0.44945,     0.45045,     0.45145,     0.45245,     0.45345,     0.45445,     0.45546,\n",
      "           0.45646,     0.45746,     0.45846,     0.45946,     0.46046,     0.46146,     0.46246,     0.46346,     0.46446,     0.46547,     0.46647,     0.46747,     0.46847,     0.46947,     0.47047,     0.47147,     0.47247,     0.47347,     0.47447,     0.47548,     0.47648,     0.47748,     0.47848,     0.47948,\n",
      "           0.48048,     0.48148,     0.48248,     0.48348,     0.48448,     0.48549,     0.48649,     0.48749,     0.48849,     0.48949,     0.49049,     0.49149,     0.49249,     0.49349,     0.49449,      0.4955,      0.4965,      0.4975,      0.4985,      0.4995,      0.5005,      0.5015,      0.5025,      0.5035,\n",
      "            0.5045,     0.50551,     0.50651,     0.50751,     0.50851,     0.50951,     0.51051,     0.51151,     0.51251,     0.51351,     0.51451,     0.51552,     0.51652,     0.51752,     0.51852,     0.51952,     0.52052,     0.52152,     0.52252,     0.52352,     0.52452,     0.52553,     0.52653,     0.52753,\n",
      "           0.52853,     0.52953,     0.53053,     0.53153,     0.53253,     0.53353,     0.53453,     0.53554,     0.53654,     0.53754,     0.53854,     0.53954,     0.54054,     0.54154,     0.54254,     0.54354,     0.54454,     0.54555,     0.54655,     0.54755,     0.54855,     0.54955,     0.55055,     0.55155,\n",
      "           0.55255,     0.55355,     0.55455,     0.55556,     0.55656,     0.55756,     0.55856,     0.55956,     0.56056,     0.56156,     0.56256,     0.56356,     0.56456,     0.56557,     0.56657,     0.56757,     0.56857,     0.56957,     0.57057,     0.57157,     0.57257,     0.57357,     0.57457,     0.57558,\n",
      "           0.57658,     0.57758,     0.57858,     0.57958,     0.58058,     0.58158,     0.58258,     0.58358,     0.58458,     0.58559,     0.58659,     0.58759,     0.58859,     0.58959,     0.59059,     0.59159,     0.59259,     0.59359,     0.59459,      0.5956,      0.5966,      0.5976,      0.5986,      0.5996,\n",
      "            0.6006,      0.6016,      0.6026,      0.6036,      0.6046,     0.60561,     0.60661,     0.60761,     0.60861,     0.60961,     0.61061,     0.61161,     0.61261,     0.61361,     0.61461,     0.61562,     0.61662,     0.61762,     0.61862,     0.61962,     0.62062,     0.62162,     0.62262,     0.62362,\n",
      "           0.62462,     0.62563,     0.62663,     0.62763,     0.62863,     0.62963,     0.63063,     0.63163,     0.63263,     0.63363,     0.63463,     0.63564,     0.63664,     0.63764,     0.63864,     0.63964,     0.64064,     0.64164,     0.64264,     0.64364,     0.64464,     0.64565,     0.64665,     0.64765,\n",
      "           0.64865,     0.64965,     0.65065,     0.65165,     0.65265,     0.65365,     0.65465,     0.65566,     0.65666,     0.65766,     0.65866,     0.65966,     0.66066,     0.66166,     0.66266,     0.66366,     0.66466,     0.66567,     0.66667,     0.66767,     0.66867,     0.66967,     0.67067,     0.67167,\n",
      "           0.67267,     0.67367,     0.67467,     0.67568,     0.67668,     0.67768,     0.67868,     0.67968,     0.68068,     0.68168,     0.68268,     0.68368,     0.68468,     0.68569,     0.68669,     0.68769,     0.68869,     0.68969,     0.69069,     0.69169,     0.69269,     0.69369,     0.69469,      0.6957,\n",
      "            0.6967,      0.6977,      0.6987,      0.6997,      0.7007,      0.7017,      0.7027,      0.7037,      0.7047,     0.70571,     0.70671,     0.70771,     0.70871,     0.70971,     0.71071,     0.71171,     0.71271,     0.71371,     0.71471,     0.71572,     0.71672,     0.71772,     0.71872,     0.71972,\n",
      "           0.72072,     0.72172,     0.72272,     0.72372,     0.72472,     0.72573,     0.72673,     0.72773,     0.72873,     0.72973,     0.73073,     0.73173,     0.73273,     0.73373,     0.73473,     0.73574,     0.73674,     0.73774,     0.73874,     0.73974,     0.74074,     0.74174,     0.74274,     0.74374,\n",
      "           0.74474,     0.74575,     0.74675,     0.74775,     0.74875,     0.74975,     0.75075,     0.75175,     0.75275,     0.75375,     0.75475,     0.75576,     0.75676,     0.75776,     0.75876,     0.75976,     0.76076,     0.76176,     0.76276,     0.76376,     0.76476,     0.76577,     0.76677,     0.76777,\n",
      "           0.76877,     0.76977,     0.77077,     0.77177,     0.77277,     0.77377,     0.77477,     0.77578,     0.77678,     0.77778,     0.77878,     0.77978,     0.78078,     0.78178,     0.78278,     0.78378,     0.78478,     0.78579,     0.78679,     0.78779,     0.78879,     0.78979,     0.79079,     0.79179,\n",
      "           0.79279,     0.79379,     0.79479,      0.7958,      0.7968,      0.7978,      0.7988,      0.7998,      0.8008,      0.8018,      0.8028,      0.8038,      0.8048,     0.80581,     0.80681,     0.80781,     0.80881,     0.80981,     0.81081,     0.81181,     0.81281,     0.81381,     0.81481,     0.81582,\n",
      "           0.81682,     0.81782,     0.81882,     0.81982,     0.82082,     0.82182,     0.82282,     0.82382,     0.82482,     0.82583,     0.82683,     0.82783,     0.82883,     0.82983,     0.83083,     0.83183,     0.83283,     0.83383,     0.83483,     0.83584,     0.83684,     0.83784,     0.83884,     0.83984,\n",
      "           0.84084,     0.84184,     0.84284,     0.84384,     0.84484,     0.84585,     0.84685,     0.84785,     0.84885,     0.84985,     0.85085,     0.85185,     0.85285,     0.85385,     0.85485,     0.85586,     0.85686,     0.85786,     0.85886,     0.85986,     0.86086,     0.86186,     0.86286,     0.86386,\n",
      "           0.86486,     0.86587,     0.86687,     0.86787,     0.86887,     0.86987,     0.87087,     0.87187,     0.87287,     0.87387,     0.87487,     0.87588,     0.87688,     0.87788,     0.87888,     0.87988,     0.88088,     0.88188,     0.88288,     0.88388,     0.88488,     0.88589,     0.88689,     0.88789,\n",
      "           0.88889,     0.88989,     0.89089,     0.89189,     0.89289,     0.89389,     0.89489,      0.8959,      0.8969,      0.8979,      0.8989,      0.8999,      0.9009,      0.9019,      0.9029,      0.9039,      0.9049,     0.90591,     0.90691,     0.90791,     0.90891,     0.90991,     0.91091,     0.91191,\n",
      "           0.91291,     0.91391,     0.91491,     0.91592,     0.91692,     0.91792,     0.91892,     0.91992,     0.92092,     0.92192,     0.92292,     0.92392,     0.92492,     0.92593,     0.92693,     0.92793,     0.92893,     0.92993,     0.93093,     0.93193,     0.93293,     0.93393,     0.93493,     0.93594,\n",
      "           0.93694,     0.93794,     0.93894,     0.93994,     0.94094,     0.94194,     0.94294,     0.94394,     0.94494,     0.94595,     0.94695,     0.94795,     0.94895,     0.94995,     0.95095,     0.95195,     0.95295,     0.95395,     0.95495,     0.95596,     0.95696,     0.95796,     0.95896,     0.95996,\n",
      "           0.96096,     0.96196,     0.96296,     0.96396,     0.96496,     0.96597,     0.96697,     0.96797,     0.96897,     0.96997,     0.97097,     0.97197,     0.97297,     0.97397,     0.97497,     0.97598,     0.97698,     0.97798,     0.97898,     0.97998,     0.98098,     0.98198,     0.98298,     0.98398,\n",
      "           0.98498,     0.98599,     0.98699,     0.98799,     0.98899,     0.98999,     0.99099,     0.99199,     0.99299,     0.99399,     0.99499,       0.996,       0.997,       0.998,       0.999,           1]), array([[    0.12727,     0.12727,     0.15955, ...,           0,           0,           0],\n",
      "       [    0.29197,     0.29197,     0.36313, ...,           0,           0,           0],\n",
      "       [    0.27273,     0.27273,     0.34074, ...,           0,           0,           0],\n",
      "       ...,\n",
      "       [    0.36735,     0.36735,     0.41735, ...,           0,           0,           0],\n",
      "       [    0.33566,     0.33566,     0.43698, ...,           0,           0,           0],\n",
      "       [    0.29126,     0.29126,     0.36559, ...,           0,           0,           0]]), 'Confidence', 'F1'], [array([          0,    0.001001,    0.002002,    0.003003,    0.004004,    0.005005,    0.006006,    0.007007,    0.008008,    0.009009,     0.01001,    0.011011,    0.012012,    0.013013,    0.014014,    0.015015,    0.016016,    0.017017,    0.018018,    0.019019,     0.02002,    0.021021,    0.022022,    0.023023,\n",
      "          0.024024,    0.025025,    0.026026,    0.027027,    0.028028,    0.029029,     0.03003,    0.031031,    0.032032,    0.033033,    0.034034,    0.035035,    0.036036,    0.037037,    0.038038,    0.039039,     0.04004,    0.041041,    0.042042,    0.043043,    0.044044,    0.045045,    0.046046,    0.047047,\n",
      "          0.048048,    0.049049,     0.05005,    0.051051,    0.052052,    0.053053,    0.054054,    0.055055,    0.056056,    0.057057,    0.058058,    0.059059,     0.06006,    0.061061,    0.062062,    0.063063,    0.064064,    0.065065,    0.066066,    0.067067,    0.068068,    0.069069,     0.07007,    0.071071,\n",
      "          0.072072,    0.073073,    0.074074,    0.075075,    0.076076,    0.077077,    0.078078,    0.079079,     0.08008,    0.081081,    0.082082,    0.083083,    0.084084,    0.085085,    0.086086,    0.087087,    0.088088,    0.089089,     0.09009,    0.091091,    0.092092,    0.093093,    0.094094,    0.095095,\n",
      "          0.096096,    0.097097,    0.098098,    0.099099,      0.1001,      0.1011,      0.1021,      0.1031,      0.1041,     0.10511,     0.10611,     0.10711,     0.10811,     0.10911,     0.11011,     0.11111,     0.11211,     0.11311,     0.11411,     0.11512,     0.11612,     0.11712,     0.11812,     0.11912,\n",
      "           0.12012,     0.12112,     0.12212,     0.12312,     0.12412,     0.12513,     0.12613,     0.12713,     0.12813,     0.12913,     0.13013,     0.13113,     0.13213,     0.13313,     0.13413,     0.13514,     0.13614,     0.13714,     0.13814,     0.13914,     0.14014,     0.14114,     0.14214,     0.14314,\n",
      "           0.14414,     0.14515,     0.14615,     0.14715,     0.14815,     0.14915,     0.15015,     0.15115,     0.15215,     0.15315,     0.15415,     0.15516,     0.15616,     0.15716,     0.15816,     0.15916,     0.16016,     0.16116,     0.16216,     0.16316,     0.16416,     0.16517,     0.16617,     0.16717,\n",
      "           0.16817,     0.16917,     0.17017,     0.17117,     0.17217,     0.17317,     0.17417,     0.17518,     0.17618,     0.17718,     0.17818,     0.17918,     0.18018,     0.18118,     0.18218,     0.18318,     0.18418,     0.18519,     0.18619,     0.18719,     0.18819,     0.18919,     0.19019,     0.19119,\n",
      "           0.19219,     0.19319,     0.19419,      0.1952,      0.1962,      0.1972,      0.1982,      0.1992,      0.2002,      0.2012,      0.2022,      0.2032,      0.2042,     0.20521,     0.20621,     0.20721,     0.20821,     0.20921,     0.21021,     0.21121,     0.21221,     0.21321,     0.21421,     0.21522,\n",
      "           0.21622,     0.21722,     0.21822,     0.21922,     0.22022,     0.22122,     0.22222,     0.22322,     0.22422,     0.22523,     0.22623,     0.22723,     0.22823,     0.22923,     0.23023,     0.23123,     0.23223,     0.23323,     0.23423,     0.23524,     0.23624,     0.23724,     0.23824,     0.23924,\n",
      "           0.24024,     0.24124,     0.24224,     0.24324,     0.24424,     0.24525,     0.24625,     0.24725,     0.24825,     0.24925,     0.25025,     0.25125,     0.25225,     0.25325,     0.25425,     0.25526,     0.25626,     0.25726,     0.25826,     0.25926,     0.26026,     0.26126,     0.26226,     0.26326,\n",
      "           0.26426,     0.26527,     0.26627,     0.26727,     0.26827,     0.26927,     0.27027,     0.27127,     0.27227,     0.27327,     0.27427,     0.27528,     0.27628,     0.27728,     0.27828,     0.27928,     0.28028,     0.28128,     0.28228,     0.28328,     0.28428,     0.28529,     0.28629,     0.28729,\n",
      "           0.28829,     0.28929,     0.29029,     0.29129,     0.29229,     0.29329,     0.29429,      0.2953,      0.2963,      0.2973,      0.2983,      0.2993,      0.3003,      0.3013,      0.3023,      0.3033,      0.3043,     0.30531,     0.30631,     0.30731,     0.30831,     0.30931,     0.31031,     0.31131,\n",
      "           0.31231,     0.31331,     0.31431,     0.31532,     0.31632,     0.31732,     0.31832,     0.31932,     0.32032,     0.32132,     0.32232,     0.32332,     0.32432,     0.32533,     0.32633,     0.32733,     0.32833,     0.32933,     0.33033,     0.33133,     0.33233,     0.33333,     0.33433,     0.33534,\n",
      "           0.33634,     0.33734,     0.33834,     0.33934,     0.34034,     0.34134,     0.34234,     0.34334,     0.34434,     0.34535,     0.34635,     0.34735,     0.34835,     0.34935,     0.35035,     0.35135,     0.35235,     0.35335,     0.35435,     0.35536,     0.35636,     0.35736,     0.35836,     0.35936,\n",
      "           0.36036,     0.36136,     0.36236,     0.36336,     0.36436,     0.36537,     0.36637,     0.36737,     0.36837,     0.36937,     0.37037,     0.37137,     0.37237,     0.37337,     0.37437,     0.37538,     0.37638,     0.37738,     0.37838,     0.37938,     0.38038,     0.38138,     0.38238,     0.38338,\n",
      "           0.38438,     0.38539,     0.38639,     0.38739,     0.38839,     0.38939,     0.39039,     0.39139,     0.39239,     0.39339,     0.39439,      0.3954,      0.3964,      0.3974,      0.3984,      0.3994,      0.4004,      0.4014,      0.4024,      0.4034,      0.4044,     0.40541,     0.40641,     0.40741,\n",
      "           0.40841,     0.40941,     0.41041,     0.41141,     0.41241,     0.41341,     0.41441,     0.41542,     0.41642,     0.41742,     0.41842,     0.41942,     0.42042,     0.42142,     0.42242,     0.42342,     0.42442,     0.42543,     0.42643,     0.42743,     0.42843,     0.42943,     0.43043,     0.43143,\n",
      "           0.43243,     0.43343,     0.43443,     0.43544,     0.43644,     0.43744,     0.43844,     0.43944,     0.44044,     0.44144,     0.44244,     0.44344,     0.44444,     0.44545,     0.44645,     0.44745,     0.44845,     0.44945,     0.45045,     0.45145,     0.45245,     0.45345,     0.45445,     0.45546,\n",
      "           0.45646,     0.45746,     0.45846,     0.45946,     0.46046,     0.46146,     0.46246,     0.46346,     0.46446,     0.46547,     0.46647,     0.46747,     0.46847,     0.46947,     0.47047,     0.47147,     0.47247,     0.47347,     0.47447,     0.47548,     0.47648,     0.47748,     0.47848,     0.47948,\n",
      "           0.48048,     0.48148,     0.48248,     0.48348,     0.48448,     0.48549,     0.48649,     0.48749,     0.48849,     0.48949,     0.49049,     0.49149,     0.49249,     0.49349,     0.49449,      0.4955,      0.4965,      0.4975,      0.4985,      0.4995,      0.5005,      0.5015,      0.5025,      0.5035,\n",
      "            0.5045,     0.50551,     0.50651,     0.50751,     0.50851,     0.50951,     0.51051,     0.51151,     0.51251,     0.51351,     0.51451,     0.51552,     0.51652,     0.51752,     0.51852,     0.51952,     0.52052,     0.52152,     0.52252,     0.52352,     0.52452,     0.52553,     0.52653,     0.52753,\n",
      "           0.52853,     0.52953,     0.53053,     0.53153,     0.53253,     0.53353,     0.53453,     0.53554,     0.53654,     0.53754,     0.53854,     0.53954,     0.54054,     0.54154,     0.54254,     0.54354,     0.54454,     0.54555,     0.54655,     0.54755,     0.54855,     0.54955,     0.55055,     0.55155,\n",
      "           0.55255,     0.55355,     0.55455,     0.55556,     0.55656,     0.55756,     0.55856,     0.55956,     0.56056,     0.56156,     0.56256,     0.56356,     0.56456,     0.56557,     0.56657,     0.56757,     0.56857,     0.56957,     0.57057,     0.57157,     0.57257,     0.57357,     0.57457,     0.57558,\n",
      "           0.57658,     0.57758,     0.57858,     0.57958,     0.58058,     0.58158,     0.58258,     0.58358,     0.58458,     0.58559,     0.58659,     0.58759,     0.58859,     0.58959,     0.59059,     0.59159,     0.59259,     0.59359,     0.59459,      0.5956,      0.5966,      0.5976,      0.5986,      0.5996,\n",
      "            0.6006,      0.6016,      0.6026,      0.6036,      0.6046,     0.60561,     0.60661,     0.60761,     0.60861,     0.60961,     0.61061,     0.61161,     0.61261,     0.61361,     0.61461,     0.61562,     0.61662,     0.61762,     0.61862,     0.61962,     0.62062,     0.62162,     0.62262,     0.62362,\n",
      "           0.62462,     0.62563,     0.62663,     0.62763,     0.62863,     0.62963,     0.63063,     0.63163,     0.63263,     0.63363,     0.63463,     0.63564,     0.63664,     0.63764,     0.63864,     0.63964,     0.64064,     0.64164,     0.64264,     0.64364,     0.64464,     0.64565,     0.64665,     0.64765,\n",
      "           0.64865,     0.64965,     0.65065,     0.65165,     0.65265,     0.65365,     0.65465,     0.65566,     0.65666,     0.65766,     0.65866,     0.65966,     0.66066,     0.66166,     0.66266,     0.66366,     0.66466,     0.66567,     0.66667,     0.66767,     0.66867,     0.66967,     0.67067,     0.67167,\n",
      "           0.67267,     0.67367,     0.67467,     0.67568,     0.67668,     0.67768,     0.67868,     0.67968,     0.68068,     0.68168,     0.68268,     0.68368,     0.68468,     0.68569,     0.68669,     0.68769,     0.68869,     0.68969,     0.69069,     0.69169,     0.69269,     0.69369,     0.69469,      0.6957,\n",
      "            0.6967,      0.6977,      0.6987,      0.6997,      0.7007,      0.7017,      0.7027,      0.7037,      0.7047,     0.70571,     0.70671,     0.70771,     0.70871,     0.70971,     0.71071,     0.71171,     0.71271,     0.71371,     0.71471,     0.71572,     0.71672,     0.71772,     0.71872,     0.71972,\n",
      "           0.72072,     0.72172,     0.72272,     0.72372,     0.72472,     0.72573,     0.72673,     0.72773,     0.72873,     0.72973,     0.73073,     0.73173,     0.73273,     0.73373,     0.73473,     0.73574,     0.73674,     0.73774,     0.73874,     0.73974,     0.74074,     0.74174,     0.74274,     0.74374,\n",
      "           0.74474,     0.74575,     0.74675,     0.74775,     0.74875,     0.74975,     0.75075,     0.75175,     0.75275,     0.75375,     0.75475,     0.75576,     0.75676,     0.75776,     0.75876,     0.75976,     0.76076,     0.76176,     0.76276,     0.76376,     0.76476,     0.76577,     0.76677,     0.76777,\n",
      "           0.76877,     0.76977,     0.77077,     0.77177,     0.77277,     0.77377,     0.77477,     0.77578,     0.77678,     0.77778,     0.77878,     0.77978,     0.78078,     0.78178,     0.78278,     0.78378,     0.78478,     0.78579,     0.78679,     0.78779,     0.78879,     0.78979,     0.79079,     0.79179,\n",
      "           0.79279,     0.79379,     0.79479,      0.7958,      0.7968,      0.7978,      0.7988,      0.7998,      0.8008,      0.8018,      0.8028,      0.8038,      0.8048,     0.80581,     0.80681,     0.80781,     0.80881,     0.80981,     0.81081,     0.81181,     0.81281,     0.81381,     0.81481,     0.81582,\n",
      "           0.81682,     0.81782,     0.81882,     0.81982,     0.82082,     0.82182,     0.82282,     0.82382,     0.82482,     0.82583,     0.82683,     0.82783,     0.82883,     0.82983,     0.83083,     0.83183,     0.83283,     0.83383,     0.83483,     0.83584,     0.83684,     0.83784,     0.83884,     0.83984,\n",
      "           0.84084,     0.84184,     0.84284,     0.84384,     0.84484,     0.84585,     0.84685,     0.84785,     0.84885,     0.84985,     0.85085,     0.85185,     0.85285,     0.85385,     0.85485,     0.85586,     0.85686,     0.85786,     0.85886,     0.85986,     0.86086,     0.86186,     0.86286,     0.86386,\n",
      "           0.86486,     0.86587,     0.86687,     0.86787,     0.86887,     0.86987,     0.87087,     0.87187,     0.87287,     0.87387,     0.87487,     0.87588,     0.87688,     0.87788,     0.87888,     0.87988,     0.88088,     0.88188,     0.88288,     0.88388,     0.88488,     0.88589,     0.88689,     0.88789,\n",
      "           0.88889,     0.88989,     0.89089,     0.89189,     0.89289,     0.89389,     0.89489,      0.8959,      0.8969,      0.8979,      0.8989,      0.8999,      0.9009,      0.9019,      0.9029,      0.9039,      0.9049,     0.90591,     0.90691,     0.90791,     0.90891,     0.90991,     0.91091,     0.91191,\n",
      "           0.91291,     0.91391,     0.91491,     0.91592,     0.91692,     0.91792,     0.91892,     0.91992,     0.92092,     0.92192,     0.92292,     0.92392,     0.92492,     0.92593,     0.92693,     0.92793,     0.92893,     0.92993,     0.93093,     0.93193,     0.93293,     0.93393,     0.93493,     0.93594,\n",
      "           0.93694,     0.93794,     0.93894,     0.93994,     0.94094,     0.94194,     0.94294,     0.94394,     0.94494,     0.94595,     0.94695,     0.94795,     0.94895,     0.94995,     0.95095,     0.95195,     0.95295,     0.95395,     0.95495,     0.95596,     0.95696,     0.95796,     0.95896,     0.95996,\n",
      "           0.96096,     0.96196,     0.96296,     0.96396,     0.96496,     0.96597,     0.96697,     0.96797,     0.96897,     0.96997,     0.97097,     0.97197,     0.97297,     0.97397,     0.97497,     0.97598,     0.97698,     0.97798,     0.97898,     0.97998,     0.98098,     0.98198,     0.98298,     0.98398,\n",
      "           0.98498,     0.98599,     0.98699,     0.98799,     0.98899,     0.98999,     0.99099,     0.99199,     0.99299,     0.99399,     0.99499,       0.996,       0.997,       0.998,       0.999,           1]), array([[   0.068627,    0.068627,    0.087778, ...,           1,           1,           1],\n",
      "       [    0.17241,     0.17241,     0.22715, ...,           1,           1,           1],\n",
      "       [    0.15929,     0.15929,     0.20772, ...,           1,           1,           1],\n",
      "       ...,\n",
      "       [    0.23077,     0.23077,     0.27658, ...,           1,           1,           1],\n",
      "       [    0.20513,     0.20513,     0.28624, ...,           1,           1,           1],\n",
      "       [    0.17241,     0.17241,     0.22707, ...,           1,           1,           1]]), 'Confidence', 'Precision'], [array([          0,    0.001001,    0.002002,    0.003003,    0.004004,    0.005005,    0.006006,    0.007007,    0.008008,    0.009009,     0.01001,    0.011011,    0.012012,    0.013013,    0.014014,    0.015015,    0.016016,    0.017017,    0.018018,    0.019019,     0.02002,    0.021021,    0.022022,    0.023023,\n",
      "          0.024024,    0.025025,    0.026026,    0.027027,    0.028028,    0.029029,     0.03003,    0.031031,    0.032032,    0.033033,    0.034034,    0.035035,    0.036036,    0.037037,    0.038038,    0.039039,     0.04004,    0.041041,    0.042042,    0.043043,    0.044044,    0.045045,    0.046046,    0.047047,\n",
      "          0.048048,    0.049049,     0.05005,    0.051051,    0.052052,    0.053053,    0.054054,    0.055055,    0.056056,    0.057057,    0.058058,    0.059059,     0.06006,    0.061061,    0.062062,    0.063063,    0.064064,    0.065065,    0.066066,    0.067067,    0.068068,    0.069069,     0.07007,    0.071071,\n",
      "          0.072072,    0.073073,    0.074074,    0.075075,    0.076076,    0.077077,    0.078078,    0.079079,     0.08008,    0.081081,    0.082082,    0.083083,    0.084084,    0.085085,    0.086086,    0.087087,    0.088088,    0.089089,     0.09009,    0.091091,    0.092092,    0.093093,    0.094094,    0.095095,\n",
      "          0.096096,    0.097097,    0.098098,    0.099099,      0.1001,      0.1011,      0.1021,      0.1031,      0.1041,     0.10511,     0.10611,     0.10711,     0.10811,     0.10911,     0.11011,     0.11111,     0.11211,     0.11311,     0.11411,     0.11512,     0.11612,     0.11712,     0.11812,     0.11912,\n",
      "           0.12012,     0.12112,     0.12212,     0.12312,     0.12412,     0.12513,     0.12613,     0.12713,     0.12813,     0.12913,     0.13013,     0.13113,     0.13213,     0.13313,     0.13413,     0.13514,     0.13614,     0.13714,     0.13814,     0.13914,     0.14014,     0.14114,     0.14214,     0.14314,\n",
      "           0.14414,     0.14515,     0.14615,     0.14715,     0.14815,     0.14915,     0.15015,     0.15115,     0.15215,     0.15315,     0.15415,     0.15516,     0.15616,     0.15716,     0.15816,     0.15916,     0.16016,     0.16116,     0.16216,     0.16316,     0.16416,     0.16517,     0.16617,     0.16717,\n",
      "           0.16817,     0.16917,     0.17017,     0.17117,     0.17217,     0.17317,     0.17417,     0.17518,     0.17618,     0.17718,     0.17818,     0.17918,     0.18018,     0.18118,     0.18218,     0.18318,     0.18418,     0.18519,     0.18619,     0.18719,     0.18819,     0.18919,     0.19019,     0.19119,\n",
      "           0.19219,     0.19319,     0.19419,      0.1952,      0.1962,      0.1972,      0.1982,      0.1992,      0.2002,      0.2012,      0.2022,      0.2032,      0.2042,     0.20521,     0.20621,     0.20721,     0.20821,     0.20921,     0.21021,     0.21121,     0.21221,     0.21321,     0.21421,     0.21522,\n",
      "           0.21622,     0.21722,     0.21822,     0.21922,     0.22022,     0.22122,     0.22222,     0.22322,     0.22422,     0.22523,     0.22623,     0.22723,     0.22823,     0.22923,     0.23023,     0.23123,     0.23223,     0.23323,     0.23423,     0.23524,     0.23624,     0.23724,     0.23824,     0.23924,\n",
      "           0.24024,     0.24124,     0.24224,     0.24324,     0.24424,     0.24525,     0.24625,     0.24725,     0.24825,     0.24925,     0.25025,     0.25125,     0.25225,     0.25325,     0.25425,     0.25526,     0.25626,     0.25726,     0.25826,     0.25926,     0.26026,     0.26126,     0.26226,     0.26326,\n",
      "           0.26426,     0.26527,     0.26627,     0.26727,     0.26827,     0.26927,     0.27027,     0.27127,     0.27227,     0.27327,     0.27427,     0.27528,     0.27628,     0.27728,     0.27828,     0.27928,     0.28028,     0.28128,     0.28228,     0.28328,     0.28428,     0.28529,     0.28629,     0.28729,\n",
      "           0.28829,     0.28929,     0.29029,     0.29129,     0.29229,     0.29329,     0.29429,      0.2953,      0.2963,      0.2973,      0.2983,      0.2993,      0.3003,      0.3013,      0.3023,      0.3033,      0.3043,     0.30531,     0.30631,     0.30731,     0.30831,     0.30931,     0.31031,     0.31131,\n",
      "           0.31231,     0.31331,     0.31431,     0.31532,     0.31632,     0.31732,     0.31832,     0.31932,     0.32032,     0.32132,     0.32232,     0.32332,     0.32432,     0.32533,     0.32633,     0.32733,     0.32833,     0.32933,     0.33033,     0.33133,     0.33233,     0.33333,     0.33433,     0.33534,\n",
      "           0.33634,     0.33734,     0.33834,     0.33934,     0.34034,     0.34134,     0.34234,     0.34334,     0.34434,     0.34535,     0.34635,     0.34735,     0.34835,     0.34935,     0.35035,     0.35135,     0.35235,     0.35335,     0.35435,     0.35536,     0.35636,     0.35736,     0.35836,     0.35936,\n",
      "           0.36036,     0.36136,     0.36236,     0.36336,     0.36436,     0.36537,     0.36637,     0.36737,     0.36837,     0.36937,     0.37037,     0.37137,     0.37237,     0.37337,     0.37437,     0.37538,     0.37638,     0.37738,     0.37838,     0.37938,     0.38038,     0.38138,     0.38238,     0.38338,\n",
      "           0.38438,     0.38539,     0.38639,     0.38739,     0.38839,     0.38939,     0.39039,     0.39139,     0.39239,     0.39339,     0.39439,      0.3954,      0.3964,      0.3974,      0.3984,      0.3994,      0.4004,      0.4014,      0.4024,      0.4034,      0.4044,     0.40541,     0.40641,     0.40741,\n",
      "           0.40841,     0.40941,     0.41041,     0.41141,     0.41241,     0.41341,     0.41441,     0.41542,     0.41642,     0.41742,     0.41842,     0.41942,     0.42042,     0.42142,     0.42242,     0.42342,     0.42442,     0.42543,     0.42643,     0.42743,     0.42843,     0.42943,     0.43043,     0.43143,\n",
      "           0.43243,     0.43343,     0.43443,     0.43544,     0.43644,     0.43744,     0.43844,     0.43944,     0.44044,     0.44144,     0.44244,     0.44344,     0.44444,     0.44545,     0.44645,     0.44745,     0.44845,     0.44945,     0.45045,     0.45145,     0.45245,     0.45345,     0.45445,     0.45546,\n",
      "           0.45646,     0.45746,     0.45846,     0.45946,     0.46046,     0.46146,     0.46246,     0.46346,     0.46446,     0.46547,     0.46647,     0.46747,     0.46847,     0.46947,     0.47047,     0.47147,     0.47247,     0.47347,     0.47447,     0.47548,     0.47648,     0.47748,     0.47848,     0.47948,\n",
      "           0.48048,     0.48148,     0.48248,     0.48348,     0.48448,     0.48549,     0.48649,     0.48749,     0.48849,     0.48949,     0.49049,     0.49149,     0.49249,     0.49349,     0.49449,      0.4955,      0.4965,      0.4975,      0.4985,      0.4995,      0.5005,      0.5015,      0.5025,      0.5035,\n",
      "            0.5045,     0.50551,     0.50651,     0.50751,     0.50851,     0.50951,     0.51051,     0.51151,     0.51251,     0.51351,     0.51451,     0.51552,     0.51652,     0.51752,     0.51852,     0.51952,     0.52052,     0.52152,     0.52252,     0.52352,     0.52452,     0.52553,     0.52653,     0.52753,\n",
      "           0.52853,     0.52953,     0.53053,     0.53153,     0.53253,     0.53353,     0.53453,     0.53554,     0.53654,     0.53754,     0.53854,     0.53954,     0.54054,     0.54154,     0.54254,     0.54354,     0.54454,     0.54555,     0.54655,     0.54755,     0.54855,     0.54955,     0.55055,     0.55155,\n",
      "           0.55255,     0.55355,     0.55455,     0.55556,     0.55656,     0.55756,     0.55856,     0.55956,     0.56056,     0.56156,     0.56256,     0.56356,     0.56456,     0.56557,     0.56657,     0.56757,     0.56857,     0.56957,     0.57057,     0.57157,     0.57257,     0.57357,     0.57457,     0.57558,\n",
      "           0.57658,     0.57758,     0.57858,     0.57958,     0.58058,     0.58158,     0.58258,     0.58358,     0.58458,     0.58559,     0.58659,     0.58759,     0.58859,     0.58959,     0.59059,     0.59159,     0.59259,     0.59359,     0.59459,      0.5956,      0.5966,      0.5976,      0.5986,      0.5996,\n",
      "            0.6006,      0.6016,      0.6026,      0.6036,      0.6046,     0.60561,     0.60661,     0.60761,     0.60861,     0.60961,     0.61061,     0.61161,     0.61261,     0.61361,     0.61461,     0.61562,     0.61662,     0.61762,     0.61862,     0.61962,     0.62062,     0.62162,     0.62262,     0.62362,\n",
      "           0.62462,     0.62563,     0.62663,     0.62763,     0.62863,     0.62963,     0.63063,     0.63163,     0.63263,     0.63363,     0.63463,     0.63564,     0.63664,     0.63764,     0.63864,     0.63964,     0.64064,     0.64164,     0.64264,     0.64364,     0.64464,     0.64565,     0.64665,     0.64765,\n",
      "           0.64865,     0.64965,     0.65065,     0.65165,     0.65265,     0.65365,     0.65465,     0.65566,     0.65666,     0.65766,     0.65866,     0.65966,     0.66066,     0.66166,     0.66266,     0.66366,     0.66466,     0.66567,     0.66667,     0.66767,     0.66867,     0.66967,     0.67067,     0.67167,\n",
      "           0.67267,     0.67367,     0.67467,     0.67568,     0.67668,     0.67768,     0.67868,     0.67968,     0.68068,     0.68168,     0.68268,     0.68368,     0.68468,     0.68569,     0.68669,     0.68769,     0.68869,     0.68969,     0.69069,     0.69169,     0.69269,     0.69369,     0.69469,      0.6957,\n",
      "            0.6967,      0.6977,      0.6987,      0.6997,      0.7007,      0.7017,      0.7027,      0.7037,      0.7047,     0.70571,     0.70671,     0.70771,     0.70871,     0.70971,     0.71071,     0.71171,     0.71271,     0.71371,     0.71471,     0.71572,     0.71672,     0.71772,     0.71872,     0.71972,\n",
      "           0.72072,     0.72172,     0.72272,     0.72372,     0.72472,     0.72573,     0.72673,     0.72773,     0.72873,     0.72973,     0.73073,     0.73173,     0.73273,     0.73373,     0.73473,     0.73574,     0.73674,     0.73774,     0.73874,     0.73974,     0.74074,     0.74174,     0.74274,     0.74374,\n",
      "           0.74474,     0.74575,     0.74675,     0.74775,     0.74875,     0.74975,     0.75075,     0.75175,     0.75275,     0.75375,     0.75475,     0.75576,     0.75676,     0.75776,     0.75876,     0.75976,     0.76076,     0.76176,     0.76276,     0.76376,     0.76476,     0.76577,     0.76677,     0.76777,\n",
      "           0.76877,     0.76977,     0.77077,     0.77177,     0.77277,     0.77377,     0.77477,     0.77578,     0.77678,     0.77778,     0.77878,     0.77978,     0.78078,     0.78178,     0.78278,     0.78378,     0.78478,     0.78579,     0.78679,     0.78779,     0.78879,     0.78979,     0.79079,     0.79179,\n",
      "           0.79279,     0.79379,     0.79479,      0.7958,      0.7968,      0.7978,      0.7988,      0.7998,      0.8008,      0.8018,      0.8028,      0.8038,      0.8048,     0.80581,     0.80681,     0.80781,     0.80881,     0.80981,     0.81081,     0.81181,     0.81281,     0.81381,     0.81481,     0.81582,\n",
      "           0.81682,     0.81782,     0.81882,     0.81982,     0.82082,     0.82182,     0.82282,     0.82382,     0.82482,     0.82583,     0.82683,     0.82783,     0.82883,     0.82983,     0.83083,     0.83183,     0.83283,     0.83383,     0.83483,     0.83584,     0.83684,     0.83784,     0.83884,     0.83984,\n",
      "           0.84084,     0.84184,     0.84284,     0.84384,     0.84484,     0.84585,     0.84685,     0.84785,     0.84885,     0.84985,     0.85085,     0.85185,     0.85285,     0.85385,     0.85485,     0.85586,     0.85686,     0.85786,     0.85886,     0.85986,     0.86086,     0.86186,     0.86286,     0.86386,\n",
      "           0.86486,     0.86587,     0.86687,     0.86787,     0.86887,     0.86987,     0.87087,     0.87187,     0.87287,     0.87387,     0.87487,     0.87588,     0.87688,     0.87788,     0.87888,     0.87988,     0.88088,     0.88188,     0.88288,     0.88388,     0.88488,     0.88589,     0.88689,     0.88789,\n",
      "           0.88889,     0.88989,     0.89089,     0.89189,     0.89289,     0.89389,     0.89489,      0.8959,      0.8969,      0.8979,      0.8989,      0.8999,      0.9009,      0.9019,      0.9029,      0.9039,      0.9049,     0.90591,     0.90691,     0.90791,     0.90891,     0.90991,     0.91091,     0.91191,\n",
      "           0.91291,     0.91391,     0.91491,     0.91592,     0.91692,     0.91792,     0.91892,     0.91992,     0.92092,     0.92192,     0.92292,     0.92392,     0.92492,     0.92593,     0.92693,     0.92793,     0.92893,     0.92993,     0.93093,     0.93193,     0.93293,     0.93393,     0.93493,     0.93594,\n",
      "           0.93694,     0.93794,     0.93894,     0.93994,     0.94094,     0.94194,     0.94294,     0.94394,     0.94494,     0.94595,     0.94695,     0.94795,     0.94895,     0.94995,     0.95095,     0.95195,     0.95295,     0.95395,     0.95495,     0.95596,     0.95696,     0.95796,     0.95896,     0.95996,\n",
      "           0.96096,     0.96196,     0.96296,     0.96396,     0.96496,     0.96597,     0.96697,     0.96797,     0.96897,     0.96997,     0.97097,     0.97197,     0.97297,     0.97397,     0.97497,     0.97598,     0.97698,     0.97798,     0.97898,     0.97998,     0.98098,     0.98198,     0.98298,     0.98398,\n",
      "           0.98498,     0.98599,     0.98699,     0.98799,     0.98899,     0.98999,     0.99099,     0.99199,     0.99299,     0.99399,     0.99499,       0.996,       0.997,       0.998,       0.999,           1]), array([[      0.875,       0.875,       0.875, ...,           0,           0,           0],\n",
      "       [    0.95238,     0.95238,     0.90476, ...,           0,           0,           0],\n",
      "       [    0.94737,     0.94737,     0.94737, ...,           0,           0,           0],\n",
      "       ...,\n",
      "       [        0.9,         0.9,        0.85, ...,           0,           0,           0],\n",
      "       [    0.92308,     0.92308,     0.92308, ...,           0,           0,           0],\n",
      "       [     0.9375,      0.9375,      0.9375, ...,           0,           0,           0]]), 'Confidence', 'Recall']]\n",
      "fitness: 0.779114564437692\n",
      "keys: ['metrics/precision(B)', 'metrics/recall(B)', 'metrics/mAP50(B)', 'metrics/mAP50-95(B)']\n",
      "maps: array([    0.74307,     0.81937,     0.73244,     0.78725,     0.82014,     0.79905,     0.79232,     0.67735])\n",
      "names: {0: 'Chong Nonsi', 1: 'National Stadium', 2: 'Ratchadamri', 3: 'Saint Louis', 4: 'Sala Daeng', 5: 'Saphan Taksin', 6: 'Siam', 7: 'Surasak'}\n",
      "plot: True\n",
      "results_dict: {'metrics/precision(B)': 0.8320571139091734, 'metrics/recall(B)': 0.7612993570256301, 'metrics/mAP50(B)': 0.8487830896557514, 'metrics/mAP50-95(B)': 0.771373617191241, 'fitness': 0.779114564437692}\n",
      "save_dir: WindowsPath('models/deep_learning/test_results')\n",
      "speed: {'preprocess': 8.167360674081701, 'inference': 28.464107865106648, 'loss': 0.0009348313847368353, 'postprocess': 1.4182550563173515}\n",
      "task: 'detect'\n",
      "\n",
      "image 1/1 c:\\Users\\beung-yoga\\Documents\\GitHub4\\cv-project-stuctured\\data\\outputs\\test\\images\\Chong_Nonsi_008_png.rf.26cac58258259ef13c8bb8f661626130.jpg: 960x960 2 Chong Nonsis, 276.3ms\n",
      "Speed: 6.4ms preprocess, 276.3ms inference, 3.2ms postprocess per image at shape (1, 3, 960, 960)\n",
      "\n",
      "image 1/1 c:\\Users\\beung-yoga\\Documents\\GitHub4\\cv-project-stuctured\\data\\outputs\\test\\images\\Chong_Nonsi_015_png.rf.f17eca07d4a5017d63e1b304e8b54773.jpg: 960x960 2 Chong Nonsis, 48.3ms\n",
      "Speed: 6.1ms preprocess, 48.3ms inference, 2.3ms postprocess per image at shape (1, 3, 960, 960)\n",
      "\n",
      "image 1/1 c:\\Users\\beung-yoga\\Documents\\GitHub4\\cv-project-stuctured\\data\\outputs\\test\\images\\Chong_Nonsi_021_jpg.rf.3842ac4a52204ba533bec6ba81531293.jpg: 960x960 1 Chong Nonsi, 1 Ratchadamri, 48.6ms\n",
      "Speed: 5.8ms preprocess, 48.6ms inference, 2.2ms postprocess per image at shape (1, 3, 960, 960)\n",
      "\n",
      "image 1/1 c:\\Users\\beung-yoga\\Documents\\GitHub4\\cv-project-stuctured\\data\\outputs\\test\\images\\Chong_Nonsi_029_png.rf.7bee8bfd972daec3e6ac2a379bd50013.jpg: 960x960 1 Saint Louis, 42.9ms\n",
      "Speed: 5.9ms preprocess, 42.9ms inference, 2.2ms postprocess per image at shape (1, 3, 960, 960)\n",
      "\n",
      "image 1/1 c:\\Users\\beung-yoga\\Documents\\GitHub4\\cv-project-stuctured\\data\\outputs\\test\\images\\Chong_Nonsi_043_png.rf.2d9c8b6ad1e6806441aeedee3a4ad7da.jpg: 960x960 1 Chong Nonsi, 41.5ms\n",
      "Speed: 5.8ms preprocess, 41.5ms inference, 1.9ms postprocess per image at shape (1, 3, 960, 960)\n",
      "\n",
      "image 1/1 c:\\Users\\beung-yoga\\Documents\\GitHub4\\cv-project-stuctured\\data\\outputs\\test\\images\\Chong_Nonsi_052_png.rf.5f9f9a86694f05523bf19cfd1c818a5c.jpg: 960x960 1 Chong Nonsi, 42.1ms\n",
      "Speed: 5.4ms preprocess, 42.1ms inference, 2.2ms postprocess per image at shape (1, 3, 960, 960)\n",
      "\n",
      "image 1/1 c:\\Users\\beung-yoga\\Documents\\GitHub4\\cv-project-stuctured\\data\\outputs\\test\\images\\National_Stadium_002_png.rf.10b6a40dc3dac1df1e777c19ee1f3975.jpg: 960x960 1 National Stadium, 40.7ms\n",
      "Speed: 5.1ms preprocess, 40.7ms inference, 2.9ms postprocess per image at shape (1, 3, 960, 960)\n",
      "\n",
      "image 1/1 c:\\Users\\beung-yoga\\Documents\\GitHub4\\cv-project-stuctured\\data\\outputs\\test\\images\\National_Stadium_004_png.rf.b0e3203ce8ed01e82f74e06bfbff39b2.jpg: 960x960 1 National Stadium, 30.0ms\n",
      "Speed: 5.0ms preprocess, 30.0ms inference, 3.3ms postprocess per image at shape (1, 3, 960, 960)\n",
      "\n",
      "image 1/1 c:\\Users\\beung-yoga\\Documents\\GitHub4\\cv-project-stuctured\\data\\outputs\\test\\images\\National_Stadium_034_jpg.rf.f6e198b9505bcffb684803fe4871fb38.jpg: 960x960 1 National Stadium, 34.4ms\n",
      "Speed: 5.1ms preprocess, 34.4ms inference, 3.6ms postprocess per image at shape (1, 3, 960, 960)\n",
      "\n",
      "image 1/1 c:\\Users\\beung-yoga\\Documents\\GitHub4\\cv-project-stuctured\\data\\outputs\\test\\images\\National_Stadium_035_jpg.rf.52e2734d1bc55d5b37bf5de4bf6e4d3c.jpg: 960x960 2 National Stadiums, 29.5ms\n",
      "Speed: 5.5ms preprocess, 29.5ms inference, 2.0ms postprocess per image at shape (1, 3, 960, 960)\n",
      "\n",
      "image 1/1 c:\\Users\\beung-yoga\\Documents\\GitHub4\\cv-project-stuctured\\data\\outputs\\test\\images\\National_Stadium_044_png.rf.6ffa13641cb92a8d61d3f7637116ef68.jpg: 960x960 2 National Stadiums, 46.1ms\n",
      "Speed: 5.2ms preprocess, 46.1ms inference, 2.0ms postprocess per image at shape (1, 3, 960, 960)\n",
      "\n",
      "image 1/1 c:\\Users\\beung-yoga\\Documents\\GitHub4\\cv-project-stuctured\\data\\outputs\\test\\images\\National_Stadium_050_png.rf.523d0fd83519561b636aeea9c8385b9d.jpg: 960x960 2 National Stadiums, 30.6ms\n",
      "Speed: 4.4ms preprocess, 30.6ms inference, 2.1ms postprocess per image at shape (1, 3, 960, 960)\n",
      "\n",
      "image 1/1 c:\\Users\\beung-yoga\\Documents\\GitHub4\\cv-project-stuctured\\data\\outputs\\test\\images\\National_Stadium_054_png.rf.0382fb6cbc58394ae3f51ed4842df443.jpg: 960x960 1 National Stadium, 27.7ms\n",
      "Speed: 4.5ms preprocess, 27.7ms inference, 3.5ms postprocess per image at shape (1, 3, 960, 960)\n",
      "\n",
      "image 1/1 c:\\Users\\beung-yoga\\Documents\\GitHub4\\cv-project-stuctured\\data\\outputs\\test\\images\\National_Stadium_074_png.rf.ddc77339861afca7b66cbbc2a79b670c.jpg: 960x960 1 National Stadium, 43.2ms\n",
      "Speed: 4.5ms preprocess, 43.2ms inference, 2.1ms postprocess per image at shape (1, 3, 960, 960)\n",
      "\n",
      "image 1/1 c:\\Users\\beung-yoga\\Documents\\GitHub4\\cv-project-stuctured\\data\\outputs\\test\\images\\National_Stadium_081_png.rf.5bd890155d7ac5e5af751ecc796d66d4.jpg: 960x960 2 National Stadiums, 31.8ms\n",
      "Speed: 4.5ms preprocess, 31.8ms inference, 1.8ms postprocess per image at shape (1, 3, 960, 960)\n",
      "\n",
      "image 1/1 c:\\Users\\beung-yoga\\Documents\\GitHub4\\cv-project-stuctured\\data\\outputs\\test\\images\\National_Stadium_104_png.rf.bf94419eeb01c7011523ba4f862edd98.jpg: 960x960 2 National Stadiums, 1 Sala Daeng, 28.7ms\n",
      "Speed: 4.5ms preprocess, 28.7ms inference, 1.8ms postprocess per image at shape (1, 3, 960, 960)\n",
      "\n",
      "image 1/1 c:\\Users\\beung-yoga\\Documents\\GitHub4\\cv-project-stuctured\\data\\outputs\\test\\images\\National_Stadium_106_png.rf.2eedba42adf23a1dc922602a20c53fc2.jpg: 960x960 1 National Stadium, 27.4ms\n",
      "Speed: 5.1ms preprocess, 27.4ms inference, 2.2ms postprocess per image at shape (1, 3, 960, 960)\n",
      "\n",
      "image 1/1 c:\\Users\\beung-yoga\\Documents\\GitHub4\\cv-project-stuctured\\data\\outputs\\test\\images\\National_Stadium_132_png.rf.0337a11fb950efa52f86c4cd386b00bc.jpg: 960x960 1 National Stadium, 28.1ms\n",
      "Speed: 5.0ms preprocess, 28.1ms inference, 1.7ms postprocess per image at shape (1, 3, 960, 960)\n",
      "\n",
      "image 1/1 c:\\Users\\beung-yoga\\Documents\\GitHub4\\cv-project-stuctured\\data\\outputs\\test\\images\\National_Stadium_133_png.rf.5f153276eeb69cfa459ce52514fa732c.jpg: 960x960 1 National Stadium, 34.8ms\n",
      "Speed: 4.4ms preprocess, 34.8ms inference, 1.6ms postprocess per image at shape (1, 3, 960, 960)\n",
      "\n",
      "image 1/1 c:\\Users\\beung-yoga\\Documents\\GitHub4\\cv-project-stuctured\\data\\outputs\\test\\images\\National_Stadium_134_png.rf.1f52e68667ee72fefce77c65cea756d6.jpg: 960x960 2 National Stadiums, 2 Ratchadamris, 33.0ms\n",
      "Speed: 4.2ms preprocess, 33.0ms inference, 3.7ms postprocess per image at shape (1, 3, 960, 960)\n",
      "\n",
      "image 1/1 c:\\Users\\beung-yoga\\Documents\\GitHub4\\cv-project-stuctured\\data\\outputs\\test\\images\\Ratchadamri_002_png.rf.29306c6b372b15d4eb1c0dda4b60c8fa.jpg: 960x960 2 Ratchadamris, 27.5ms\n",
      "Speed: 4.6ms preprocess, 27.5ms inference, 1.7ms postprocess per image at shape (1, 3, 960, 960)\n",
      "\n",
      "image 1/1 c:\\Users\\beung-yoga\\Documents\\GitHub4\\cv-project-stuctured\\data\\outputs\\test\\images\\Ratchadamri_003_png.rf.9d3b51ab55d5f2674d93003717a92d8e.jpg: 960x960 2 Ratchadamris, 1 Surasak, 31.6ms\n",
      "Speed: 4.2ms preprocess, 31.6ms inference, 3.5ms postprocess per image at shape (1, 3, 960, 960)\n",
      "\n",
      "image 1/1 c:\\Users\\beung-yoga\\Documents\\GitHub4\\cv-project-stuctured\\data\\outputs\\test\\images\\Ratchadamri_012_png.rf.69de08973e7e381e7aa4b70f818b9a23.jpg: 960x960 2 Ratchadamris, 30.9ms\n",
      "Speed: 4.8ms preprocess, 30.9ms inference, 2.4ms postprocess per image at shape (1, 3, 960, 960)\n",
      "\n",
      "image 1/1 c:\\Users\\beung-yoga\\Documents\\GitHub4\\cv-project-stuctured\\data\\outputs\\test\\images\\Ratchadamri_040_png.rf.3f64191d4a19a2899d62a1be172440de.jpg: 960x960 2 National Stadiums, 2 Ratchadamris, 27.7ms\n",
      "Speed: 4.4ms preprocess, 27.7ms inference, 1.6ms postprocess per image at shape (1, 3, 960, 960)\n",
      "\n",
      "image 1/1 c:\\Users\\beung-yoga\\Documents\\GitHub4\\cv-project-stuctured\\data\\outputs\\test\\images\\Ratchadamri_053_png.rf.d7841506ff513e86b5cd5c74cbcaffd7.jpg: 960x960 2 Ratchadamris, 35.3ms\n",
      "Speed: 4.2ms preprocess, 35.3ms inference, 2.1ms postprocess per image at shape (1, 3, 960, 960)\n",
      "\n",
      "image 1/1 c:\\Users\\beung-yoga\\Documents\\GitHub4\\cv-project-stuctured\\data\\outputs\\test\\images\\Ratchadamri_057_png.rf.6dd22d2a07a2dbbd43edc6e8497b3dda.jpg: 960x960 1 Chong Nonsi, 2 Ratchadamris, 1 Surasak, 31.2ms\n",
      "Speed: 4.3ms preprocess, 31.2ms inference, 3.8ms postprocess per image at shape (1, 3, 960, 960)\n",
      "\n",
      "image 1/1 c:\\Users\\beung-yoga\\Documents\\GitHub4\\cv-project-stuctured\\data\\outputs\\test\\images\\Ratchadamri_059_png.rf.0f4489d47d1186508119a7ae38a7d82d.jpg: 960x960 2 Ratchadamris, 27.6ms\n",
      "Speed: 4.5ms preprocess, 27.6ms inference, 1.8ms postprocess per image at shape (1, 3, 960, 960)\n",
      "\n",
      "image 1/1 c:\\Users\\beung-yoga\\Documents\\GitHub4\\cv-project-stuctured\\data\\outputs\\test\\images\\Ratchadamri_060_png.rf.5d001557c7b02d31c85e714c00e0afbb.jpg: 960x960 1 Ratchadamri, 28.3ms\n",
      "Speed: 4.2ms preprocess, 28.3ms inference, 3.6ms postprocess per image at shape (1, 3, 960, 960)\n",
      "\n",
      "image 1/1 c:\\Users\\beung-yoga\\Documents\\GitHub4\\cv-project-stuctured\\data\\outputs\\test\\images\\Ratchadamri_082_png.rf.568ce09656b6ba37b5e1a2769e4b50d3.jpg: 960x960 1 Ratchadamri, 26.8ms\n",
      "Speed: 4.9ms preprocess, 26.8ms inference, 1.8ms postprocess per image at shape (1, 3, 960, 960)\n",
      "\n",
      "image 1/1 c:\\Users\\beung-yoga\\Documents\\GitHub4\\cv-project-stuctured\\data\\outputs\\test\\images\\Ratchadamri_097_png.rf.538d5c5ff6fef3a93d02b445620c4911.jpg: 960x960 2 Chong Nonsis, 2 Ratchadamris, 2 Surasaks, 26.4ms\n",
      "Speed: 4.5ms preprocess, 26.4ms inference, 3.2ms postprocess per image at shape (1, 3, 960, 960)\n",
      "\n",
      "image 1/1 c:\\Users\\beung-yoga\\Documents\\GitHub4\\cv-project-stuctured\\data\\outputs\\test\\images\\Saint_Louis_014_png.rf.675210ec5c7e63f294f04234c94b3589.jpg: 960x960 1 Saint Louis, 33.2ms\n",
      "Speed: 4.3ms preprocess, 33.2ms inference, 2.3ms postprocess per image at shape (1, 3, 960, 960)\n",
      "\n",
      "image 1/1 c:\\Users\\beung-yoga\\Documents\\GitHub4\\cv-project-stuctured\\data\\outputs\\test\\images\\Saint_Louis_021_png.rf.7b80733ebc6f205e49ef6134aeedc429.jpg: 960x960 2 Saint Louiss, 29.5ms\n",
      "Speed: 4.1ms preprocess, 29.5ms inference, 3.7ms postprocess per image at shape (1, 3, 960, 960)\n",
      "\n",
      "image 1/1 c:\\Users\\beung-yoga\\Documents\\GitHub4\\cv-project-stuctured\\data\\outputs\\test\\images\\Saint_Louis_035_png.rf.c1ea429191ffe40d1dce764a7832e751.jpg: 960x960 2 Saint Louiss, 30.9ms\n",
      "Speed: 4.3ms preprocess, 30.9ms inference, 3.6ms postprocess per image at shape (1, 3, 960, 960)\n",
      "\n",
      "image 1/1 c:\\Users\\beung-yoga\\Documents\\GitHub4\\cv-project-stuctured\\data\\outputs\\test\\images\\Saint_Louis_043_png.rf.242f89a06e7deac3df637b4a1e3ab3e3.jpg: 960x960 1 Saint Louis, 27.8ms\n",
      "Speed: 4.3ms preprocess, 27.8ms inference, 1.8ms postprocess per image at shape (1, 3, 960, 960)\n",
      "\n",
      "image 1/1 c:\\Users\\beung-yoga\\Documents\\GitHub4\\cv-project-stuctured\\data\\outputs\\test\\images\\Saint_Louis_063_png.rf.d2eaffa29c87977a84a17fce8eddf048.jpg: 960x960 2 Chong Nonsis, 2 Saint Louiss, 25.0ms\n",
      "Speed: 4.6ms preprocess, 25.0ms inference, 1.7ms postprocess per image at shape (1, 3, 960, 960)\n",
      "\n",
      "image 1/1 c:\\Users\\beung-yoga\\Documents\\GitHub4\\cv-project-stuctured\\data\\outputs\\test\\images\\Saint_Louis_070_png.rf.14f1648f1570c91267ccba5706fcf00f.jpg: 960x960 1 Saint Louis, 27.1ms\n",
      "Speed: 4.4ms preprocess, 27.1ms inference, 1.7ms postprocess per image at shape (1, 3, 960, 960)\n",
      "\n",
      "image 1/1 c:\\Users\\beung-yoga\\Documents\\GitHub4\\cv-project-stuctured\\data\\outputs\\test\\images\\Saint_Louis_073_png.rf.949b96626cc04ed8613f288fafa8c8f6.jpg: 960x960 2 Saint Louiss, 26.3ms\n",
      "Speed: 5.7ms preprocess, 26.3ms inference, 1.6ms postprocess per image at shape (1, 3, 960, 960)\n",
      "\n",
      "image 1/1 c:\\Users\\beung-yoga\\Documents\\GitHub4\\cv-project-stuctured\\data\\outputs\\test\\images\\Sala_Daeng_008_png.rf.43be9a736df6484825207f678f855b75.jpg: 960x960 1 Chong Nonsi, 1 Saint Louis, 1 Sala Daeng, 29.3ms\n",
      "Speed: 5.2ms preprocess, 29.3ms inference, 1.8ms postprocess per image at shape (1, 3, 960, 960)\n",
      "\n",
      "image 1/1 c:\\Users\\beung-yoga\\Documents\\GitHub4\\cv-project-stuctured\\data\\outputs\\test\\images\\Sala_Daeng_013_png.rf.2c260bdea3dadb0ae543e8b0497b2455.jpg: 960x960 2 Sala Daengs, 32.6ms\n",
      "Speed: 4.8ms preprocess, 32.6ms inference, 1.8ms postprocess per image at shape (1, 3, 960, 960)\n",
      "\n",
      "image 1/1 c:\\Users\\beung-yoga\\Documents\\GitHub4\\cv-project-stuctured\\data\\outputs\\test\\images\\Sala_Daeng_020_png.rf.0810cb9a84a485607f1087cbb8cd0fef.jpg: 960x960 2 Sala Daengs, 29.7ms\n",
      "Speed: 4.4ms preprocess, 29.7ms inference, 1.9ms postprocess per image at shape (1, 3, 960, 960)\n",
      "\n",
      "image 1/1 c:\\Users\\beung-yoga\\Documents\\GitHub4\\cv-project-stuctured\\data\\outputs\\test\\images\\Sala_Daeng_026_png.rf.93011014545ba966f5edd19550a61b02.jpg: 960x960 1 Sala Daeng, 25.8ms\n",
      "Speed: 4.6ms preprocess, 25.8ms inference, 1.8ms postprocess per image at shape (1, 3, 960, 960)\n",
      "\n",
      "image 1/1 c:\\Users\\beung-yoga\\Documents\\GitHub4\\cv-project-stuctured\\data\\outputs\\test\\images\\Sala_Daeng_037_jpg.rf.930677f4259b6feec106eb552af1d760.jpg: 960x960 1 Chong Nonsi, 1 Sala Daeng, 26.8ms\n",
      "Speed: 4.2ms preprocess, 26.8ms inference, 1.6ms postprocess per image at shape (1, 3, 960, 960)\n",
      "\n",
      "image 1/1 c:\\Users\\beung-yoga\\Documents\\GitHub4\\cv-project-stuctured\\data\\outputs\\test\\images\\Sala_Daeng_040_jpg.rf.95a44e18e98d97e3c3144d6245cd1587.jpg: 960x960 1 Sala Daeng, 27.0ms\n",
      "Speed: 5.3ms preprocess, 27.0ms inference, 1.9ms postprocess per image at shape (1, 3, 960, 960)\n",
      "\n",
      "image 1/1 c:\\Users\\beung-yoga\\Documents\\GitHub4\\cv-project-stuctured\\data\\outputs\\test\\images\\Sala_Daeng_044_jpg.rf.a3ce3628cac46d2574a5cbbf8cce9078.jpg: 960x960 2 Sala Daengs, 29.1ms\n",
      "Speed: 4.1ms preprocess, 29.1ms inference, 1.8ms postprocess per image at shape (1, 3, 960, 960)\n",
      "\n",
      "image 1/1 c:\\Users\\beung-yoga\\Documents\\GitHub4\\cv-project-stuctured\\data\\outputs\\test\\images\\Sala_Daeng_051_jpg.rf.1bb1cfcb5e2a2c096fd4feeca4d89492.jpg: 960x960 1 National Stadium, 26.8ms\n",
      "Speed: 4.4ms preprocess, 26.8ms inference, 1.8ms postprocess per image at shape (1, 3, 960, 960)\n",
      "\n",
      "image 1/1 c:\\Users\\beung-yoga\\Documents\\GitHub4\\cv-project-stuctured\\data\\outputs\\test\\images\\Sala_Daeng_058_png.rf.e0a6cf164b89f03fc599d3ef11655419.jpg: 960x960 2 Sala Daengs, 27.9ms\n",
      "Speed: 4.4ms preprocess, 27.9ms inference, 1.7ms postprocess per image at shape (1, 3, 960, 960)\n",
      "\n",
      "image 1/1 c:\\Users\\beung-yoga\\Documents\\GitHub4\\cv-project-stuctured\\data\\outputs\\test\\images\\Sala_Daeng_061_png.rf.a6451346dcd9d35f4f9b11a95e399182.jpg: 960x960 1 Sala Daeng, 34.3ms\n",
      "Speed: 4.3ms preprocess, 34.3ms inference, 2.1ms postprocess per image at shape (1, 3, 960, 960)\n",
      "\n",
      "image 1/1 c:\\Users\\beung-yoga\\Documents\\GitHub4\\cv-project-stuctured\\data\\outputs\\test\\images\\Sala_Daeng_066_png.rf.08af4f59d4fa2b005883009d519aa0c1.jpg: 960x960 2 Sala Daengs, 26.0ms\n",
      "Speed: 4.5ms preprocess, 26.0ms inference, 2.0ms postprocess per image at shape (1, 3, 960, 960)\n",
      "\n",
      "image 1/1 c:\\Users\\beung-yoga\\Documents\\GitHub4\\cv-project-stuctured\\data\\outputs\\test\\images\\Sala_Daeng_100_png.rf.47a0a43e88f43c1efc920e354dc833b3.jpg: 960x960 (no detections), 26.9ms\n",
      "Speed: 4.7ms preprocess, 26.9ms inference, 0.8ms postprocess per image at shape (1, 3, 960, 960)\n",
      "\n",
      "image 1/1 c:\\Users\\beung-yoga\\Documents\\GitHub4\\cv-project-stuctured\\data\\outputs\\test\\images\\Sala_Daeng_105_png.rf.19eb9930a2e181ec5d7102b561853aae.jpg: 960x960 1 Sala Daeng, 31.7ms\n",
      "Speed: 4.2ms preprocess, 31.7ms inference, 1.8ms postprocess per image at shape (1, 3, 960, 960)\n",
      "\n",
      "image 1/1 c:\\Users\\beung-yoga\\Documents\\GitHub4\\cv-project-stuctured\\data\\outputs\\test\\images\\Sala_Daeng_136_png.rf.8256da48e6c4c99982762d755f36c9b7.jpg: 960x960 2 Sala Daengs, 27.4ms\n",
      "Speed: 4.9ms preprocess, 27.4ms inference, 2.2ms postprocess per image at shape (1, 3, 960, 960)\n",
      "\n",
      "image 1/1 c:\\Users\\beung-yoga\\Documents\\GitHub4\\cv-project-stuctured\\data\\outputs\\test\\images\\Sala_Daeng_138_png.rf.367f73b913da7010fe7c68de9bde8c16.jpg: 960x960 3 Sala Daengs, 30.3ms\n",
      "Speed: 4.7ms preprocess, 30.3ms inference, 1.8ms postprocess per image at shape (1, 3, 960, 960)\n",
      "\n",
      "image 1/1 c:\\Users\\beung-yoga\\Documents\\GitHub4\\cv-project-stuctured\\data\\outputs\\test\\images\\Saphan_Taksin_008_png.rf.fb4960c1ae95d9d3bcc4a9172eaa5e44.jpg: 960x960 1 Saphan Taksin, 29.1ms\n",
      "Speed: 4.1ms preprocess, 29.1ms inference, 1.9ms postprocess per image at shape (1, 3, 960, 960)\n",
      "\n",
      "image 1/1 c:\\Users\\beung-yoga\\Documents\\GitHub4\\cv-project-stuctured\\data\\outputs\\test\\images\\Saphan_Taksin_012_png.rf.0a08831b6a09610fcb563429e55dc8f3.jpg: 960x960 2 Saphan Taksins, 32.2ms\n",
      "Speed: 5.3ms preprocess, 32.2ms inference, 1.8ms postprocess per image at shape (1, 3, 960, 960)\n",
      "\n",
      "image 1/1 c:\\Users\\beung-yoga\\Documents\\GitHub4\\cv-project-stuctured\\data\\outputs\\test\\images\\Saphan_Taksin_027_png.rf.1835abb766a53626657d584b06cc13f0.jpg: 960x960 (no detections), 26.1ms\n",
      "Speed: 4.3ms preprocess, 26.1ms inference, 0.9ms postprocess per image at shape (1, 3, 960, 960)\n",
      "\n",
      "image 1/1 c:\\Users\\beung-yoga\\Documents\\GitHub4\\cv-project-stuctured\\data\\outputs\\test\\images\\Saphan_Taksin_035_png.rf.a1cda5831350917743667ffac020eed5.jpg: 960x960 2 Saphan Taksins, 27.5ms\n",
      "Speed: 4.4ms preprocess, 27.5ms inference, 1.7ms postprocess per image at shape (1, 3, 960, 960)\n",
      "\n",
      "image 1/1 c:\\Users\\beung-yoga\\Documents\\GitHub4\\cv-project-stuctured\\data\\outputs\\test\\images\\Saphan_Taksin_036_png.rf.1be47567d2c64b4b0caa00619d6c3b6f.jpg: 960x960 (no detections), 29.0ms\n",
      "Speed: 4.3ms preprocess, 29.0ms inference, 1.2ms postprocess per image at shape (1, 3, 960, 960)\n",
      "\n",
      "image 1/1 c:\\Users\\beung-yoga\\Documents\\GitHub4\\cv-project-stuctured\\data\\outputs\\test\\images\\Saphan_Taksin_047_png.rf.5214226222109671e0c8ad5cd554e9d2.jpg: 960x960 1 Saphan Taksin, 28.3ms\n",
      "Speed: 4.3ms preprocess, 28.3ms inference, 1.8ms postprocess per image at shape (1, 3, 960, 960)\n",
      "\n",
      "image 1/1 c:\\Users\\beung-yoga\\Documents\\GitHub4\\cv-project-stuctured\\data\\outputs\\test\\images\\Saphan_Taksin_075_png.rf.9ce18584d7d0560ba1d95a31e087c6be.jpg: 960x960 (no detections), 30.7ms\n",
      "Speed: 4.3ms preprocess, 30.7ms inference, 0.8ms postprocess per image at shape (1, 3, 960, 960)\n",
      "\n",
      "image 1/1 c:\\Users\\beung-yoga\\Documents\\GitHub4\\cv-project-stuctured\\data\\outputs\\test\\images\\Saphan_Taksin_082_png.rf.292f61366b20fde78104bd74a0f4d85b.jpg: 960x960 1 Saphan Taksin, 29.9ms\n",
      "Speed: 4.6ms preprocess, 29.9ms inference, 1.8ms postprocess per image at shape (1, 3, 960, 960)\n",
      "\n",
      "image 1/1 c:\\Users\\beung-yoga\\Documents\\GitHub4\\cv-project-stuctured\\data\\outputs\\test\\images\\Saphan_Taksin_091_png.rf.7972ad5c664b1b5940db1c8629cc01ef.jpg: 960x960 1 Saphan Taksin, 27.1ms\n",
      "Speed: 4.5ms preprocess, 27.1ms inference, 1.9ms postprocess per image at shape (1, 3, 960, 960)\n",
      "\n",
      "image 1/1 c:\\Users\\beung-yoga\\Documents\\GitHub4\\cv-project-stuctured\\data\\outputs\\test\\images\\Saphan_Taksin_094_png.rf.6a41e8283160b1f91efb5a4c28c3502d.jpg: 960x960 1 Saphan Taksin, 27.9ms\n",
      "Speed: 4.3ms preprocess, 27.9ms inference, 1.8ms postprocess per image at shape (1, 3, 960, 960)\n",
      "\n",
      "image 1/1 c:\\Users\\beung-yoga\\Documents\\GitHub4\\cv-project-stuctured\\data\\outputs\\test\\images\\Saphan_Taksin_096_png.rf.c31486013028874553b5d85ff654fdfc.jpg: 960x960 2 Saphan Taksins, 28.7ms\n",
      "Speed: 4.5ms preprocess, 28.7ms inference, 1.9ms postprocess per image at shape (1, 3, 960, 960)\n",
      "\n",
      "image 1/1 c:\\Users\\beung-yoga\\Documents\\GitHub4\\cv-project-stuctured\\data\\outputs\\test\\images\\Saphan_Taksin_116_png.rf.0b7308e7ac1116464aba9004f479707f.jpg: 960x960 1 Saphan Taksin, 28.6ms\n",
      "Speed: 4.2ms preprocess, 28.6ms inference, 2.5ms postprocess per image at shape (1, 3, 960, 960)\n",
      "\n",
      "image 1/1 c:\\Users\\beung-yoga\\Documents\\GitHub4\\cv-project-stuctured\\data\\outputs\\test\\images\\Saphan_Taksin_130_png.rf.6772da47c263a73a60bcfc69146bde3d.jpg: 960x960 2 Ratchadamris, 2 Sala Daengs, 48.7ms\n",
      "Speed: 5.1ms preprocess, 48.7ms inference, 3.3ms postprocess per image at shape (1, 3, 960, 960)\n",
      "\n",
      "image 1/1 c:\\Users\\beung-yoga\\Documents\\GitHub4\\cv-project-stuctured\\data\\outputs\\test\\images\\Saphan_Taksin_131_png.rf.0efd9a6eed2de6ccb15e54783a0c81da.jpg: 960x960 2 Saphan Taksins, 43.3ms\n",
      "Speed: 5.9ms preprocess, 43.3ms inference, 1.9ms postprocess per image at shape (1, 3, 960, 960)\n",
      "\n",
      "image 1/1 c:\\Users\\beung-yoga\\Documents\\GitHub4\\cv-project-stuctured\\data\\outputs\\test\\images\\Siam_001_png.rf.ea48fca9fc87c689e62db2f87c4e9df4.jpg: 960x960 2 Siams, 29.0ms\n",
      "Speed: 5.2ms preprocess, 29.0ms inference, 1.9ms postprocess per image at shape (1, 3, 960, 960)\n",
      "\n",
      "image 1/1 c:\\Users\\beung-yoga\\Documents\\GitHub4\\cv-project-stuctured\\data\\outputs\\test\\images\\Siam_014_png.rf.ae532cd934c81e2e7527575acdcdd543.jpg: 960x960 2 Siams, 29.1ms\n",
      "Speed: 4.3ms preprocess, 29.1ms inference, 2.2ms postprocess per image at shape (1, 3, 960, 960)\n",
      "\n",
      "image 1/1 c:\\Users\\beung-yoga\\Documents\\GitHub4\\cv-project-stuctured\\data\\outputs\\test\\images\\Siam_020_png.rf.f36c24d5cd11e43432fc95b249e5ee62.jpg: 960x960 2 Siams, 25.1ms\n",
      "Speed: 4.3ms preprocess, 25.1ms inference, 2.0ms postprocess per image at shape (1, 3, 960, 960)\n",
      "\n",
      "image 1/1 c:\\Users\\beung-yoga\\Documents\\GitHub4\\cv-project-stuctured\\data\\outputs\\test\\images\\Siam_045_png.rf.e5936105e69a19fc8a6a47b48733fdf3.jpg: 960x960 1 Siam, 29.8ms\n",
      "Speed: 4.1ms preprocess, 29.8ms inference, 1.7ms postprocess per image at shape (1, 3, 960, 960)\n",
      "\n",
      "image 1/1 c:\\Users\\beung-yoga\\Documents\\GitHub4\\cv-project-stuctured\\data\\outputs\\test\\images\\Siam_048_png.rf.818f3b65182aa3cb853a41d42850d4c0.jpg: 960x960 1 Sala Daeng, 1 Saphan Taksin, 2 Siams, 32.5ms\n",
      "Speed: 5.0ms preprocess, 32.5ms inference, 2.1ms postprocess per image at shape (1, 3, 960, 960)\n",
      "\n",
      "image 1/1 c:\\Users\\beung-yoga\\Documents\\GitHub4\\cv-project-stuctured\\data\\outputs\\test\\images\\Siam_050_png.rf.f72d563ff3d0b060c0c33ece5bfcef3a.jpg: 960x960 2 Siams, 27.7ms\n",
      "Speed: 4.5ms preprocess, 27.7ms inference, 1.7ms postprocess per image at shape (1, 3, 960, 960)\n",
      "\n",
      "image 1/1 c:\\Users\\beung-yoga\\Documents\\GitHub4\\cv-project-stuctured\\data\\outputs\\test\\images\\Siam_057_png.rf.2de24e4b82d7baabef7861eef1a6f1b2.jpg: 960x960 3 Siams, 26.2ms\n",
      "Speed: 4.0ms preprocess, 26.2ms inference, 1.7ms postprocess per image at shape (1, 3, 960, 960)\n",
      "\n",
      "image 1/1 c:\\Users\\beung-yoga\\Documents\\GitHub4\\cv-project-stuctured\\data\\outputs\\test\\images\\Siam_059_png.rf.f76b1630ab0930ffb1895f6f8aa663ab.jpg: 960x960 2 Siams, 24.7ms\n",
      "Speed: 4.5ms preprocess, 24.7ms inference, 1.6ms postprocess per image at shape (1, 3, 960, 960)\n",
      "\n",
      "image 1/1 c:\\Users\\beung-yoga\\Documents\\GitHub4\\cv-project-stuctured\\data\\outputs\\test\\images\\Siam_062_png.rf.adb208d532f3cd005d8700db515106da.jpg: 960x960 1 Siam, 31.3ms\n",
      "Speed: 4.2ms preprocess, 31.3ms inference, 1.7ms postprocess per image at shape (1, 3, 960, 960)\n",
      "\n",
      "image 1/1 c:\\Users\\beung-yoga\\Documents\\GitHub4\\cv-project-stuctured\\data\\outputs\\test\\images\\Siam_081_png.rf.a3e0971d2509244325ae68cc7f03419f.jpg: 960x960 2 Siams, 27.4ms\n",
      "Speed: 4.8ms preprocess, 27.4ms inference, 1.7ms postprocess per image at shape (1, 3, 960, 960)\n",
      "\n",
      "image 1/1 c:\\Users\\beung-yoga\\Documents\\GitHub4\\cv-project-stuctured\\data\\outputs\\test\\images\\Siam_114_png.rf.65849b59d3ff21514d42ed53b3acb42d.jpg: 960x960 2 Siams, 24.4ms\n",
      "Speed: 4.0ms preprocess, 24.4ms inference, 1.6ms postprocess per image at shape (1, 3, 960, 960)\n",
      "\n",
      "image 1/1 c:\\Users\\beung-yoga\\Documents\\GitHub4\\cv-project-stuctured\\data\\outputs\\test\\images\\Siam_118_png.rf.2fdd62bc1ad99e00fa9963415e63f769.jpg: 960x960 2 Siams, 25.4ms\n",
      "Speed: 4.8ms preprocess, 25.4ms inference, 1.6ms postprocess per image at shape (1, 3, 960, 960)\n",
      "\n",
      "image 1/1 c:\\Users\\beung-yoga\\Documents\\GitHub4\\cv-project-stuctured\\data\\outputs\\test\\images\\Siam_119_png.rf.d298512786615e060d38bf5e177ab6b7.jpg: 960x960 2 Chong Nonsis, 22.6ms\n",
      "Speed: 4.3ms preprocess, 22.6ms inference, 1.8ms postprocess per image at shape (1, 3, 960, 960)\n",
      "\n",
      "image 1/1 c:\\Users\\beung-yoga\\Documents\\GitHub4\\cv-project-stuctured\\data\\outputs\\test\\images\\Siam_135_png.rf.f326464bbd5c240a0ef9bd7636895750.jpg: 960x960 1 Siam, 26.7ms\n",
      "Speed: 4.0ms preprocess, 26.7ms inference, 1.5ms postprocess per image at shape (1, 3, 960, 960)\n",
      "\n",
      "image 1/1 c:\\Users\\beung-yoga\\Documents\\GitHub4\\cv-project-stuctured\\data\\outputs\\test\\images\\Siam_139_png.rf.a9f43ec7b99e2cc75b449fe1a382d32b.jpg: 960x960 4 Siams, 25.4ms\n",
      "Speed: 4.7ms preprocess, 25.4ms inference, 2.1ms postprocess per image at shape (1, 3, 960, 960)\n",
      "\n",
      "image 1/1 c:\\Users\\beung-yoga\\Documents\\GitHub4\\cv-project-stuctured\\data\\outputs\\test\\images\\Surasak_004_png.rf.b8069800ba191dd433258309585e05b4.jpg: 960x960 2 Ratchadamris, 4 Surasaks, 23.8ms\n",
      "Speed: 4.0ms preprocess, 23.8ms inference, 1.5ms postprocess per image at shape (1, 3, 960, 960)\n",
      "\n",
      "image 1/1 c:\\Users\\beung-yoga\\Documents\\GitHub4\\cv-project-stuctured\\data\\outputs\\test\\images\\Surasak_005_png.rf.da17e77b6a270fb6c8cdfe230db0babf.jpg: 960x960 1 Surasak, 27.1ms\n",
      "Speed: 4.7ms preprocess, 27.1ms inference, 1.6ms postprocess per image at shape (1, 3, 960, 960)\n",
      "\n",
      "image 1/1 c:\\Users\\beung-yoga\\Documents\\GitHub4\\cv-project-stuctured\\data\\outputs\\test\\images\\Surasak_010_png.rf.b4be301a286627be0f544bcae5789ecd.jpg: 960x960 1 Ratchadamri, 1 Surasak, 23.5ms\n",
      "Speed: 4.1ms preprocess, 23.5ms inference, 1.5ms postprocess per image at shape (1, 3, 960, 960)\n",
      "\n",
      "image 1/1 c:\\Users\\beung-yoga\\Documents\\GitHub4\\cv-project-stuctured\\data\\outputs\\test\\images\\Surasak_030_png.rf.a7b1316ffa2a8bb8beafe2d023cdd281.jpg: 960x960 1 Surasak, 27.5ms\n",
      "Speed: 4.1ms preprocess, 27.5ms inference, 2.0ms postprocess per image at shape (1, 3, 960, 960)\n",
      "\n",
      "image 1/1 c:\\Users\\beung-yoga\\Documents\\GitHub4\\cv-project-stuctured\\data\\outputs\\test\\images\\Surasak_031_png.rf.0ca0bec1210622f90571f03f14e093a4.jpg: 960x960 1 Surasak, 25.4ms\n",
      "Speed: 4.2ms preprocess, 25.4ms inference, 2.1ms postprocess per image at shape (1, 3, 960, 960)\n",
      "\n",
      "image 1/1 c:\\Users\\beung-yoga\\Documents\\GitHub4\\cv-project-stuctured\\data\\outputs\\test\\images\\Surasak_039_png.rf.d3f1d6d3b54ffdf8f7de304d28ebd238.jpg: 960x960 2 Ratchadamris, 2 Surasaks, 37.6ms\n",
      "Speed: 4.1ms preprocess, 37.6ms inference, 1.6ms postprocess per image at shape (1, 3, 960, 960)\n",
      "\n",
      "image 1/1 c:\\Users\\beung-yoga\\Documents\\GitHub4\\cv-project-stuctured\\data\\outputs\\test\\images\\Surasak_052_png.rf.0751f44a2e32c9183e28a1f403ff1f12.jpg: 960x960 2 Surasaks, 25.6ms\n",
      "Speed: 4.2ms preprocess, 25.6ms inference, 1.5ms postprocess per image at shape (1, 3, 960, 960)\n",
      "\n",
      "image 1/1 c:\\Users\\beung-yoga\\Documents\\GitHub4\\cv-project-stuctured\\data\\outputs\\test\\images\\Surasak_057_png.rf.29566f66b1844703a3c5e82161804d54.jpg: 960x960 1 Ratchadamri, 1 Surasak, 27.5ms\n",
      "Speed: 3.8ms preprocess, 27.5ms inference, 1.7ms postprocess per image at shape (1, 3, 960, 960)\n",
      "\n",
      "Test Accuracy: 0.731884\n",
      "Classification Report:\n",
      "               precision    recall  f1-score   support\n",
      "\n",
      "          -1       0.00      0.00      0.00         0\n",
      "           0       0.58      0.88      0.70         8\n",
      "           1       0.86      0.90      0.88        21\n",
      "           2       0.67      0.74      0.70        19\n",
      "           3       0.73      0.67      0.70        12\n",
      "           4       0.89      0.74      0.81        23\n",
      "           5       0.73      0.55      0.63        20\n",
      "           6       0.83      0.73      0.78        26\n",
      "           7       0.55      0.67      0.60         9\n",
      "\n",
      "    accuracy                           0.73       138\n",
      "   macro avg       0.65      0.65      0.64       138\n",
      "weighted avg       0.77      0.73      0.74       138\n",
      "\n",
      "Confusion Matrix:\n",
      " [[ 0  0  0  0  0  0  0  0  0]\n",
      " [ 0  7  0  0  1  0  0  0  0]\n",
      " [ 0  0 19  2  0  0  0  0  0]\n",
      " [ 0  1  2 14  2  0  0  0  0]\n",
      " [ 0  2  0  0  8  2  0  0  0]\n",
      " [ 1  1  1  0  0 17  3  0  0]\n",
      " [ 3  0  0  2  0  0 11  4  0]\n",
      " [ 0  1  0  0  0  0  1 19  5]\n",
      " [ 0  0  0  3  0  0  0  0  6]]\n"
     ]
    },
    {
     "name": "stderr",
     "output_type": "stream",
     "text": [
      "c:\\Users\\beung-yoga\\Documents\\GitHub4\\.venv\\lib\\site-packages\\sklearn\\metrics\\_classification.py:1318: UndefinedMetricWarning: Recall and F-score are ill-defined and being set to 0.0 in labels with no true samples. Use `zero_division` parameter to control this behavior.\n",
      "  _warn_prf(average, modifier, msg_start, len(result))\n",
      "c:\\Users\\beung-yoga\\Documents\\GitHub4\\.venv\\lib\\site-packages\\sklearn\\metrics\\_classification.py:1318: UndefinedMetricWarning: Recall and F-score are ill-defined and being set to 0.0 in labels with no true samples. Use `zero_division` parameter to control this behavior.\n",
      "  _warn_prf(average, modifier, msg_start, len(result))\n",
      "c:\\Users\\beung-yoga\\Documents\\GitHub4\\.venv\\lib\\site-packages\\sklearn\\metrics\\_classification.py:1318: UndefinedMetricWarning: Recall and F-score are ill-defined and being set to 0.0 in labels with no true samples. Use `zero_division` parameter to control this behavior.\n",
      "  _warn_prf(average, modifier, msg_start, len(result))\n"
     ]
    }
   ],
   "source": [
    "# B. Train YOLOv8 and SVC models\n",
    "\n",
    "# Step B1: Train YOLOv8 model for detecting Bangkok Metro Station Signage\n",
    "best_yolo_model, yolo_metrics = train_yolo(epochs=200, img_size=960, batchsize=16, device='cuda')"
   ]
  },
  {
   "cell_type": "code",
   "execution_count": 12,
   "id": "854266d4",
   "metadata": {},
   "outputs": [
    {
     "name": "stdout",
     "output_type": "stream",
     "text": [
      "\n",
      "0: 960x960 2 Siams, 7.2ms\n",
      "Speed: 4.9ms preprocess, 7.2ms inference, 1.7ms postprocess per image at shape (1, 3, 960, 960)\n",
      "Results saved to \u001b[1mdata\\demo_predictions\u001b[0m\n"
     ]
    },
    {
     "data": {
      "image/png": "[encoded data removed]",
      "text/plain": [
       "<Figure size 640x480 with 2 Axes>"
      ]
     },
     "metadata": {},
     "output_type": "display_data"
    },
    {
     "name": "stdout",
     "output_type": "stream",
     "text": [
      "Predicted Station Names: Siam\n"
     ]
    }
   ],
   "source": [
    "# Test the YOLOv8 model with one image from the test set\n",
    "best_yolo_model_path = os.path.join(\"models\", \"deep_learning\", \"best.pt\")\n",
    "best_yolo_model = YOLO(best_yolo_model_path)\n",
    "\n",
    "# Load the image\n",
    "input_test_image_path = os.path.join(\"data\", \"outputs\", \"test\", \"images\", \"Siam_001_png.rf.ea48fca9fc87c689e62db2f87c4e9df4.jpg\")\n",
    "input_test_img = cv2.imread(input_test_image_path)\n",
    "# Convert the image to RGB\n",
    "input_test_image = cv2.cvtColor(input_test_img, cv2.COLOR_BGR2RGB)\n",
    "\n",
    "station_names_unique, new_resulting_image_path = predict_yolo_single_image(best_yolo_model, input_test_image)\n",
    "\n",
    "# Load the image\n",
    "output_image_path = os.path.join(new_resulting_image_path)\n",
    "output_img = cv2.imread(output_image_path)\n",
    "# Convert the image to RGB\n",
    "# output_image = cv2.cvtColor(output_img, cv2.COLOR_BGR2RGB)\n",
    "\n",
    "# Display the images\n",
    "%matplotlib inline\n",
    "plt.subplot(121)\n",
    "plt.title('Input Test Image')\n",
    "plt.imshow(input_test_image)\n",
    "plt.subplot(122)\n",
    "plt.title('Reulting Image with Bounding Box')\n",
    "plt.imshow(output_img)\n",
    "plt.show()\n",
    "\n",
    "print(f\"Predicted Station Names: {station_names_unique[0]}\")"
   ]
  },
  {
   "cell_type": "code",
   "execution_count": 13,
   "id": "57fc4e91",
   "metadata": {},
   "outputs": [
    {
     "name": "stdout",
     "output_type": "stream",
     "text": [
      "Fitting 5 folds for each of 12 candidates, totalling 60 fits\n",
      "Best parameters found:  {'C': 10, 'gamma': 'auto', 'kernel': 'rbf', 'tol': 0.001}\n",
      "Best Cross-validation Accuracy: 0.568607\n",
      "Test Accuracy: 0.625899\n",
      "Classification Report:\n",
      "                   precision    recall  f1-score   support\n",
      "\n",
      "     Chong_Nonsi       0.35      0.48      0.40        48\n",
      "National_Stadium       0.66      0.60      0.63       126\n",
      "     Ratchadamri       0.68      0.67      0.67       108\n",
      "     Saint_Louis       0.71      0.48      0.58        66\n",
      "      Sala_Daeng       0.66      0.67      0.67       138\n",
      "   Saphan_Taksin       0.60      0.74      0.66       120\n",
      "            Siam       0.64      0.70      0.67       138\n",
      "         Surasak       0.66      0.46      0.54        90\n",
      "\n",
      "        accuracy                           0.63       834\n",
      "       macro avg       0.62      0.60      0.60       834\n",
      "    weighted avg       0.64      0.63      0.63       834\n",
      "\n",
      "Confusion Matrix:\n",
      " [[23  2  7  3  2 11  0  0]\n",
      " [ 4 76  0  1 16 12 16  1]\n",
      " [ 5  2 72  0 13  5  3  8]\n",
      " [ 3  9  3 32  2 11  3  3]\n",
      " [ 3 16  3  4 93  0 18  1]\n",
      " [ 5  9  4  2  6 89  4  1]\n",
      " [ 7  1  8  2  5 12 96  7]\n",
      " [16  1  9  1  4  9  9 41]]\n"
     ]
    }
   ],
   "source": [
    "# Step B2: Train SVC model for detecting Bangkok Metro Station Signage\n",
    "\n",
    "# Define the list of hyperparameter for cross validation\n",
    "param_grid = {\n",
    "    'kernel': ['rbf'],  # Type of kernel\n",
    "    'C': [0.1, 1, 10],  # Regularization parameter\n",
    "    'gamma': ['scale', 'auto'],  # Kernel coefficient for ‘rbf’, ‘poly’, and ‘sigmoid’\n",
    "    'tol': [1e-3, 1e-4]  # Tolerance for stopping criteria\n",
    "}\n",
    "\n",
    "best_svc_model, svc_cv_accuracy, svc_test_accuracy = train_svc(X_train_full_scaled, y_train_full, X_test_scaled, y_test, param_grid)"
   ]
  },
  {
   "cell_type": "code",
   "execution_count": 14,
   "id": "48b3b637",
   "metadata": {},
   "outputs": [
    {
     "data": {
      "image/png": "[encoded data removed]",
      "text/plain": [
       "<Figure size 640x480 with 1 Axes>"
      ]
     },
     "metadata": {},
     "output_type": "display_data"
    },
    {
     "name": "stdout",
     "output_type": "stream",
     "text": [
      "Predicted Station Name: National_Stadium\n"
     ]
    }
   ],
   "source": [
    "# Test the SVC model with one image from the cropped test set\n",
    "best_svc_model_path = os.path.join(\"models\", \"classical_machine_learning\", \"best_svc_model.pkl\")\n",
    "best_svc_model = joblib.load(best_svc_model_path)\n",
    "\n",
    "# Load the image\n",
    "input_test_svc_image_path = os.path.join(\"data\", \"outputs\", \"test\", \"crops\", \"National_Stadium\", \"crop_10.jpg\")\n",
    "input_test_svc_img = cv2.imread(input_test_svc_image_path)\n",
    "# Convert the image to RGB\n",
    "input_test_svc_image = cv2.cvtColor(input_test_svc_img, cv2.COLOR_BGR2RGB)\n",
    "\n",
    "station_name = predict_svc_single_image(best_svc_model, input_test_svc_image)\n",
    "\n",
    "# Display the images\n",
    "%matplotlib inline\n",
    "plt.subplot(121)\n",
    "plt.title('Input Test SVC Image')\n",
    "plt.imshow(input_test_svc_image)\n",
    "plt.show()\n",
    "\n",
    "print(f\"Predicted Station Name: {station_name}\")"
   ]
  },
  {
   "cell_type": "code",
   "execution_count": 15,
   "id": "620e69ec",
   "metadata": {},
   "outputs": [
    {
     "name": "stdout",
     "output_type": "stream",
     "text": [
      "Test Accuracy: 0.165468\n",
      "Classification Report:\n",
      "                   precision    recall  f1-score   support\n",
      "\n",
      "     Chong_Nonsi       0.00      0.00      0.00        48\n",
      "National_Stadium       0.00      0.00      0.00       126\n",
      "     Ratchadamri       0.00      0.00      0.00       108\n",
      "     Saint_Louis       0.00      0.00      0.00        66\n",
      "      Sala_Daeng       0.00      0.00      0.00       138\n",
      "   Saphan_Taksin       0.00      0.00      0.00       120\n",
      "            Siam       0.17      1.00      0.28       138\n",
      "         Surasak       0.00      0.00      0.00        90\n",
      "\n",
      "        accuracy                           0.17       834\n",
      "       macro avg       0.02      0.12      0.04       834\n",
      "    weighted avg       0.03      0.17      0.05       834\n",
      "\n",
      "Confusion Matrix:\n",
      " [[  0   0   0   0   0   0  48   0]\n",
      " [  0   0   0   0   0   0 126   0]\n",
      " [  0   0   0   0   0   0 108   0]\n",
      " [  0   0   0   0   0   0  66   0]\n",
      " [  0   0   0   0   0   0 138   0]\n",
      " [  0   0   0   0   0   0 120   0]\n",
      " [  0   0   0   0   0   0 138   0]\n",
      " [  0   0   0   0   0   0  90   0]]\n"
     ]
    }
   ],
   "source": [
    "# Step B3: Evaluate naive model with option 1 \n",
    "# Always predicts 'Siam', which has the highest ridership, according to the statistics from BTS, the metro operator.\n",
    "naive_1_accuracy = predict_naive_evaluate_test_set(1, y_train_full, y_test)"
   ]
  },
  {
   "cell_type": "code",
   "execution_count": 16,
   "id": "cad5ef92",
   "metadata": {},
   "outputs": [
    {
     "name": "stdout",
     "output_type": "stream",
     "text": [
      "Station Frequency Distribution:\n",
      "\n",
      "  Chong_Nonsi: 8.00%\n",
      "  National_Stadium: 15.32%\n",
      "  Ratchadamri: 11.45%\n",
      "  Saint_Louis: 9.01%\n",
      "  Sala_Daeng: 16.16%\n",
      "  Saphan_Taksin: 14.98%\n",
      "  Siam: 15.66%\n",
      "  Surasak: 9.43%\n",
      "\n",
      "Test Accuracy: 0.129496\n",
      "Classification Report:\n",
      "                   precision    recall  f1-score   support\n",
      "\n",
      "     Chong_Nonsi       0.08      0.10      0.09        48\n",
      "National_Stadium       0.14      0.15      0.14       126\n",
      "     Ratchadamri       0.14      0.12      0.13       108\n",
      "     Saint_Louis       0.10      0.11      0.10        66\n",
      "      Sala_Daeng       0.15      0.14      0.15       138\n",
      "   Saphan_Taksin       0.12      0.12      0.12       120\n",
      "            Siam       0.14      0.13      0.13       138\n",
      "         Surasak       0.13      0.12      0.13        90\n",
      "\n",
      "        accuracy                           0.13       834\n",
      "       macro avg       0.12      0.13      0.12       834\n",
      "    weighted avg       0.13      0.13      0.13       834\n",
      "\n",
      "Confusion Matrix:\n",
      " [[ 5 10  6  3  8  7  4  5]\n",
      " [13 19 20  9 17 15 22 11]\n",
      " [ 4 15 13  8 12 24 20 12]\n",
      " [10  9  6  7 14 11  6  3]\n",
      " [14 20  9 13 20 18 28 16]\n",
      " [ 9 21 10 12 19 15 19 15]\n",
      " [ 7 27 19 15 26 17 18  9]\n",
      " [ 4 16 10  6 16 14 13 11]]\n"
     ]
    }
   ],
   "source": [
    "# Step B4: Evaluate naive model with option 2\n",
    "# Randomly predicts one of the 8 stations, based on the frequency of the stations in the training set.\n",
    "naive_2_accuracy = predict_naive_evaluate_test_set(2, y_train_full, y_test)"
   ]
  }
 ],
 "metadata": {
  "kernelspec": {
   "display_name": ".venv",
   "language": "python",
   "name": "python3"
  },
  "language_info": {
   "codemirror_mode": {
    "name": "ipython",
    "version": 3
   },
   "file_extension": ".py",
   "mimetype": "text/x-python",
   "name": "python",
   "nbconvert_exporter": "python",
   "pygments_lexer": "ipython3",
   "version": "3.10.11"
  }
 },
 "nbformat": 4,
 "nbformat_minor": 5
}
